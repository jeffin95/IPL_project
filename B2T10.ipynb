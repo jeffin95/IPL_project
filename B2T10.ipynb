{
 "cells": [
  {
   "cell_type": "code",
   "execution_count": 1,
   "metadata": {
    "id": "BqQYOIH_qnxs"
   },
   "outputs": [],
   "source": [
    "import pandas as pd\n",
    "import numpy as np\n",
    "import matplotlib.pyplot as plt\n",
    "import seaborn as sns"
   ]
  },
  {
   "cell_type": "markdown",
   "metadata": {
    "id": "FRl8nux4sWfT"
   },
   "source": [
    "**Importing Dataset**"
   ]
  },
  {
   "cell_type": "code",
   "execution_count": 2,
   "metadata": {
    "id": "bX2HNvZ4x9_X"
   },
   "outputs": [],
   "source": [
    "match = pd.read_csv(\"D:\\Data Science\\Project\\Dataset\\matches.csv\")\n",
    "delivery = pd.read_csv(\"D:\\Data Science\\Project\\Dataset\\deliveries.csv\")"
   ]
  },
  {
   "cell_type": "code",
   "execution_count": 3,
   "metadata": {
    "colab": {
     "base_uri": "https://localhost:8080/",
     "height": 473
    },
    "id": "rM3rv8z6tSMF",
    "outputId": "58001eed-8474-442f-b9e9-f0729746aa23"
   },
   "outputs": [
    {
     "data": {
      "text/html": [
       "<div>\n",
       "<style scoped>\n",
       "    .dataframe tbody tr th:only-of-type {\n",
       "        vertical-align: middle;\n",
       "    }\n",
       "\n",
       "    .dataframe tbody tr th {\n",
       "        vertical-align: top;\n",
       "    }\n",
       "\n",
       "    .dataframe thead th {\n",
       "        text-align: right;\n",
       "    }\n",
       "</style>\n",
       "<table border=\"1\" class=\"dataframe\">\n",
       "  <thead>\n",
       "    <tr style=\"text-align: right;\">\n",
       "      <th></th>\n",
       "      <th>match_id</th>\n",
       "      <th>inning</th>\n",
       "      <th>batting_team</th>\n",
       "      <th>bowling_team</th>\n",
       "      <th>over</th>\n",
       "      <th>ball</th>\n",
       "      <th>batsman</th>\n",
       "      <th>non_striker</th>\n",
       "      <th>bowler</th>\n",
       "      <th>is_super_over</th>\n",
       "      <th>...</th>\n",
       "      <th>bye_runs</th>\n",
       "      <th>legbye_runs</th>\n",
       "      <th>noball_runs</th>\n",
       "      <th>penalty_runs</th>\n",
       "      <th>batsman_runs</th>\n",
       "      <th>extra_runs</th>\n",
       "      <th>total_runs</th>\n",
       "      <th>player_dismissed</th>\n",
       "      <th>dismissal_kind</th>\n",
       "      <th>fielder</th>\n",
       "    </tr>\n",
       "  </thead>\n",
       "  <tbody>\n",
       "    <tr>\n",
       "      <th>0</th>\n",
       "      <td>1</td>\n",
       "      <td>1</td>\n",
       "      <td>Sunrisers Hyderabad</td>\n",
       "      <td>Royal Challengers Bangalore</td>\n",
       "      <td>1</td>\n",
       "      <td>1</td>\n",
       "      <td>DA Warner</td>\n",
       "      <td>S Dhawan</td>\n",
       "      <td>TS Mills</td>\n",
       "      <td>0</td>\n",
       "      <td>...</td>\n",
       "      <td>0</td>\n",
       "      <td>0</td>\n",
       "      <td>0</td>\n",
       "      <td>0</td>\n",
       "      <td>0</td>\n",
       "      <td>0</td>\n",
       "      <td>0</td>\n",
       "      <td>NaN</td>\n",
       "      <td>NaN</td>\n",
       "      <td>NaN</td>\n",
       "    </tr>\n",
       "    <tr>\n",
       "      <th>1</th>\n",
       "      <td>1</td>\n",
       "      <td>1</td>\n",
       "      <td>Sunrisers Hyderabad</td>\n",
       "      <td>Royal Challengers Bangalore</td>\n",
       "      <td>1</td>\n",
       "      <td>2</td>\n",
       "      <td>DA Warner</td>\n",
       "      <td>S Dhawan</td>\n",
       "      <td>TS Mills</td>\n",
       "      <td>0</td>\n",
       "      <td>...</td>\n",
       "      <td>0</td>\n",
       "      <td>0</td>\n",
       "      <td>0</td>\n",
       "      <td>0</td>\n",
       "      <td>0</td>\n",
       "      <td>0</td>\n",
       "      <td>0</td>\n",
       "      <td>NaN</td>\n",
       "      <td>NaN</td>\n",
       "      <td>NaN</td>\n",
       "    </tr>\n",
       "    <tr>\n",
       "      <th>2</th>\n",
       "      <td>1</td>\n",
       "      <td>1</td>\n",
       "      <td>Sunrisers Hyderabad</td>\n",
       "      <td>Royal Challengers Bangalore</td>\n",
       "      <td>1</td>\n",
       "      <td>3</td>\n",
       "      <td>DA Warner</td>\n",
       "      <td>S Dhawan</td>\n",
       "      <td>TS Mills</td>\n",
       "      <td>0</td>\n",
       "      <td>...</td>\n",
       "      <td>0</td>\n",
       "      <td>0</td>\n",
       "      <td>0</td>\n",
       "      <td>0</td>\n",
       "      <td>4</td>\n",
       "      <td>0</td>\n",
       "      <td>4</td>\n",
       "      <td>NaN</td>\n",
       "      <td>NaN</td>\n",
       "      <td>NaN</td>\n",
       "    </tr>\n",
       "    <tr>\n",
       "      <th>3</th>\n",
       "      <td>1</td>\n",
       "      <td>1</td>\n",
       "      <td>Sunrisers Hyderabad</td>\n",
       "      <td>Royal Challengers Bangalore</td>\n",
       "      <td>1</td>\n",
       "      <td>4</td>\n",
       "      <td>DA Warner</td>\n",
       "      <td>S Dhawan</td>\n",
       "      <td>TS Mills</td>\n",
       "      <td>0</td>\n",
       "      <td>...</td>\n",
       "      <td>0</td>\n",
       "      <td>0</td>\n",
       "      <td>0</td>\n",
       "      <td>0</td>\n",
       "      <td>0</td>\n",
       "      <td>0</td>\n",
       "      <td>0</td>\n",
       "      <td>NaN</td>\n",
       "      <td>NaN</td>\n",
       "      <td>NaN</td>\n",
       "    </tr>\n",
       "    <tr>\n",
       "      <th>4</th>\n",
       "      <td>1</td>\n",
       "      <td>1</td>\n",
       "      <td>Sunrisers Hyderabad</td>\n",
       "      <td>Royal Challengers Bangalore</td>\n",
       "      <td>1</td>\n",
       "      <td>5</td>\n",
       "      <td>DA Warner</td>\n",
       "      <td>S Dhawan</td>\n",
       "      <td>TS Mills</td>\n",
       "      <td>0</td>\n",
       "      <td>...</td>\n",
       "      <td>0</td>\n",
       "      <td>0</td>\n",
       "      <td>0</td>\n",
       "      <td>0</td>\n",
       "      <td>0</td>\n",
       "      <td>2</td>\n",
       "      <td>2</td>\n",
       "      <td>NaN</td>\n",
       "      <td>NaN</td>\n",
       "      <td>NaN</td>\n",
       "    </tr>\n",
       "  </tbody>\n",
       "</table>\n",
       "<p>5 rows × 21 columns</p>\n",
       "</div>"
      ],
      "text/plain": [
       "   match_id  inning         batting_team                 bowling_team  over  \\\n",
       "0         1       1  Sunrisers Hyderabad  Royal Challengers Bangalore     1   \n",
       "1         1       1  Sunrisers Hyderabad  Royal Challengers Bangalore     1   \n",
       "2         1       1  Sunrisers Hyderabad  Royal Challengers Bangalore     1   \n",
       "3         1       1  Sunrisers Hyderabad  Royal Challengers Bangalore     1   \n",
       "4         1       1  Sunrisers Hyderabad  Royal Challengers Bangalore     1   \n",
       "\n",
       "   ball    batsman non_striker    bowler  is_super_over  ...  bye_runs  \\\n",
       "0     1  DA Warner    S Dhawan  TS Mills              0  ...         0   \n",
       "1     2  DA Warner    S Dhawan  TS Mills              0  ...         0   \n",
       "2     3  DA Warner    S Dhawan  TS Mills              0  ...         0   \n",
       "3     4  DA Warner    S Dhawan  TS Mills              0  ...         0   \n",
       "4     5  DA Warner    S Dhawan  TS Mills              0  ...         0   \n",
       "\n",
       "   legbye_runs  noball_runs  penalty_runs  batsman_runs  extra_runs  \\\n",
       "0            0            0             0             0           0   \n",
       "1            0            0             0             0           0   \n",
       "2            0            0             0             4           0   \n",
       "3            0            0             0             0           0   \n",
       "4            0            0             0             0           2   \n",
       "\n",
       "   total_runs  player_dismissed dismissal_kind fielder  \n",
       "0           0               NaN            NaN     NaN  \n",
       "1           0               NaN            NaN     NaN  \n",
       "2           4               NaN            NaN     NaN  \n",
       "3           0               NaN            NaN     NaN  \n",
       "4           2               NaN            NaN     NaN  \n",
       "\n",
       "[5 rows x 21 columns]"
      ]
     },
     "execution_count": 3,
     "metadata": {},
     "output_type": "execute_result"
    }
   ],
   "source": [
    "delivery.head()"
   ]
  },
  {
   "cell_type": "code",
   "execution_count": 4,
   "metadata": {
    "colab": {
     "base_uri": "https://localhost:8080/",
     "height": 478
    },
    "id": "3Ue_9hQntYYA",
    "outputId": "5f7d32b6-c5a6-495b-fc04-5a137c4a9ce2"
   },
   "outputs": [
    {
     "data": {
      "text/html": [
       "<div>\n",
       "<style scoped>\n",
       "    .dataframe tbody tr th:only-of-type {\n",
       "        vertical-align: middle;\n",
       "    }\n",
       "\n",
       "    .dataframe tbody tr th {\n",
       "        vertical-align: top;\n",
       "    }\n",
       "\n",
       "    .dataframe thead th {\n",
       "        text-align: right;\n",
       "    }\n",
       "</style>\n",
       "<table border=\"1\" class=\"dataframe\">\n",
       "  <thead>\n",
       "    <tr style=\"text-align: right;\">\n",
       "      <th></th>\n",
       "      <th>id</th>\n",
       "      <th>season</th>\n",
       "      <th>city</th>\n",
       "      <th>date</th>\n",
       "      <th>team1</th>\n",
       "      <th>team2</th>\n",
       "      <th>toss_winner</th>\n",
       "      <th>toss_decision</th>\n",
       "      <th>result</th>\n",
       "      <th>dl_applied</th>\n",
       "      <th>winner</th>\n",
       "      <th>win_by_runs</th>\n",
       "      <th>win_by_wickets</th>\n",
       "      <th>player_of_match</th>\n",
       "      <th>venue</th>\n",
       "      <th>umpire1</th>\n",
       "      <th>umpire2</th>\n",
       "      <th>umpire3</th>\n",
       "    </tr>\n",
       "  </thead>\n",
       "  <tbody>\n",
       "    <tr>\n",
       "      <th>0</th>\n",
       "      <td>60</td>\n",
       "      <td>2008</td>\n",
       "      <td>Bangalore</td>\n",
       "      <td>18-04-2008</td>\n",
       "      <td>Kolkata Knight Riders</td>\n",
       "      <td>Royal Challengers Bangalore</td>\n",
       "      <td>Royal Challengers Bangalore</td>\n",
       "      <td>field</td>\n",
       "      <td>normal</td>\n",
       "      <td>0</td>\n",
       "      <td>Kolkata Knight Riders</td>\n",
       "      <td>140</td>\n",
       "      <td>0</td>\n",
       "      <td>BB McCullum</td>\n",
       "      <td>M. Chinnaswamy Stadium</td>\n",
       "      <td>Asad Rauf</td>\n",
       "      <td>RE Koertzen</td>\n",
       "      <td>NaN</td>\n",
       "    </tr>\n",
       "    <tr>\n",
       "      <th>1</th>\n",
       "      <td>61</td>\n",
       "      <td>2008</td>\n",
       "      <td>Chandigarh</td>\n",
       "      <td>19-04-2008</td>\n",
       "      <td>Chennai Super Kings</td>\n",
       "      <td>Kings XI Punjab</td>\n",
       "      <td>Chennai Super Kings</td>\n",
       "      <td>bat</td>\n",
       "      <td>normal</td>\n",
       "      <td>0</td>\n",
       "      <td>Chennai Super Kings</td>\n",
       "      <td>33</td>\n",
       "      <td>0</td>\n",
       "      <td>MEK Hussey</td>\n",
       "      <td>Punjab Cricket Association IS Bindra Stadium</td>\n",
       "      <td>MR Benson</td>\n",
       "      <td>SL Shastri</td>\n",
       "      <td>NaN</td>\n",
       "    </tr>\n",
       "    <tr>\n",
       "      <th>2</th>\n",
       "      <td>62</td>\n",
       "      <td>2008</td>\n",
       "      <td>Delhi</td>\n",
       "      <td>19-04-2008</td>\n",
       "      <td>Rajasthan Royals</td>\n",
       "      <td>Delhi Daredevils</td>\n",
       "      <td>Rajasthan Royals</td>\n",
       "      <td>bat</td>\n",
       "      <td>normal</td>\n",
       "      <td>0</td>\n",
       "      <td>Delhi Daredevils</td>\n",
       "      <td>0</td>\n",
       "      <td>9</td>\n",
       "      <td>MF Maharoof</td>\n",
       "      <td>Feroz Shah Kotla</td>\n",
       "      <td>Aleem Dar</td>\n",
       "      <td>GA Pratapkumar</td>\n",
       "      <td>NaN</td>\n",
       "    </tr>\n",
       "    <tr>\n",
       "      <th>3</th>\n",
       "      <td>63</td>\n",
       "      <td>2008</td>\n",
       "      <td>Mumbai</td>\n",
       "      <td>20-04-2008</td>\n",
       "      <td>Mumbai Indians</td>\n",
       "      <td>Royal Challengers Bangalore</td>\n",
       "      <td>Mumbai Indians</td>\n",
       "      <td>bat</td>\n",
       "      <td>normal</td>\n",
       "      <td>0</td>\n",
       "      <td>Royal Challengers Bangalore</td>\n",
       "      <td>0</td>\n",
       "      <td>5</td>\n",
       "      <td>MV Boucher</td>\n",
       "      <td>Wankhede Stadium</td>\n",
       "      <td>SJ Davis</td>\n",
       "      <td>DJ Harper</td>\n",
       "      <td>NaN</td>\n",
       "    </tr>\n",
       "    <tr>\n",
       "      <th>4</th>\n",
       "      <td>64</td>\n",
       "      <td>2008</td>\n",
       "      <td>Kolkata</td>\n",
       "      <td>20-04-2008</td>\n",
       "      <td>Deccan Chargers</td>\n",
       "      <td>Kolkata Knight Riders</td>\n",
       "      <td>Deccan Chargers</td>\n",
       "      <td>bat</td>\n",
       "      <td>normal</td>\n",
       "      <td>0</td>\n",
       "      <td>Kolkata Knight Riders</td>\n",
       "      <td>0</td>\n",
       "      <td>5</td>\n",
       "      <td>DJ Hussey</td>\n",
       "      <td>Eden Gardens</td>\n",
       "      <td>BF Bowden</td>\n",
       "      <td>K Hariharan</td>\n",
       "      <td>NaN</td>\n",
       "    </tr>\n",
       "  </tbody>\n",
       "</table>\n",
       "</div>"
      ],
      "text/plain": [
       "   id  season        city        date                  team1  \\\n",
       "0  60    2008   Bangalore  18-04-2008  Kolkata Knight Riders   \n",
       "1  61    2008  Chandigarh  19-04-2008    Chennai Super Kings   \n",
       "2  62    2008       Delhi  19-04-2008       Rajasthan Royals   \n",
       "3  63    2008      Mumbai  20-04-2008         Mumbai Indians   \n",
       "4  64    2008     Kolkata  20-04-2008        Deccan Chargers   \n",
       "\n",
       "                         team2                  toss_winner toss_decision  \\\n",
       "0  Royal Challengers Bangalore  Royal Challengers Bangalore         field   \n",
       "1              Kings XI Punjab          Chennai Super Kings           bat   \n",
       "2             Delhi Daredevils             Rajasthan Royals           bat   \n",
       "3  Royal Challengers Bangalore               Mumbai Indians           bat   \n",
       "4        Kolkata Knight Riders              Deccan Chargers           bat   \n",
       "\n",
       "   result  dl_applied                       winner  win_by_runs  \\\n",
       "0  normal           0        Kolkata Knight Riders          140   \n",
       "1  normal           0          Chennai Super Kings           33   \n",
       "2  normal           0             Delhi Daredevils            0   \n",
       "3  normal           0  Royal Challengers Bangalore            0   \n",
       "4  normal           0        Kolkata Knight Riders            0   \n",
       "\n",
       "   win_by_wickets player_of_match  \\\n",
       "0               0     BB McCullum   \n",
       "1               0      MEK Hussey   \n",
       "2               9     MF Maharoof   \n",
       "3               5      MV Boucher   \n",
       "4               5       DJ Hussey   \n",
       "\n",
       "                                          venue    umpire1         umpire2  \\\n",
       "0                        M. Chinnaswamy Stadium  Asad Rauf     RE Koertzen   \n",
       "1  Punjab Cricket Association IS Bindra Stadium  MR Benson      SL Shastri   \n",
       "2                              Feroz Shah Kotla  Aleem Dar  GA Pratapkumar   \n",
       "3                              Wankhede Stadium   SJ Davis       DJ Harper   \n",
       "4                                  Eden Gardens  BF Bowden     K Hariharan   \n",
       "\n",
       "  umpire3  \n",
       "0     NaN  \n",
       "1     NaN  \n",
       "2     NaN  \n",
       "3     NaN  \n",
       "4     NaN  "
      ]
     },
     "execution_count": 4,
     "metadata": {},
     "output_type": "execute_result"
    }
   ],
   "source": [
    "match.head()"
   ]
  },
  {
   "cell_type": "code",
   "execution_count": 5,
   "metadata": {
    "colab": {
     "base_uri": "https://localhost:8080/"
    },
    "id": "6Qt66R0mtarN",
    "outputId": "a5fe42e7-a735-4bfa-e66f-76e9f92b7551"
   },
   "outputs": [
    {
     "data": {
      "text/plain": [
       "(179078, 21)"
      ]
     },
     "execution_count": 5,
     "metadata": {},
     "output_type": "execute_result"
    }
   ],
   "source": [
    "delivery.shape"
   ]
  },
  {
   "cell_type": "code",
   "execution_count": 6,
   "metadata": {
    "colab": {
     "base_uri": "https://localhost:8080/"
    },
    "id": "YPQ1L1IDtc-M",
    "outputId": "5bea3767-6817-45ae-dfc0-724c0e2a23b7"
   },
   "outputs": [
    {
     "data": {
      "text/plain": [
       "(756, 18)"
      ]
     },
     "execution_count": 6,
     "metadata": {},
     "output_type": "execute_result"
    }
   ],
   "source": [
    "match.shape"
   ]
  },
  {
   "cell_type": "code",
   "execution_count": 7,
   "metadata": {
    "colab": {
     "base_uri": "https://localhost:8080/"
    },
    "id": "LGEGQKLHtfXv",
    "outputId": "716f71f8-fc3c-49c6-e350-16ee1d4264d5"
   },
   "outputs": [
    {
     "data": {
      "text/plain": [
       "match_id                 0\n",
       "inning                   0\n",
       "batting_team             0\n",
       "bowling_team             0\n",
       "over                     0\n",
       "ball                     0\n",
       "batsman                  0\n",
       "non_striker              0\n",
       "bowler                   0\n",
       "is_super_over            0\n",
       "wide_runs                0\n",
       "bye_runs                 0\n",
       "legbye_runs              0\n",
       "noball_runs              0\n",
       "penalty_runs             0\n",
       "batsman_runs             0\n",
       "extra_runs               0\n",
       "total_runs               0\n",
       "player_dismissed    170244\n",
       "dismissal_kind      170244\n",
       "fielder             172630\n",
       "dtype: int64"
      ]
     },
     "execution_count": 7,
     "metadata": {},
     "output_type": "execute_result"
    }
   ],
   "source": [
    "delivery.isna().sum()"
   ]
  },
  {
   "cell_type": "code",
   "execution_count": 8,
   "metadata": {
    "colab": {
     "base_uri": "https://localhost:8080/"
    },
    "id": "Hnl9ZQ0_tssJ",
    "outputId": "9213c591-b577-438f-8d40-04241505ba6f"
   },
   "outputs": [
    {
     "data": {
      "text/plain": [
       "id                   0\n",
       "season               0\n",
       "city                 7\n",
       "date                 0\n",
       "team1                0\n",
       "team2                0\n",
       "toss_winner          0\n",
       "toss_decision        0\n",
       "result               0\n",
       "dl_applied           0\n",
       "winner               4\n",
       "win_by_runs          0\n",
       "win_by_wickets       0\n",
       "player_of_match      4\n",
       "venue                0\n",
       "umpire1              2\n",
       "umpire2              2\n",
       "umpire3            637\n",
       "dtype: int64"
      ]
     },
     "execution_count": 8,
     "metadata": {},
     "output_type": "execute_result"
    }
   ],
   "source": [
    "match.isna().sum()"
   ]
  },
  {
   "cell_type": "code",
   "execution_count": 9,
   "metadata": {
    "colab": {
     "base_uri": "https://localhost:8080/",
     "height": 364
    },
    "id": "zPYW1Yb0tyl6",
    "outputId": "900a65b0-12a9-494a-9295-ca1b8c9d29f5"
   },
   "outputs": [
    {
     "data": {
      "text/html": [
       "<div>\n",
       "<style scoped>\n",
       "    .dataframe tbody tr th:only-of-type {\n",
       "        vertical-align: middle;\n",
       "    }\n",
       "\n",
       "    .dataframe tbody tr th {\n",
       "        vertical-align: top;\n",
       "    }\n",
       "\n",
       "    .dataframe thead th {\n",
       "        text-align: right;\n",
       "    }\n",
       "</style>\n",
       "<table border=\"1\" class=\"dataframe\">\n",
       "  <thead>\n",
       "    <tr style=\"text-align: right;\">\n",
       "      <th></th>\n",
       "      <th>match_id</th>\n",
       "      <th>inning</th>\n",
       "      <th>over</th>\n",
       "      <th>ball</th>\n",
       "      <th>is_super_over</th>\n",
       "      <th>wide_runs</th>\n",
       "      <th>bye_runs</th>\n",
       "      <th>legbye_runs</th>\n",
       "      <th>noball_runs</th>\n",
       "      <th>penalty_runs</th>\n",
       "      <th>batsman_runs</th>\n",
       "      <th>extra_runs</th>\n",
       "      <th>total_runs</th>\n",
       "    </tr>\n",
       "  </thead>\n",
       "  <tbody>\n",
       "    <tr>\n",
       "      <th>count</th>\n",
       "      <td>179078.000000</td>\n",
       "      <td>179078.000000</td>\n",
       "      <td>179078.000000</td>\n",
       "      <td>179078.000000</td>\n",
       "      <td>179078.000000</td>\n",
       "      <td>179078.000000</td>\n",
       "      <td>179078.000000</td>\n",
       "      <td>179078.000000</td>\n",
       "      <td>179078.000000</td>\n",
       "      <td>179078.000000</td>\n",
       "      <td>179078.000000</td>\n",
       "      <td>179078.000000</td>\n",
       "      <td>179078.000000</td>\n",
       "    </tr>\n",
       "    <tr>\n",
       "      <th>mean</th>\n",
       "      <td>1802.252957</td>\n",
       "      <td>1.482952</td>\n",
       "      <td>10.162488</td>\n",
       "      <td>3.615587</td>\n",
       "      <td>0.000452</td>\n",
       "      <td>0.036721</td>\n",
       "      <td>0.004936</td>\n",
       "      <td>0.021136</td>\n",
       "      <td>0.004183</td>\n",
       "      <td>0.000056</td>\n",
       "      <td>1.246864</td>\n",
       "      <td>0.067032</td>\n",
       "      <td>1.313897</td>\n",
       "    </tr>\n",
       "    <tr>\n",
       "      <th>std</th>\n",
       "      <td>3472.322805</td>\n",
       "      <td>0.502074</td>\n",
       "      <td>5.677684</td>\n",
       "      <td>1.806966</td>\n",
       "      <td>0.021263</td>\n",
       "      <td>0.251161</td>\n",
       "      <td>0.116480</td>\n",
       "      <td>0.194908</td>\n",
       "      <td>0.070492</td>\n",
       "      <td>0.016709</td>\n",
       "      <td>1.608270</td>\n",
       "      <td>0.342553</td>\n",
       "      <td>1.605422</td>\n",
       "    </tr>\n",
       "    <tr>\n",
       "      <th>min</th>\n",
       "      <td>1.000000</td>\n",
       "      <td>1.000000</td>\n",
       "      <td>1.000000</td>\n",
       "      <td>1.000000</td>\n",
       "      <td>0.000000</td>\n",
       "      <td>0.000000</td>\n",
       "      <td>0.000000</td>\n",
       "      <td>0.000000</td>\n",
       "      <td>0.000000</td>\n",
       "      <td>0.000000</td>\n",
       "      <td>0.000000</td>\n",
       "      <td>0.000000</td>\n",
       "      <td>0.000000</td>\n",
       "    </tr>\n",
       "    <tr>\n",
       "      <th>25%</th>\n",
       "      <td>190.000000</td>\n",
       "      <td>1.000000</td>\n",
       "      <td>5.000000</td>\n",
       "      <td>2.000000</td>\n",
       "      <td>0.000000</td>\n",
       "      <td>0.000000</td>\n",
       "      <td>0.000000</td>\n",
       "      <td>0.000000</td>\n",
       "      <td>0.000000</td>\n",
       "      <td>0.000000</td>\n",
       "      <td>0.000000</td>\n",
       "      <td>0.000000</td>\n",
       "      <td>0.000000</td>\n",
       "    </tr>\n",
       "    <tr>\n",
       "      <th>50%</th>\n",
       "      <td>379.000000</td>\n",
       "      <td>1.000000</td>\n",
       "      <td>10.000000</td>\n",
       "      <td>4.000000</td>\n",
       "      <td>0.000000</td>\n",
       "      <td>0.000000</td>\n",
       "      <td>0.000000</td>\n",
       "      <td>0.000000</td>\n",
       "      <td>0.000000</td>\n",
       "      <td>0.000000</td>\n",
       "      <td>1.000000</td>\n",
       "      <td>0.000000</td>\n",
       "      <td>1.000000</td>\n",
       "    </tr>\n",
       "    <tr>\n",
       "      <th>75%</th>\n",
       "      <td>567.000000</td>\n",
       "      <td>2.000000</td>\n",
       "      <td>15.000000</td>\n",
       "      <td>5.000000</td>\n",
       "      <td>0.000000</td>\n",
       "      <td>0.000000</td>\n",
       "      <td>0.000000</td>\n",
       "      <td>0.000000</td>\n",
       "      <td>0.000000</td>\n",
       "      <td>0.000000</td>\n",
       "      <td>1.000000</td>\n",
       "      <td>0.000000</td>\n",
       "      <td>1.000000</td>\n",
       "    </tr>\n",
       "    <tr>\n",
       "      <th>max</th>\n",
       "      <td>11415.000000</td>\n",
       "      <td>5.000000</td>\n",
       "      <td>20.000000</td>\n",
       "      <td>9.000000</td>\n",
       "      <td>1.000000</td>\n",
       "      <td>5.000000</td>\n",
       "      <td>4.000000</td>\n",
       "      <td>5.000000</td>\n",
       "      <td>5.000000</td>\n",
       "      <td>5.000000</td>\n",
       "      <td>7.000000</td>\n",
       "      <td>7.000000</td>\n",
       "      <td>10.000000</td>\n",
       "    </tr>\n",
       "  </tbody>\n",
       "</table>\n",
       "</div>"
      ],
      "text/plain": [
       "            match_id         inning           over           ball  \\\n",
       "count  179078.000000  179078.000000  179078.000000  179078.000000   \n",
       "mean     1802.252957       1.482952      10.162488       3.615587   \n",
       "std      3472.322805       0.502074       5.677684       1.806966   \n",
       "min         1.000000       1.000000       1.000000       1.000000   \n",
       "25%       190.000000       1.000000       5.000000       2.000000   \n",
       "50%       379.000000       1.000000      10.000000       4.000000   \n",
       "75%       567.000000       2.000000      15.000000       5.000000   \n",
       "max     11415.000000       5.000000      20.000000       9.000000   \n",
       "\n",
       "       is_super_over      wide_runs       bye_runs    legbye_runs  \\\n",
       "count  179078.000000  179078.000000  179078.000000  179078.000000   \n",
       "mean        0.000452       0.036721       0.004936       0.021136   \n",
       "std         0.021263       0.251161       0.116480       0.194908   \n",
       "min         0.000000       0.000000       0.000000       0.000000   \n",
       "25%         0.000000       0.000000       0.000000       0.000000   \n",
       "50%         0.000000       0.000000       0.000000       0.000000   \n",
       "75%         0.000000       0.000000       0.000000       0.000000   \n",
       "max         1.000000       5.000000       4.000000       5.000000   \n",
       "\n",
       "         noball_runs   penalty_runs   batsman_runs     extra_runs  \\\n",
       "count  179078.000000  179078.000000  179078.000000  179078.000000   \n",
       "mean        0.004183       0.000056       1.246864       0.067032   \n",
       "std         0.070492       0.016709       1.608270       0.342553   \n",
       "min         0.000000       0.000000       0.000000       0.000000   \n",
       "25%         0.000000       0.000000       0.000000       0.000000   \n",
       "50%         0.000000       0.000000       1.000000       0.000000   \n",
       "75%         0.000000       0.000000       1.000000       0.000000   \n",
       "max         5.000000       5.000000       7.000000       7.000000   \n",
       "\n",
       "          total_runs  \n",
       "count  179078.000000  \n",
       "mean        1.313897  \n",
       "std         1.605422  \n",
       "min         0.000000  \n",
       "25%         0.000000  \n",
       "50%         1.000000  \n",
       "75%         1.000000  \n",
       "max        10.000000  "
      ]
     },
     "execution_count": 9,
     "metadata": {},
     "output_type": "execute_result"
    }
   ],
   "source": [
    "delivery.describe()"
   ]
  },
  {
   "cell_type": "code",
   "execution_count": 10,
   "metadata": {
    "colab": {
     "base_uri": "https://localhost:8080/",
     "height": 300
    },
    "id": "fKCXQUL3t4kj",
    "outputId": "01671b03-63f7-4c76-88f0-d4b1982db053"
   },
   "outputs": [
    {
     "data": {
      "text/html": [
       "<div>\n",
       "<style scoped>\n",
       "    .dataframe tbody tr th:only-of-type {\n",
       "        vertical-align: middle;\n",
       "    }\n",
       "\n",
       "    .dataframe tbody tr th {\n",
       "        vertical-align: top;\n",
       "    }\n",
       "\n",
       "    .dataframe thead th {\n",
       "        text-align: right;\n",
       "    }\n",
       "</style>\n",
       "<table border=\"1\" class=\"dataframe\">\n",
       "  <thead>\n",
       "    <tr style=\"text-align: right;\">\n",
       "      <th></th>\n",
       "      <th>id</th>\n",
       "      <th>season</th>\n",
       "      <th>dl_applied</th>\n",
       "      <th>win_by_runs</th>\n",
       "      <th>win_by_wickets</th>\n",
       "    </tr>\n",
       "  </thead>\n",
       "  <tbody>\n",
       "    <tr>\n",
       "      <th>count</th>\n",
       "      <td>756.000000</td>\n",
       "      <td>756.000000</td>\n",
       "      <td>756.000000</td>\n",
       "      <td>756.000000</td>\n",
       "      <td>756.000000</td>\n",
       "    </tr>\n",
       "    <tr>\n",
       "      <th>mean</th>\n",
       "      <td>1792.178571</td>\n",
       "      <td>2013.444444</td>\n",
       "      <td>0.025132</td>\n",
       "      <td>13.283069</td>\n",
       "      <td>3.350529</td>\n",
       "    </tr>\n",
       "    <tr>\n",
       "      <th>std</th>\n",
       "      <td>3464.478148</td>\n",
       "      <td>3.366895</td>\n",
       "      <td>0.156630</td>\n",
       "      <td>23.471144</td>\n",
       "      <td>3.387963</td>\n",
       "    </tr>\n",
       "    <tr>\n",
       "      <th>min</th>\n",
       "      <td>1.000000</td>\n",
       "      <td>2008.000000</td>\n",
       "      <td>0.000000</td>\n",
       "      <td>0.000000</td>\n",
       "      <td>0.000000</td>\n",
       "    </tr>\n",
       "    <tr>\n",
       "      <th>25%</th>\n",
       "      <td>189.750000</td>\n",
       "      <td>2011.000000</td>\n",
       "      <td>0.000000</td>\n",
       "      <td>0.000000</td>\n",
       "      <td>0.000000</td>\n",
       "    </tr>\n",
       "    <tr>\n",
       "      <th>50%</th>\n",
       "      <td>378.500000</td>\n",
       "      <td>2013.000000</td>\n",
       "      <td>0.000000</td>\n",
       "      <td>0.000000</td>\n",
       "      <td>4.000000</td>\n",
       "    </tr>\n",
       "    <tr>\n",
       "      <th>75%</th>\n",
       "      <td>567.250000</td>\n",
       "      <td>2016.000000</td>\n",
       "      <td>0.000000</td>\n",
       "      <td>19.000000</td>\n",
       "      <td>6.000000</td>\n",
       "    </tr>\n",
       "    <tr>\n",
       "      <th>max</th>\n",
       "      <td>11415.000000</td>\n",
       "      <td>2019.000000</td>\n",
       "      <td>1.000000</td>\n",
       "      <td>146.000000</td>\n",
       "      <td>10.000000</td>\n",
       "    </tr>\n",
       "  </tbody>\n",
       "</table>\n",
       "</div>"
      ],
      "text/plain": [
       "                 id       season  dl_applied  win_by_runs  win_by_wickets\n",
       "count    756.000000   756.000000  756.000000   756.000000      756.000000\n",
       "mean    1792.178571  2013.444444    0.025132    13.283069        3.350529\n",
       "std     3464.478148     3.366895    0.156630    23.471144        3.387963\n",
       "min        1.000000  2008.000000    0.000000     0.000000        0.000000\n",
       "25%      189.750000  2011.000000    0.000000     0.000000        0.000000\n",
       "50%      378.500000  2013.000000    0.000000     0.000000        4.000000\n",
       "75%      567.250000  2016.000000    0.000000    19.000000        6.000000\n",
       "max    11415.000000  2019.000000    1.000000   146.000000       10.000000"
      ]
     },
     "execution_count": 10,
     "metadata": {},
     "output_type": "execute_result"
    }
   ],
   "source": [
    "match.describe()"
   ]
  },
  {
   "cell_type": "code",
   "execution_count": 11,
   "metadata": {
    "colab": {
     "base_uri": "https://localhost:8080/"
    },
    "id": "N2i6kp1yt7Xo",
    "outputId": "f00e17dc-68f2-4c79-c925-60a8244cc315"
   },
   "outputs": [
    {
     "data": {
      "text/plain": [
       "Index(['id', 'season', 'city', 'date', 'team1', 'team2', 'toss_winner',\n",
       "       'toss_decision', 'result', 'dl_applied', 'winner', 'win_by_runs',\n",
       "       'win_by_wickets', 'player_of_match', 'venue', 'umpire1', 'umpire2',\n",
       "       'umpire3'],\n",
       "      dtype='object')"
      ]
     },
     "execution_count": 11,
     "metadata": {},
     "output_type": "execute_result"
    }
   ],
   "source": [
    "match.columns"
   ]
  },
  {
   "cell_type": "code",
   "execution_count": 12,
   "metadata": {
    "colab": {
     "base_uri": "https://localhost:8080/"
    },
    "id": "UVKwlvwSFcIx",
    "outputId": "12b512ab-2b24-46dc-da10-2bfbbfe8967e"
   },
   "outputs": [
    {
     "data": {
      "text/plain": [
       "Index(['match_id', 'inning', 'batting_team', 'bowling_team', 'over', 'ball',\n",
       "       'batsman', 'non_striker', 'bowler', 'is_super_over', 'wide_runs',\n",
       "       'bye_runs', 'legbye_runs', 'noball_runs', 'penalty_runs',\n",
       "       'batsman_runs', 'extra_runs', 'total_runs', 'player_dismissed',\n",
       "       'dismissal_kind', 'fielder'],\n",
       "      dtype='object')"
      ]
     },
     "execution_count": 12,
     "metadata": {},
     "output_type": "execute_result"
    }
   ],
   "source": [
    "delivery.columns"
   ]
  },
  {
   "cell_type": "markdown",
   "metadata": {
    "id": "ELTybdPaxJqh"
   },
   "source": [
    "### **EDA**\n",
    "\n"
   ]
  },
  {
   "cell_type": "markdown",
   "metadata": {
    "id": "WOw24TnVBwtH"
   },
   "source": [
    "**Match Analysis**"
   ]
  },
  {
   "cell_type": "markdown",
   "metadata": {
    "id": "mVAIDPUgwiQt"
   },
   "source": [
    "List of Seasons"
   ]
  },
  {
   "cell_type": "code",
   "execution_count": 13,
   "metadata": {
    "colab": {
     "base_uri": "https://localhost:8080/"
    },
    "id": "RWIxmsbbwaOi",
    "outputId": "54ee4673-4d3d-47f0-8687-dcc3f5b06283"
   },
   "outputs": [
    {
     "data": {
      "text/plain": [
       "array([2008, 2009, 2010, 2011, 2012, 2013, 2014, 2015, 2016, 2017, 2018,\n",
       "       2019], dtype=int64)"
      ]
     },
     "execution_count": 13,
     "metadata": {},
     "output_type": "execute_result"
    }
   ],
   "source": [
    "match['season'].unique()"
   ]
  },
  {
   "cell_type": "markdown",
   "metadata": {
    "id": "qVu9lcJpw9Z3"
   },
   "source": [
    "The data set we have includes the data of each and every match played from season 2008 to 2019"
   ]
  },
  {
   "cell_type": "markdown",
   "metadata": {
    "id": "SLDgN4CvzDpq"
   },
   "source": [
    "First Match of IPL History"
   ]
  },
  {
   "cell_type": "code",
   "execution_count": 14,
   "metadata": {
    "colab": {
     "base_uri": "https://localhost:8080/"
    },
    "id": "q-TxMP5axS6w",
    "outputId": "3f54856e-73d8-488f-cc2c-cad8eafceb9a"
   },
   "outputs": [
    {
     "data": {
      "text/plain": [
       "id                                         119\n",
       "season                                    2009\n",
       "city                                 Cape Town\n",
       "date                                18-04-2009\n",
       "team1              Royal Challengers Bangalore\n",
       "team2                         Rajasthan Royals\n",
       "toss_winner        Royal Challengers Bangalore\n",
       "toss_decision                              bat\n",
       "result                                  normal\n",
       "dl_applied                                   0\n",
       "winner             Royal Challengers Bangalore\n",
       "win_by_runs                                 75\n",
       "win_by_wickets                               0\n",
       "player_of_match                       R Dravid\n",
       "venue                                 Newlands\n",
       "umpire1                            BR Doctrove\n",
       "umpire2                              RB Tiffin\n",
       "umpire3                                    NaN\n",
       "Name: 59, dtype: object"
      ]
     },
     "execution_count": 14,
     "metadata": {},
     "output_type": "execute_result"
    }
   ],
   "source": [
    "match.iloc[59]"
   ]
  },
  {
   "cell_type": "markdown",
   "metadata": {
    "id": "uF2EXhGRzZb4"
   },
   "source": [
    "The first match in the IPL history was held at Chinnaswamy Stadium, Bangalore. And its the home ground of Royal Challengers Bangalore. McCullum was the Man of the Match"
   ]
  },
  {
   "cell_type": "markdown",
   "metadata": {
    "id": "ogbUoIbL9px8"
   },
   "source": [
    "Season Wise IPL Match"
   ]
  },
  {
   "cell_type": "code",
   "execution_count": 15,
   "metadata": {
    "colab": {
     "base_uri": "https://localhost:8080/"
    },
    "id": "vEzRv29Z90Ou",
    "outputId": "f9634fa5-a1dd-4daf-ede0-0dccc81d4eef"
   },
   "outputs": [
    {
     "data": {
      "image/png": "[encoded data removed]",
      "text/plain": [
       "<Figure size 720x576 with 1 Axes>"
      ]
     },
     "metadata": {
      "needs_background": "light"
     },
     "output_type": "display_data"
    }
   ],
   "source": [
    "plt.figure(figsize=(10,8))\n",
    "data = match.groupby(['id','season']).count().index.droplevel(level=0).value_counts().sort_index()\n",
    "sns.barplot(y=data.index,x=data,orient='h')\n",
    "plt.xlabel('Matches Played')\n",
    "plt.ylabel('Season')\n",
    "plt.show()"
   ]
  },
  {
   "cell_type": "markdown",
   "metadata": {
    "id": "qCshnn3p-JFI"
   },
   "source": [
    "Most number of Matches are carried off in 2013, 2012, 2011, which is more than 70"
   ]
  },
  {
   "cell_type": "markdown",
   "metadata": {
    "id": "stbt1b0j-iTW"
   },
   "source": [
    "Most IPL Matches played at a Venue"
   ]
  },
  {
   "cell_type": "code",
   "execution_count": 16,
   "metadata": {
    "colab": {
     "base_uri": "https://localhost:8080/"
    },
    "id": "5lr2OanK-uFg",
    "outputId": "f3e60a64-b990-4070-d217-1670b265af89"
   },
   "outputs": [
    {
     "data": {
      "text/plain": [
       "M. Chinnaswamy Stadium                                 80\n",
       "Eden Gardens                                           77\n",
       "Wankhede Stadium                                       73\n",
       "Feroz Shah Kotla                                       67\n",
       "M. A. Chidambaram Stadium                              57\n",
       "Rajiv Gandhi International Stadium, Uppal              56\n",
       "Punjab Cricket Association IS Bindra Stadium           56\n",
       "Sawai Mansingh Stadium                                 47\n",
       "Maharashtra Cricket Association Stadium                21\n",
       "Dr DY Patil Sports Academy                             17\n",
       "Subrata Roy Sahara Stadium                             17\n",
       "Kingsmead                                              15\n",
       "Dr. Y.S. Rajasekhara Reddy ACA-VDCA Cricket Stadium    13\n",
       "SuperSport Park                                        12\n",
       "Sardar Patel Stadium, Motera                           12\n",
       "Brabourne Stadium                                      11\n",
       "Saurashtra Cricket Association Stadium                 10\n",
       "Holkar Cricket Stadium                                  9\n",
       "Himachal Pradesh Cricket Association Stadium            9\n",
       "New Wanderers Stadium                                   8\n",
       "Rajiv Gandhi Intl. Cricket Stadium                      8\n",
       "St George's Park                                        7\n",
       "Sheikh Zayed Stadium                                    7\n",
       "Barabati Stadium                                        7\n",
       "Newlands                                                7\n",
       "JSCA International Stadium Complex                      7\n",
       "Feroz Shah Kotla Ground                                 7\n",
       "Dubai International Cricket Stadium                     7\n",
       "Shaheed Veer Narayan Singh International Stadium        6\n",
       "Sharjah Cricket Stadium                                 6\n",
       "Nehru Stadium                                           5\n",
       "Green Park                                              4\n",
       "De Beers Diamond Oval                                   3\n",
       "Buffalo Park                                            3\n",
       "Vidarbha Cricket Association Stadium, Jamtha            3\n",
       "OUTsurance Oval                                         2\n",
       "Name: venue, dtype: int64"
      ]
     },
     "execution_count": 16,
     "metadata": {},
     "output_type": "execute_result"
    }
   ],
   "source": [
    "match.groupby(['venue','id']).count().droplevel(level=1).index.value_counts()"
   ]
  },
  {
   "cell_type": "markdown",
   "metadata": {
    "id": "hGsDP7Vu_JZS"
   },
   "source": [
    "IPL Matches Played by Each Team"
   ]
  },
  {
   "cell_type": "code",
   "execution_count": 17,
   "metadata": {
    "colab": {
     "base_uri": "https://localhost:8080/"
    },
    "id": "HrxxXRwj_NOL",
    "outputId": "236cb7e8-bd05-46b8-9316-c95fae40662d"
   },
   "outputs": [
    {
     "data": {
      "image/png": "[encoded data removed]",
      "text/plain": [
       "<Figure size 720x576 with 1 Axes>"
      ]
     },
     "metadata": {
      "needs_background": "light"
     },
     "output_type": "display_data"
    }
   ],
   "source": [
    "plt.figure(figsize=(10,8))\n",
    "data = match['team2'].value_counts().sort_values(ascending=False)\n",
    "sns.barplot(y=data.index,x=data,orient='h')\n",
    "plt.xlabel('Matches Played')\n",
    "plt.ylabel('Team')\n",
    "plt.show()"
   ]
  },
  {
   "cell_type": "markdown",
   "metadata": {
    "id": "kKpJIJhEDQvW"
   },
   "source": [
    "Match Winners"
   ]
  },
  {
   "cell_type": "code",
   "execution_count": 18,
   "metadata": {
    "colab": {
     "base_uri": "https://localhost:8080/"
    },
    "id": "9atV1nZ0s9Uw",
    "outputId": "35b3f827-6c72-4c41-faea-9b4e67e165f9"
   },
   "outputs": [
    {
     "data": {
      "text/plain": [
       "Mumbai Indians                 109\n",
       "Chennai Super Kings            100\n",
       "Kolkata Knight Riders           92\n",
       "Royal Challengers Bangalore     84\n",
       "Kings XI Punjab                 82\n",
       "Rajasthan Royals                75\n",
       "Delhi Daredevils                67\n",
       "Sunrisers Hyderabad             58\n",
       "Deccan Chargers                 29\n",
       "Rising Pune Supergiant          15\n",
       "Gujarat Lions                   13\n",
       "Pune Warriors                   12\n",
       "Delhi Capitals                  10\n",
       "Kochi Tuskers Kerala             6\n",
       "Name: winner, dtype: int64"
      ]
     },
     "execution_count": 18,
     "metadata": {},
     "output_type": "execute_result"
    }
   ],
   "source": [
    "team_success = match['winner'].value_counts()\n",
    "team_success"
   ]
  },
  {
   "cell_type": "markdown",
   "metadata": {
    "id": "8GNxnOi7J4vg"
   },
   "source": [
    "Mumbai Indians is the most successful team as they have secured most of the wins."
   ]
  },
  {
   "cell_type": "markdown",
   "metadata": {
    "id": "EYw46MSKDcxb"
   },
   "source": [
    "**Batting Analysis**"
   ]
  },
  {
   "cell_type": "markdown",
   "metadata": {
    "id": "2y0Q1PUJDtYh"
   },
   "source": [
    "Most Runs Scored By an IPL Team"
   ]
  },
  {
   "cell_type": "code",
   "execution_count": 19,
   "metadata": {
    "colab": {
     "base_uri": "https://localhost:8080/"
    },
    "id": "41zshyOsDzpl",
    "outputId": "54714e28-1990-4289-b32c-add7e5dbb9b1"
   },
   "outputs": [
    {
     "data": {
      "text/plain": [
       "batting_team\n",
       "Mumbai Indians                 29809\n",
       "Royal Challengers Bangalore    28126\n",
       "Kings XI Punjab                27893\n",
       "Kolkata Knight Riders          27419\n",
       "Chennai Super Kings            26418\n",
       "Delhi Daredevils               24388\n",
       "Rajasthan Royals               22431\n",
       "Sunrisers Hyderabad            17059\n",
       "Deccan Chargers                11463\n",
       "Pune Warriors                   6358\n",
       "Gujarat Lions                   4862\n",
       "Rising Pune Supergiant          4533\n",
       "Delhi Capitals                  2630\n",
       "Kochi Tuskers Kerala            1901\n",
       "Name: total_runs, dtype: int64"
      ]
     },
     "execution_count": 19,
     "metadata": {},
     "output_type": "execute_result"
    }
   ],
   "source": [
    "delivery.groupby(['batting_team'])['total_runs'].sum().sort_values(ascending=False)"
   ]
  },
  {
   "cell_type": "code",
   "execution_count": 20,
   "metadata": {
    "colab": {
     "base_uri": "https://localhost:8080/"
    },
    "id": "yNDBWQoRUQ-W",
    "outputId": "435b4315-8052-4c9a-fb49-2180f25a3000"
   },
   "outputs": [
    {
     "data": {
      "image/png": "[encoded data removed]",
      "text/plain": [
       "<Figure size 720x576 with 1 Axes>"
      ]
     },
     "metadata": {
      "needs_background": "light"
     },
     "output_type": "display_data"
    }
   ],
   "source": [
    "plt.figure(figsize=(10,8))\n",
    "delivery.groupby(['batsman','batting_team'])['batsman_runs'].sum().sort_values(ascending=False)[:10]\n",
    "sns.barplot(y=data.index,x=data,orient='h')\n",
    "plt.xlabel('Batsman')\n",
    "plt.ylabel('Runs')\n",
    "plt.show()\n"
   ]
  },
  {
   "cell_type": "markdown",
   "metadata": {
    "id": "bNNX3TVTJfoO"
   },
   "source": [
    "Average Runs by Teams in Powerplay"
   ]
  },
  {
   "cell_type": "code",
   "execution_count": 21,
   "metadata": {
    "colab": {
     "base_uri": "https://localhost:8080/"
    },
    "id": "PKojvIPYJmrG",
    "outputId": "42c4bd61-c162-4ef8-cfec-982c0207f936"
   },
   "outputs": [
    {
     "data": {
      "text/plain": [
       "batting_team\n",
       "Sunrisers Hyderabad            39.759259\n",
       "Kolkata Knight Riders          39.179775\n",
       "Delhi Daredevils               38.440994\n",
       "Kings XI Punjab                38.392045\n",
       "Kochi Tuskers Kerala           38.357143\n",
       "Deccan Chargers                37.586667\n",
       "Rising Pune Supergiant         37.366667\n",
       "Royal Challengers Bangalore    37.355556\n",
       "Rajasthan Royals               37.157534\n",
       "Chennai Super Kings            36.926829\n",
       "Mumbai Indians                 36.818182\n",
       "Pune Warriors                  34.822222\n",
       "Name: total_runs, dtype: float64"
      ]
     },
     "execution_count": 21,
     "metadata": {},
     "output_type": "execute_result"
    }
   ],
   "source": [
    "delivery[delivery['over']<6].groupby(['match_id','batting_team']).sum()['total_runs'].groupby('batting_team').mean().sort_values(ascending=False)[2:]"
   ]
  },
  {
   "cell_type": "markdown",
   "metadata": {
    "id": "SkUfBjfiKMEi"
   },
   "source": [
    "Most IPL Century by a Batsman"
   ]
  },
  {
   "cell_type": "code",
   "execution_count": 22,
   "metadata": {
    "colab": {
     "base_uri": "https://localhost:8080/"
    },
    "id": "jerSMTeBKLlH",
    "outputId": "9d1820be-1fdc-4c07-ecdf-83c3b07dd214"
   },
   "outputs": [
    {
     "data": {
      "text/plain": [
       "batsman\n",
       "CH Gayle          7\n",
       "V Kohli           5\n",
       "DA Warner         4\n",
       "SR Watson         4\n",
       "AB de Villiers    3\n",
       "HM Amla           2\n",
       "AC Gilchrist      2\n",
       "AM Rahane         2\n",
       "V Sehwag          2\n",
       "BB McCullum       2\n",
       "SV Samson         2\n",
       "KL Rahul          2\n",
       "M Vijay           2\n",
       "SPD Smith         1\n",
       "SE Marsh          1\n",
       "Name: batsman_runs, dtype: int64"
      ]
     },
     "execution_count": 22,
     "metadata": {},
     "output_type": "execute_result"
    }
   ],
   "source": [
    "runs = delivery.groupby(['batsman','match_id'])['batsman_runs'].sum()\n",
    "runs[runs >= 100].droplevel(level=1).groupby('batsman').count().sort_values(ascending=False)[:15]"
   ]
  },
  {
   "cell_type": "markdown",
   "metadata": {
    "id": "dv4nxge6Kyvn"
   },
   "source": [
    "Most IPL Fifty by a Batsman"
   ]
  },
  {
   "cell_type": "code",
   "execution_count": 23,
   "metadata": {
    "colab": {
     "base_uri": "https://localhost:8080/"
    },
    "id": "W6mDJRrrK3x1",
    "outputId": "0b513283-4b23-4742-cdd6-d85ae6ebcaed"
   },
   "outputs": [
    {
     "data": {
      "image/png": "[encoded data removed]",
      "text/plain": [
       "<Figure size 720x576 with 1 Axes>"
      ]
     },
     "metadata": {
      "needs_background": "light"
     },
     "output_type": "display_data"
    }
   ],
   "source": [
    "plt.figure(figsize=(10,8))\n",
    "runs = delivery.groupby(['batsman','match_id'])['batsman_runs'].sum()\n",
    "data = runs[runs >= 50].droplevel(level=1).groupby('batsman').count().sort_values(ascending=False)[:10]\n",
    "sns.barplot(y=data.index,x=data,orient='h')\n",
    "plt.xlabel('Half-Centuries')\n",
    "plt.ylabel('Batsman')\n",
    "plt.show()"
   ]
  },
  {
   "cell_type": "markdown",
   "metadata": {
    "id": "ZQ4xnXkJLa9F"
   },
   "source": [
    "Highest Total Runs in IPL"
   ]
  },
  {
   "cell_type": "code",
   "execution_count": 24,
   "metadata": {
    "colab": {
     "base_uri": "https://localhost:8080/"
    },
    "id": "kTQ32-vOLe4F",
    "outputId": "4864c984-48c3-425e-92c2-99d14a3f1a15"
   },
   "outputs": [
    {
     "data": {
      "text/plain": [
       "batting_team\n",
       "Royal Challengers Bangalore    263\n",
       "Kolkata Knight Riders          250\n",
       "Royal Challengers Bangalore    248\n",
       "Chennai Super Kings            246\n",
       "Kolkata Knight Riders          241\n",
       "Chennai Super Kings            240\n",
       "Royal Challengers Bangalore    235\n",
       "Sunrisers Hyderabad            233\n",
       "Kings XI Punjab                232\n",
       "Sunrisers Hyderabad            232\n",
       "Name: total_runs, dtype: int64"
      ]
     },
     "execution_count": 24,
     "metadata": {},
     "output_type": "execute_result"
    }
   ],
   "source": [
    "delivery.groupby(['match_id','batting_team']).sum()['total_runs'].droplevel(level=0).sort_values(ascending=False)[:10]"
   ]
  },
  {
   "cell_type": "markdown",
   "metadata": {
    "id": "DkgyxyyDT81U"
   },
   "source": [
    "Highest Individual Score"
   ]
  },
  {
   "cell_type": "code",
   "execution_count": 25,
   "metadata": {
    "colab": {
     "base_uri": "https://localhost:8080/"
    },
    "id": "hHmWWMHwUB5G",
    "outputId": "9bda25b2-45d4-4746-875e-c6947f18004d"
   },
   "outputs": [
    {
     "data": {
      "text/plain": [
       "batsman         match_id\n",
       "CH Gayle        411         175\n",
       "BB McCullum     60          158\n",
       "AB de Villiers  562         133\n",
       "RR Pant         7935        130\n",
       "AB de Villiers  620         129\n",
       "CH Gayle        372         128\n",
       "M Vijay         206         127\n",
       "DA Warner       36          126\n",
       "V Sehwag        516         122\n",
       "SR Watson       7953        121\n",
       "Name: batsman_runs, dtype: int64"
      ]
     },
     "execution_count": 25,
     "metadata": {},
     "output_type": "execute_result"
    }
   ],
   "source": [
    "delivery.groupby(['batsman','match_id'])['batsman_runs'].sum().sort_values(ascending=False)[:10]"
   ]
  },
  {
   "cell_type": "markdown",
   "metadata": {
    "id": "3UJgVHeyUiGL"
   },
   "source": [
    "Most IPL Sixes hit by Batsman"
   ]
  },
  {
   "cell_type": "code",
   "execution_count": 26,
   "metadata": {
    "colab": {
     "base_uri": "https://localhost:8080/"
    },
    "id": "vHQNXnhgUhpx",
    "outputId": "315f198e-d45f-409b-cdf3-7b9a2f7e5dbb"
   },
   "outputs": [
    {
     "data": {
      "image/png": "[encoded data removed]",
      "text/plain": [
       "<Figure size 720x576 with 1 Axes>"
      ]
     },
     "metadata": {
      "needs_background": "light"
     },
     "output_type": "display_data"
    }
   ],
   "source": [
    "plt.figure(figsize=(10,8))\n",
    "data = delivery[delivery['batsman_runs'] == 6]['batsman'].value_counts()[:10]\n",
    "sns.barplot(y=data.index,x=data,orient='h')\n",
    "plt.xlabel('Sixes')\n",
    "plt.ylabel('Batsman')\n",
    "plt.show()"
   ]
  },
  {
   "cell_type": "markdown",
   "metadata": {
    "id": "LNmZ42-55XDG"
   },
   "source": [
    "We’ll find out the winning probability of the teams over the years, with the help of a barplot"
   ]
  },
  {
   "cell_type": "code",
   "execution_count": 27,
   "metadata": {
    "colab": {
     "base_uri": "https://localhost:8080/"
    },
    "id": "cmL7bwahUgMj",
    "outputId": "3a9374b1-e563-4d5c-ccf4-f8ec23b0dc9a"
   },
   "outputs": [
    {
     "name": "stderr",
     "output_type": "stream",
     "text": [
      "C:\\Python\\Anaconda\\lib\\site-packages\\seaborn\\_decorators.py:36: FutureWarning: Pass the following variable as a keyword arg: x. From version 0.12, the only valid positional argument will be `data`, and passing other arguments without an explicit keyword will result in an error or misinterpretation.\n",
      "  warnings.warn(\n"
     ]
    },
    {
     "data": {
      "text/plain": [
       "(array([ 0,  1,  2,  3,  4,  5,  6,  7,  8,  9, 10, 11, 12, 13]),\n",
       " [Text(0, 0, 'Kolkata Knight Riders'),\n",
       "  Text(1, 0, 'Chennai Super Kings'),\n",
       "  Text(2, 0, 'Delhi Daredevils'),\n",
       "  Text(3, 0, 'Royal Challengers Bangalore'),\n",
       "  Text(4, 0, 'Rajasthan Royals'),\n",
       "  Text(5, 0, 'Kings XI Punjab'),\n",
       "  Text(6, 0, 'Deccan Chargers'),\n",
       "  Text(7, 0, 'Mumbai Indians'),\n",
       "  Text(8, 0, 'Pune Warriors'),\n",
       "  Text(9, 0, 'Kochi Tuskers Kerala'),\n",
       "  Text(10, 0, 'Sunrisers Hyderabad'),\n",
       "  Text(11, 0, 'Rising Pune Supergiant'),\n",
       "  Text(12, 0, 'Gujarat Lions'),\n",
       "  Text(13, 0, 'Delhi Capitals')])"
      ]
     },
     "execution_count": 27,
     "metadata": {},
     "output_type": "execute_result"
    },
    {
     "data": {
      "image/png": "[encoded data removed]",
      "text/plain": [
       "<Figure size 432x288 with 1 Axes>"
      ]
     },
     "metadata": {
      "needs_background": "light"
     },
     "output_type": "display_data"
    }
   ],
   "source": [
    "sns.countplot(match['winner'])\n",
    "plt.xticks(rotation = 90)"
   ]
  },
  {
   "cell_type": "markdown",
   "metadata": {
    "id": "PTnL9VPj53aG"
   },
   "source": [
    "We extract records where a team won after batting first using PieChart"
   ]
  },
  {
   "cell_type": "code",
   "execution_count": 28,
   "metadata": {
    "colab": {
     "base_uri": "https://localhost:8080/"
    },
    "id": "MAQsN1Fh3BdX",
    "outputId": "88183827-182d-4893-bf94-211d7b72e676"
   },
   "outputs": [
    {
     "data": {
      "image/png": "[encoded data removed]",
      "text/plain": [
       "<Figure size 720x720 with 1 Axes>"
      ]
     },
     "metadata": {},
     "output_type": "display_data"
    }
   ],
   "source": [
    "batting_first=match[match['win_by_runs']!=0]\n",
    "\n",
    "plt.figure(figsize=(10,10))\n",
    "plt.pie(list(batting_first['winner'].value_counts()),labels=list(batting_first['winner'].value_counts().keys()),autopct='%0.1f%%')\n",
    "plt.show()"
   ]
  },
  {
   "cell_type": "markdown",
   "metadata": {
    "id": "dspW-9nRLyat"
   },
   "source": [
    "Team who won more matches while batting second."
   ]
  },
  {
   "cell_type": "code",
   "execution_count": 29,
   "metadata": {
    "colab": {
     "base_uri": "https://localhost:8080/"
    },
    "id": "4nKbO4roDuRg",
    "outputId": "b4461ae5-464a-45df-c27e-2ffcf4d9bc93"
   },
   "outputs": [
    {
     "data": {
      "image/png": "[encoded data removed]",
      "text/plain": [
       "<Figure size 720x720 with 1 Axes>"
      ]
     },
     "metadata": {},
     "output_type": "display_data"
    }
   ],
   "source": [
    "batting_second=match[match['win_by_wickets']!=0]\n",
    "plt.figure(figsize=(10,10))\n",
    "\n",
    "plt.pie(list(batting_second['winner'].value_counts()),labels=list(batting_second['winner'].value_counts().keys()),autopct='%0.1f%%')\n",
    "\n",
    "plt.show()"
   ]
  },
  {
   "cell_type": "markdown",
   "metadata": {
    "id": "fFHsdAf5La_i"
   },
   "source": [
    "While chasing the target, Kolkata Knight Riders won the highest number of matches."
   ]
  },
  {
   "cell_type": "code",
   "execution_count": 30,
   "metadata": {
    "colab": {
     "base_uri": "https://localhost:8080/"
    },
    "id": "DMRqgQxG7nxS",
    "outputId": "6dd83382-3676-4c99-9313-7158ffd2f181"
   },
   "outputs": [
    {
     "data": {
      "image/png": "[encoded data removed]",
      "text/plain": [
       "<Figure size 1080x432 with 1 Axes>"
      ]
     },
     "metadata": {
      "needs_background": "light"
     },
     "output_type": "display_data"
    }
   ],
   "source": [
    "plt.figure(figsize=(15,6))\n",
    "plt.title(\"Total no of team won in most runs\")\n",
    "sns.barplot(x='win_by_runs', y='winner', data=match, palette='Paired');"
   ]
  },
  {
   "cell_type": "code",
   "execution_count": 31,
   "metadata": {
    "colab": {
     "base_uri": "https://localhost:8080/"
    },
    "id": "hvS95nQxtMhg",
    "outputId": "757ec65c-f742-45b2-c4d8-52348e4bebb9"
   },
   "outputs": [
    {
     "data": {
      "image/png": "[encoded data removed]",
      "text/plain": [
       "<Figure size 1080x432 with 1 Axes>"
      ]
     },
     "metadata": {
      "needs_background": "light"
     },
     "output_type": "display_data"
    }
   ],
   "source": [
    "plt.figure(figsize=(15,6))\n",
    "plt.title(\"Total no of team won in most wickets\")\n",
    "sns.barplot(x='win_by_wickets', y='winner', data=match, palette='Paired');"
   ]
  },
  {
   "cell_type": "markdown",
   "metadata": {
    "id": "iNT1adJ9Ys3F"
   },
   "source": [
    "**Bowling Statistics**"
   ]
  },
  {
   "cell_type": "markdown",
   "metadata": {
    "id": "hDYWLgvKY2Jk"
   },
   "source": [
    "Most run conceded by a bowler in an inning"
   ]
  },
  {
   "cell_type": "code",
   "execution_count": 32,
   "metadata": {
    "colab": {
     "base_uri": "https://localhost:8080/"
    },
    "id": "Oo-ZKJkuYHun",
    "outputId": "84247a76-aef8-4309-b260-27354125123c"
   },
   "outputs": [
    {
     "data": {
      "text/plain": [
       "bowler\n",
       "M Ur Rahman       73\n",
       "Basil Thampi      71\n",
       "TG Southee        68\n",
       "PP Chawla         67\n",
       "Sandeep Sharma    66\n",
       "I Sharma          66\n",
       "PJ Cummins        65\n",
       "UT Yadav          65\n",
       "VR Aaron          63\n",
       "AB Dinda          63\n",
       "Name: total_runs, dtype: int64"
      ]
     },
     "execution_count": 32,
     "metadata": {},
     "output_type": "execute_result"
    }
   ],
   "source": [
    "delivery.groupby(['bowler','match_id'])['total_runs'].sum().droplevel(level=1).sort_values(ascending=False)[:10]"
   ]
  },
  {
   "cell_type": "markdown",
   "metadata": {
    "id": "7hPcN5C_Zw-x"
   },
   "source": [
    "Most IPL Wickets by a Bowler"
   ]
  },
  {
   "cell_type": "code",
   "execution_count": 33,
   "metadata": {
    "colab": {
     "base_uri": "https://localhost:8080/"
    },
    "id": "6DROkpiib3cE",
    "outputId": "d24d0c34-e661-4103-f75c-f27679d8d8d9"
   },
   "outputs": [
    {
     "data": {
      "text/plain": [
       "array([nan, 'caught', 'bowled', 'run out', 'lbw', 'caught and bowled',\n",
       "       'stumped', 'retired hurt', 'hit wicket', 'obstructing the field'],\n",
       "      dtype=object)"
      ]
     },
     "execution_count": 33,
     "metadata": {},
     "output_type": "execute_result"
    }
   ],
   "source": [
    "delivery['dismissal_kind'].unique()"
   ]
  },
  {
   "cell_type": "code",
   "execution_count": 34,
   "metadata": {
    "colab": {
     "base_uri": "https://localhost:8080/"
    },
    "id": "fN4etk_rZHKu",
    "outputId": "8e4b05ab-0e5c-444e-da9e-bca975b5d7e8"
   },
   "outputs": [
    {
     "data": {
      "text/plain": [
       "SL Malinga         170\n",
       "A Mishra           156\n",
       "Harbhajan Singh    150\n",
       "PP Chawla          149\n",
       "DJ Bravo           147\n",
       "B Kumar            133\n",
       "R Ashwin           125\n",
       "SP Narine          122\n",
       "UT Yadav           119\n",
       "RA Jadeja          108\n",
       "Name: bowler, dtype: int64"
      ]
     },
     "execution_count": 34,
     "metadata": {},
     "output_type": "execute_result"
    }
   ],
   "source": [
    "lst = {'caught','bowled','lbw','stumped','caught and bowled','hit wicket'}\n",
    "delivery[delivery['dismissal_kind'].apply(lambda x: True if x in lst and x != ' ' else False)]['bowler'].value_counts()[:10]"
   ]
  },
  {
   "cell_type": "markdown",
   "metadata": {
    "id": "67ajVNXPciyH"
   },
   "source": [
    "Most dot ball by a Bowler"
   ]
  },
  {
   "cell_type": "code",
   "execution_count": 35,
   "metadata": {
    "colab": {
     "base_uri": "https://localhost:8080/"
    },
    "id": "z2Xin2OTZ8ym",
    "outputId": "86e56801-4367-462a-9a09-efad4b97b1a6"
   },
   "outputs": [
    {
     "data": {
      "image/png": "[encoded data removed]",
      "text/plain": [
       "<Figure size 720x576 with 1 Axes>"
      ]
     },
     "metadata": {
      "needs_background": "light"
     },
     "output_type": "display_data"
    }
   ],
   "source": [
    "plt.figure(figsize=(10,8))\n",
    "data = delivery[delivery['total_runs'] == 0].groupby('bowler').count()['match_id'].sort_values(ascending=False)[:10]\n",
    "sns.barplot(y=data.index,x=data,orient='h')\n",
    "plt.xlabel('Dot Balls')\n",
    "plt.ylabel('bowler')\n",
    "plt.show()"
   ]
  },
  {
   "cell_type": "markdown",
   "metadata": {
    "id": "4ed08lkMc5Qi"
   },
   "source": [
    "Most Maiden over by a Bowler"
   ]
  },
  {
   "cell_type": "code",
   "execution_count": 36,
   "metadata": {
    "colab": {
     "base_uri": "https://localhost:8080/"
    },
    "id": "3AOS7O10c02X",
    "outputId": "8d80ac8b-1874-478b-e8b0-08994d40245a"
   },
   "outputs": [
    {
     "data": {
      "text/plain": [
       "P Kumar           12\n",
       "IK Pathan          9\n",
       "DW Steyn           8\n",
       "SL Malinga         8\n",
       "B Kumar            7\n",
       "DS Kulkarni        7\n",
       "DJ Bravo           6\n",
       "Sandeep Sharma     6\n",
       "R Ashwin           5\n",
       "Z Khan             5\n",
       "Name: bowler, dtype: int64"
      ]
     },
     "execution_count": 36,
     "metadata": {},
     "output_type": "execute_result"
    }
   ],
   "source": [
    "data = delivery.groupby(['match_id','bowler','over'])['total_runs'].sum()\n",
    "data = data[data.values == 0].droplevel(level=[0,2])\n",
    "data.index.value_counts()[:10]"
   ]
  },
  {
   "cell_type": "markdown",
   "metadata": {
    "id": "ZlkEIdETdZwk"
   },
   "source": [
    "Most Wicket by an IPL Team"
   ]
  },
  {
   "cell_type": "code",
   "execution_count": 37,
   "metadata": {
    "colab": {
     "base_uri": "https://localhost:8080/"
    },
    "id": "nd-OtkpidGtA",
    "outputId": "7173a1b6-c21c-4de0-f1a7-184dc6af81ac"
   },
   "outputs": [
    {
     "data": {
      "image/png": "[encoded data removed]",
      "text/plain": [
       "<Figure size 720x576 with 1 Axes>"
      ]
     },
     "metadata": {
      "needs_background": "light"
     },
     "output_type": "display_data"
    }
   ],
   "source": [
    "plt.figure(figsize=(10,8))\n",
    "lst = {'caught','bowled','lbw','stumped','caught and bowled','hit wicket'}\n",
    "data = delivery[delivery['dismissal_kind'].apply(lambda x: True if x in lst and x != ' ' else False)]['bowling_team'].value_counts()\n",
    "delivery.groupby(['batting_team'])['extra_runs'].agg('sum').sort_values(ascending=False)\n",
    "sns.barplot(y=data.index,x=data,orient='h')\n",
    "plt.xlabel('Wickets')\n",
    "plt.ylabel('Teams')\n",
    "plt.show()"
   ]
  },
  {
   "cell_type": "markdown",
   "metadata": {
    "id": "cRSJIeoBeGxg"
   },
   "source": [
    "Most No-Balls by an IPL team"
   ]
  },
  {
   "cell_type": "code",
   "execution_count": 38,
   "metadata": {
    "colab": {
     "base_uri": "https://localhost:8080/"
    },
    "id": "X7b6t-eedWri",
    "outputId": "795e9995-df40-48da-f5ab-e6af30878bbf"
   },
   "outputs": [
    {
     "data": {
      "text/plain": [
       "batting_team\n",
       "Royal Challengers Bangalore    96\n",
       "Chennai Super Kings            90\n",
       "Mumbai Indians                 90\n",
       "Kolkata Knight Riders          86\n",
       "Rajasthan Royals               86\n",
       "Delhi Daredevils               73\n",
       "Kings XI Punjab                64\n",
       "Deccan Chargers                49\n",
       "Sunrisers Hyderabad            47\n",
       "Pune Warriors                  24\n",
       "Gujarat Lions                  17\n",
       "Kochi Tuskers Kerala           11\n",
       "Delhi Capitals                  8\n",
       "Rising Pune Supergiant          8\n",
       "Name: noball_runs, dtype: int64"
      ]
     },
     "execution_count": 38,
     "metadata": {},
     "output_type": "execute_result"
    }
   ],
   "source": [
    "delivery.groupby(['batting_team'])['noball_runs'].agg('sum').sort_values(ascending=False)"
   ]
  },
  {
   "cell_type": "markdown",
   "metadata": {
    "id": "eHvYEgfLek5q"
   },
   "source": [
    "Most No-Balls by an IPL Bowler"
   ]
  },
  {
   "cell_type": "code",
   "execution_count": 39,
   "metadata": {
    "colab": {
     "base_uri": "https://localhost:8080/"
    },
    "id": "8WJi1nC0eU0N",
    "outputId": "5a0bdc38-971f-4331-96bb-e3a8b5f9fe72"
   },
   "outputs": [
    {
     "data": {
      "text/plain": [
       "S Sreesanth    23\n",
       "JJ Bumrah      22\n",
       "I Sharma       21\n",
       "A Mishra       20\n",
       "SL Malinga     18\n",
       "UT Yadav       18\n",
       "AB Dinda       14\n",
       "SR Watson      13\n",
       "RP Singh       13\n",
       "JA Morkel      13\n",
       "Name: bowler, dtype: int64"
      ]
     },
     "execution_count": 39,
     "metadata": {},
     "output_type": "execute_result"
    }
   ],
   "source": [
    "delivery[delivery['noball_runs'] != 0]['bowler'].value_counts()[:10]"
   ]
  },
  {
   "cell_type": "code",
   "execution_count": null,
   "metadata": {
    "id": "-Nfx9CSHeeb4"
   },
   "outputs": [],
   "source": []
  },
  {
   "cell_type": "markdown",
   "metadata": {
    "id": "Rc--YmxvfTPf"
   },
   "source": [
    "# **Pre-Processing**"
   ]
  },
  {
   "cell_type": "code",
   "execution_count": 40,
   "metadata": {
    "colab": {
     "base_uri": "https://localhost:8080/"
    },
    "id": "F3My86x-_1Vb",
    "outputId": "130ae5f7-d290-4f30-fdf9-9ecc95976ded"
   },
   "outputs": [
    {
     "data": {
      "text/html": [
       "<div>\n",
       "<style scoped>\n",
       "    .dataframe tbody tr th:only-of-type {\n",
       "        vertical-align: middle;\n",
       "    }\n",
       "\n",
       "    .dataframe tbody tr th {\n",
       "        vertical-align: top;\n",
       "    }\n",
       "\n",
       "    .dataframe thead th {\n",
       "        text-align: right;\n",
       "    }\n",
       "</style>\n",
       "<table border=\"1\" class=\"dataframe\">\n",
       "  <thead>\n",
       "    <tr style=\"text-align: right;\">\n",
       "      <th></th>\n",
       "      <th>id</th>\n",
       "      <th>season</th>\n",
       "      <th>city</th>\n",
       "      <th>date</th>\n",
       "      <th>team1</th>\n",
       "      <th>team2</th>\n",
       "      <th>toss_winner</th>\n",
       "      <th>toss_decision</th>\n",
       "      <th>result</th>\n",
       "      <th>dl_applied</th>\n",
       "      <th>winner</th>\n",
       "      <th>win_by_runs</th>\n",
       "      <th>win_by_wickets</th>\n",
       "      <th>player_of_match</th>\n",
       "      <th>venue</th>\n",
       "      <th>umpire1</th>\n",
       "      <th>umpire2</th>\n",
       "      <th>umpire3</th>\n",
       "    </tr>\n",
       "  </thead>\n",
       "  <tbody>\n",
       "    <tr>\n",
       "      <th>241</th>\n",
       "      <td>301</td>\n",
       "      <td>2011</td>\n",
       "      <td>Delhi</td>\n",
       "      <td>21-05-2011</td>\n",
       "      <td>Delhi Daredevils</td>\n",
       "      <td>Pune Warriors</td>\n",
       "      <td>Delhi Daredevils</td>\n",
       "      <td>bat</td>\n",
       "      <td>no result</td>\n",
       "      <td>0</td>\n",
       "      <td>NaN</td>\n",
       "      <td>0</td>\n",
       "      <td>0</td>\n",
       "      <td>NaN</td>\n",
       "      <td>Feroz Shah Kotla</td>\n",
       "      <td>SS Hazare</td>\n",
       "      <td>RJ Tucker</td>\n",
       "      <td>NaN</td>\n",
       "    </tr>\n",
       "    <tr>\n",
       "      <th>486</th>\n",
       "      <td>546</td>\n",
       "      <td>2015</td>\n",
       "      <td>Bangalore</td>\n",
       "      <td>29-04-2015</td>\n",
       "      <td>Royal Challengers Bangalore</td>\n",
       "      <td>Rajasthan Royals</td>\n",
       "      <td>Rajasthan Royals</td>\n",
       "      <td>field</td>\n",
       "      <td>no result</td>\n",
       "      <td>0</td>\n",
       "      <td>NaN</td>\n",
       "      <td>0</td>\n",
       "      <td>0</td>\n",
       "      <td>NaN</td>\n",
       "      <td>M. Chinnaswamy Stadium</td>\n",
       "      <td>JD Cloete</td>\n",
       "      <td>PG Pathak</td>\n",
       "      <td>NaN</td>\n",
       "    </tr>\n",
       "    <tr>\n",
       "      <th>511</th>\n",
       "      <td>571</td>\n",
       "      <td>2015</td>\n",
       "      <td>Bangalore</td>\n",
       "      <td>17-05-2015</td>\n",
       "      <td>Delhi Daredevils</td>\n",
       "      <td>Royal Challengers Bangalore</td>\n",
       "      <td>Royal Challengers Bangalore</td>\n",
       "      <td>field</td>\n",
       "      <td>no result</td>\n",
       "      <td>0</td>\n",
       "      <td>NaN</td>\n",
       "      <td>0</td>\n",
       "      <td>0</td>\n",
       "      <td>NaN</td>\n",
       "      <td>M. Chinnaswamy Stadium</td>\n",
       "      <td>HDPK Dharmasena</td>\n",
       "      <td>K Srinivasan</td>\n",
       "      <td>NaN</td>\n",
       "    </tr>\n",
       "    <tr>\n",
       "      <th>744</th>\n",
       "      <td>11340</td>\n",
       "      <td>2019</td>\n",
       "      <td>Bangalore</td>\n",
       "      <td>30-04-2019</td>\n",
       "      <td>Royal Challengers Bangalore</td>\n",
       "      <td>Rajasthan Royals</td>\n",
       "      <td>Rajasthan Royals</td>\n",
       "      <td>field</td>\n",
       "      <td>no result</td>\n",
       "      <td>0</td>\n",
       "      <td>NaN</td>\n",
       "      <td>0</td>\n",
       "      <td>0</td>\n",
       "      <td>NaN</td>\n",
       "      <td>M. Chinnaswamy Stadium</td>\n",
       "      <td>Nigel Llong</td>\n",
       "      <td>Ulhas Gandhe</td>\n",
       "      <td>Anil Chaudhary</td>\n",
       "    </tr>\n",
       "  </tbody>\n",
       "</table>\n",
       "</div>"
      ],
      "text/plain": [
       "        id  season       city        date                        team1  \\\n",
       "241    301    2011      Delhi  21-05-2011             Delhi Daredevils   \n",
       "486    546    2015  Bangalore  29-04-2015  Royal Challengers Bangalore   \n",
       "511    571    2015  Bangalore  17-05-2015             Delhi Daredevils   \n",
       "744  11340    2019  Bangalore  30-04-2019  Royal Challengers Bangalore   \n",
       "\n",
       "                           team2                  toss_winner toss_decision  \\\n",
       "241                Pune Warriors             Delhi Daredevils           bat   \n",
       "486             Rajasthan Royals             Rajasthan Royals         field   \n",
       "511  Royal Challengers Bangalore  Royal Challengers Bangalore         field   \n",
       "744             Rajasthan Royals             Rajasthan Royals         field   \n",
       "\n",
       "        result  dl_applied winner  win_by_runs  win_by_wickets  \\\n",
       "241  no result           0    NaN            0               0   \n",
       "486  no result           0    NaN            0               0   \n",
       "511  no result           0    NaN            0               0   \n",
       "744  no result           0    NaN            0               0   \n",
       "\n",
       "    player_of_match                   venue          umpire1       umpire2  \\\n",
       "241             NaN        Feroz Shah Kotla        SS Hazare     RJ Tucker   \n",
       "486             NaN  M. Chinnaswamy Stadium        JD Cloete     PG Pathak   \n",
       "511             NaN  M. Chinnaswamy Stadium  HDPK Dharmasena  K Srinivasan   \n",
       "744             NaN  M. Chinnaswamy Stadium      Nigel Llong  Ulhas Gandhe   \n",
       "\n",
       "            umpire3  \n",
       "241             NaN  \n",
       "486             NaN  \n",
       "511             NaN  \n",
       "744  Anil Chaudhary  "
      ]
     },
     "execution_count": 40,
     "metadata": {},
     "output_type": "execute_result"
    }
   ],
   "source": [
    "match[match['winner'].isnull() == True]"
   ]
  },
  {
   "cell_type": "code",
   "execution_count": 41,
   "metadata": {
    "id": "OTgLVt1YASBH"
   },
   "outputs": [],
   "source": [
    "match['winner'].fillna('Match drop', inplace = True)"
   ]
  },
  {
   "cell_type": "code",
   "execution_count": 42,
   "metadata": {
    "colab": {
     "base_uri": "https://localhost:8080/"
    },
    "id": "3cS-5L8VBIo9",
    "outputId": "e5a68889-69fc-4ed7-f8b2-08d17d8524f6"
   },
   "outputs": [
    {
     "name": "stdout",
     "output_type": "stream",
     "text": [
      "<class 'pandas.core.frame.DataFrame'>\n",
      "RangeIndex: 756 entries, 0 to 755\n",
      "Data columns (total 18 columns):\n",
      " #   Column           Non-Null Count  Dtype \n",
      "---  ------           --------------  ----- \n",
      " 0   id               756 non-null    int64 \n",
      " 1   season           756 non-null    int64 \n",
      " 2   city             749 non-null    object\n",
      " 3   date             756 non-null    object\n",
      " 4   team1            756 non-null    object\n",
      " 5   team2            756 non-null    object\n",
      " 6   toss_winner      756 non-null    object\n",
      " 7   toss_decision    756 non-null    object\n",
      " 8   result           756 non-null    object\n",
      " 9   dl_applied       756 non-null    int64 \n",
      " 10  winner           756 non-null    object\n",
      " 11  win_by_runs      756 non-null    int64 \n",
      " 12  win_by_wickets   756 non-null    int64 \n",
      " 13  player_of_match  752 non-null    object\n",
      " 14  venue            756 non-null    object\n",
      " 15  umpire1          754 non-null    object\n",
      " 16  umpire2          754 non-null    object\n",
      " 17  umpire3          119 non-null    object\n",
      "dtypes: int64(5), object(13)\n",
      "memory usage: 106.4+ KB\n"
     ]
    }
   ],
   "source": [
    "match.info()"
   ]
  },
  {
   "cell_type": "code",
   "execution_count": 43,
   "metadata": {
    "colab": {
     "base_uri": "https://localhost:8080/"
    },
    "id": "JUnJfPfvb2bX",
    "outputId": "e4cfa193-b3dc-4700-ba1a-3b7b8f67a845"
   },
   "outputs": [
    {
     "data": {
      "text/html": [
       "<div>\n",
       "<style scoped>\n",
       "    .dataframe tbody tr th:only-of-type {\n",
       "        vertical-align: middle;\n",
       "    }\n",
       "\n",
       "    .dataframe tbody tr th {\n",
       "        vertical-align: top;\n",
       "    }\n",
       "\n",
       "    .dataframe thead th {\n",
       "        text-align: right;\n",
       "    }\n",
       "</style>\n",
       "<table border=\"1\" class=\"dataframe\">\n",
       "  <thead>\n",
       "    <tr style=\"text-align: right;\">\n",
       "      <th></th>\n",
       "      <th>id</th>\n",
       "      <th>season</th>\n",
       "      <th>city</th>\n",
       "      <th>date</th>\n",
       "      <th>team1</th>\n",
       "      <th>team2</th>\n",
       "      <th>toss_winner</th>\n",
       "      <th>toss_decision</th>\n",
       "      <th>result</th>\n",
       "      <th>dl_applied</th>\n",
       "      <th>winner</th>\n",
       "      <th>win_by_runs</th>\n",
       "      <th>win_by_wickets</th>\n",
       "      <th>player_of_match</th>\n",
       "      <th>venue</th>\n",
       "      <th>umpire1</th>\n",
       "      <th>umpire2</th>\n",
       "      <th>umpire3</th>\n",
       "    </tr>\n",
       "  </thead>\n",
       "  <tbody>\n",
       "    <tr>\n",
       "      <th>241</th>\n",
       "      <td>301</td>\n",
       "      <td>2011</td>\n",
       "      <td>Delhi</td>\n",
       "      <td>21-05-2011</td>\n",
       "      <td>Delhi Daredevils</td>\n",
       "      <td>Pune Warriors</td>\n",
       "      <td>Delhi Daredevils</td>\n",
       "      <td>bat</td>\n",
       "      <td>no result</td>\n",
       "      <td>0</td>\n",
       "      <td>Match drop</td>\n",
       "      <td>0</td>\n",
       "      <td>0</td>\n",
       "      <td>NaN</td>\n",
       "      <td>Feroz Shah Kotla</td>\n",
       "      <td>SS Hazare</td>\n",
       "      <td>RJ Tucker</td>\n",
       "      <td>NaN</td>\n",
       "    </tr>\n",
       "    <tr>\n",
       "      <th>486</th>\n",
       "      <td>546</td>\n",
       "      <td>2015</td>\n",
       "      <td>Bangalore</td>\n",
       "      <td>29-04-2015</td>\n",
       "      <td>Royal Challengers Bangalore</td>\n",
       "      <td>Rajasthan Royals</td>\n",
       "      <td>Rajasthan Royals</td>\n",
       "      <td>field</td>\n",
       "      <td>no result</td>\n",
       "      <td>0</td>\n",
       "      <td>Match drop</td>\n",
       "      <td>0</td>\n",
       "      <td>0</td>\n",
       "      <td>NaN</td>\n",
       "      <td>M. Chinnaswamy Stadium</td>\n",
       "      <td>JD Cloete</td>\n",
       "      <td>PG Pathak</td>\n",
       "      <td>NaN</td>\n",
       "    </tr>\n",
       "    <tr>\n",
       "      <th>511</th>\n",
       "      <td>571</td>\n",
       "      <td>2015</td>\n",
       "      <td>Bangalore</td>\n",
       "      <td>17-05-2015</td>\n",
       "      <td>Delhi Daredevils</td>\n",
       "      <td>Royal Challengers Bangalore</td>\n",
       "      <td>Royal Challengers Bangalore</td>\n",
       "      <td>field</td>\n",
       "      <td>no result</td>\n",
       "      <td>0</td>\n",
       "      <td>Match drop</td>\n",
       "      <td>0</td>\n",
       "      <td>0</td>\n",
       "      <td>NaN</td>\n",
       "      <td>M. Chinnaswamy Stadium</td>\n",
       "      <td>HDPK Dharmasena</td>\n",
       "      <td>K Srinivasan</td>\n",
       "      <td>NaN</td>\n",
       "    </tr>\n",
       "    <tr>\n",
       "      <th>744</th>\n",
       "      <td>11340</td>\n",
       "      <td>2019</td>\n",
       "      <td>Bangalore</td>\n",
       "      <td>30-04-2019</td>\n",
       "      <td>Royal Challengers Bangalore</td>\n",
       "      <td>Rajasthan Royals</td>\n",
       "      <td>Rajasthan Royals</td>\n",
       "      <td>field</td>\n",
       "      <td>no result</td>\n",
       "      <td>0</td>\n",
       "      <td>Match drop</td>\n",
       "      <td>0</td>\n",
       "      <td>0</td>\n",
       "      <td>NaN</td>\n",
       "      <td>M. Chinnaswamy Stadium</td>\n",
       "      <td>Nigel Llong</td>\n",
       "      <td>Ulhas Gandhe</td>\n",
       "      <td>Anil Chaudhary</td>\n",
       "    </tr>\n",
       "  </tbody>\n",
       "</table>\n",
       "</div>"
      ],
      "text/plain": [
       "        id  season       city        date                        team1  \\\n",
       "241    301    2011      Delhi  21-05-2011             Delhi Daredevils   \n",
       "486    546    2015  Bangalore  29-04-2015  Royal Challengers Bangalore   \n",
       "511    571    2015  Bangalore  17-05-2015             Delhi Daredevils   \n",
       "744  11340    2019  Bangalore  30-04-2019  Royal Challengers Bangalore   \n",
       "\n",
       "                           team2                  toss_winner toss_decision  \\\n",
       "241                Pune Warriors             Delhi Daredevils           bat   \n",
       "486             Rajasthan Royals             Rajasthan Royals         field   \n",
       "511  Royal Challengers Bangalore  Royal Challengers Bangalore         field   \n",
       "744             Rajasthan Royals             Rajasthan Royals         field   \n",
       "\n",
       "        result  dl_applied      winner  win_by_runs  win_by_wickets  \\\n",
       "241  no result           0  Match drop            0               0   \n",
       "486  no result           0  Match drop            0               0   \n",
       "511  no result           0  Match drop            0               0   \n",
       "744  no result           0  Match drop            0               0   \n",
       "\n",
       "    player_of_match                   venue          umpire1       umpire2  \\\n",
       "241             NaN        Feroz Shah Kotla        SS Hazare     RJ Tucker   \n",
       "486             NaN  M. Chinnaswamy Stadium        JD Cloete     PG Pathak   \n",
       "511             NaN  M. Chinnaswamy Stadium  HDPK Dharmasena  K Srinivasan   \n",
       "744             NaN  M. Chinnaswamy Stadium      Nigel Llong  Ulhas Gandhe   \n",
       "\n",
       "            umpire3  \n",
       "241             NaN  \n",
       "486             NaN  \n",
       "511             NaN  \n",
       "744  Anil Chaudhary  "
      ]
     },
     "execution_count": 43,
     "metadata": {},
     "output_type": "execute_result"
    }
   ],
   "source": [
    "match[match['player_of_match'].isnull() == True]"
   ]
  },
  {
   "cell_type": "code",
   "execution_count": 44,
   "metadata": {
    "id": "Pd2xY8RjcEmy"
   },
   "outputs": [],
   "source": [
    "match['player_of_match'].fillna('None', inplace = True)"
   ]
  },
  {
   "cell_type": "code",
   "execution_count": 45,
   "metadata": {
    "id": "9P4Vv_itfZE8"
   },
   "outputs": [],
   "source": [
    "match.drop(['umpire1','umpire2','umpire3'],axis=1, inplace = True)"
   ]
  },
  {
   "cell_type": "code",
   "execution_count": 46,
   "metadata": {
    "colab": {
     "base_uri": "https://localhost:8080/"
    },
    "id": "dud7LfLpDmN7",
    "outputId": "fa8eee00-e228-4be2-baea-1d8252c35082"
   },
   "outputs": [
    {
     "data": {
      "text/plain": [
       "Mumbai            101\n",
       "Bangalore          80\n",
       "Kolkata            77\n",
       "Delhi              74\n",
       "Hyderabad          64\n",
       "Chennai            57\n",
       "Chandigarh         56\n",
       "Jaipur             47\n",
       "Pune               38\n",
       "Durban             15\n",
       "Visakhapatnam      13\n",
       "Centurion          12\n",
       "Ahmedabad          12\n",
       "Rajkot             10\n",
       "Dharamsala          9\n",
       "Indore              9\n",
       "Johannesburg        8\n",
       "Ranchi              7\n",
       "Cuttack             7\n",
       "Abu Dhabi           7\n",
       "Port Elizabeth      7\n",
       "Cape Town           7\n",
       "Sharjah             6\n",
       "Raipur              6\n",
       "Kochi               5\n",
       "Kanpur              4\n",
       "Nagpur              3\n",
       "Kimberley           3\n",
       "East London         3\n",
       "Bloemfontein        2\n",
       "Name: city, dtype: int64"
      ]
     },
     "execution_count": 46,
     "metadata": {},
     "output_type": "execute_result"
    }
   ],
   "source": [
    "match['city'].value_counts()"
   ]
  },
  {
   "cell_type": "code",
   "execution_count": 47,
   "metadata": {
    "colab": {
     "base_uri": "https://localhost:8080/"
    },
    "id": "zgULWqbDELJe",
    "outputId": "79c75da3-1537-4896-e138-a842aa91814c"
   },
   "outputs": [
    {
     "data": {
      "text/html": [
       "<div>\n",
       "<style scoped>\n",
       "    .dataframe tbody tr th:only-of-type {\n",
       "        vertical-align: middle;\n",
       "    }\n",
       "\n",
       "    .dataframe tbody tr th {\n",
       "        vertical-align: top;\n",
       "    }\n",
       "\n",
       "    .dataframe thead th {\n",
       "        text-align: right;\n",
       "    }\n",
       "</style>\n",
       "<table border=\"1\" class=\"dataframe\">\n",
       "  <thead>\n",
       "    <tr style=\"text-align: right;\">\n",
       "      <th></th>\n",
       "      <th>id</th>\n",
       "      <th>season</th>\n",
       "      <th>city</th>\n",
       "      <th>date</th>\n",
       "      <th>team1</th>\n",
       "      <th>team2</th>\n",
       "      <th>toss_winner</th>\n",
       "      <th>toss_decision</th>\n",
       "      <th>result</th>\n",
       "      <th>dl_applied</th>\n",
       "      <th>winner</th>\n",
       "      <th>win_by_runs</th>\n",
       "      <th>win_by_wickets</th>\n",
       "      <th>player_of_match</th>\n",
       "      <th>venue</th>\n",
       "    </tr>\n",
       "  </thead>\n",
       "  <tbody>\n",
       "    <tr>\n",
       "      <th>402</th>\n",
       "      <td>462</td>\n",
       "      <td>2014</td>\n",
       "      <td>NaN</td>\n",
       "      <td>19-04-2014</td>\n",
       "      <td>Mumbai Indians</td>\n",
       "      <td>Royal Challengers Bangalore</td>\n",
       "      <td>Royal Challengers Bangalore</td>\n",
       "      <td>field</td>\n",
       "      <td>normal</td>\n",
       "      <td>0</td>\n",
       "      <td>Royal Challengers Bangalore</td>\n",
       "      <td>0</td>\n",
       "      <td>7</td>\n",
       "      <td>PA Patel</td>\n",
       "      <td>Dubai International Cricket Stadium</td>\n",
       "    </tr>\n",
       "    <tr>\n",
       "      <th>403</th>\n",
       "      <td>463</td>\n",
       "      <td>2014</td>\n",
       "      <td>NaN</td>\n",
       "      <td>19-04-2014</td>\n",
       "      <td>Kolkata Knight Riders</td>\n",
       "      <td>Delhi Daredevils</td>\n",
       "      <td>Kolkata Knight Riders</td>\n",
       "      <td>bat</td>\n",
       "      <td>normal</td>\n",
       "      <td>0</td>\n",
       "      <td>Delhi Daredevils</td>\n",
       "      <td>0</td>\n",
       "      <td>4</td>\n",
       "      <td>JP Duminy</td>\n",
       "      <td>Dubai International Cricket Stadium</td>\n",
       "    </tr>\n",
       "    <tr>\n",
       "      <th>407</th>\n",
       "      <td>467</td>\n",
       "      <td>2014</td>\n",
       "      <td>NaN</td>\n",
       "      <td>23-04-2014</td>\n",
       "      <td>Chennai Super Kings</td>\n",
       "      <td>Rajasthan Royals</td>\n",
       "      <td>Rajasthan Royals</td>\n",
       "      <td>field</td>\n",
       "      <td>normal</td>\n",
       "      <td>0</td>\n",
       "      <td>Chennai Super Kings</td>\n",
       "      <td>7</td>\n",
       "      <td>0</td>\n",
       "      <td>RA Jadeja</td>\n",
       "      <td>Dubai International Cricket Stadium</td>\n",
       "    </tr>\n",
       "    <tr>\n",
       "      <th>409</th>\n",
       "      <td>469</td>\n",
       "      <td>2014</td>\n",
       "      <td>NaN</td>\n",
       "      <td>25-04-2014</td>\n",
       "      <td>Sunrisers Hyderabad</td>\n",
       "      <td>Delhi Daredevils</td>\n",
       "      <td>Sunrisers Hyderabad</td>\n",
       "      <td>bat</td>\n",
       "      <td>normal</td>\n",
       "      <td>0</td>\n",
       "      <td>Sunrisers Hyderabad</td>\n",
       "      <td>4</td>\n",
       "      <td>0</td>\n",
       "      <td>AJ Finch</td>\n",
       "      <td>Dubai International Cricket Stadium</td>\n",
       "    </tr>\n",
       "    <tr>\n",
       "      <th>410</th>\n",
       "      <td>470</td>\n",
       "      <td>2014</td>\n",
       "      <td>NaN</td>\n",
       "      <td>25-04-2014</td>\n",
       "      <td>Mumbai Indians</td>\n",
       "      <td>Chennai Super Kings</td>\n",
       "      <td>Mumbai Indians</td>\n",
       "      <td>bat</td>\n",
       "      <td>normal</td>\n",
       "      <td>0</td>\n",
       "      <td>Chennai Super Kings</td>\n",
       "      <td>0</td>\n",
       "      <td>7</td>\n",
       "      <td>MM Sharma</td>\n",
       "      <td>Dubai International Cricket Stadium</td>\n",
       "    </tr>\n",
       "    <tr>\n",
       "      <th>415</th>\n",
       "      <td>475</td>\n",
       "      <td>2014</td>\n",
       "      <td>NaN</td>\n",
       "      <td>28-04-2014</td>\n",
       "      <td>Royal Challengers Bangalore</td>\n",
       "      <td>Kings XI Punjab</td>\n",
       "      <td>Kings XI Punjab</td>\n",
       "      <td>field</td>\n",
       "      <td>normal</td>\n",
       "      <td>0</td>\n",
       "      <td>Kings XI Punjab</td>\n",
       "      <td>0</td>\n",
       "      <td>5</td>\n",
       "      <td>Sandeep Sharma</td>\n",
       "      <td>Dubai International Cricket Stadium</td>\n",
       "    </tr>\n",
       "    <tr>\n",
       "      <th>417</th>\n",
       "      <td>477</td>\n",
       "      <td>2014</td>\n",
       "      <td>NaN</td>\n",
       "      <td>30-04-2014</td>\n",
       "      <td>Sunrisers Hyderabad</td>\n",
       "      <td>Mumbai Indians</td>\n",
       "      <td>Mumbai Indians</td>\n",
       "      <td>field</td>\n",
       "      <td>normal</td>\n",
       "      <td>0</td>\n",
       "      <td>Sunrisers Hyderabad</td>\n",
       "      <td>15</td>\n",
       "      <td>0</td>\n",
       "      <td>B Kumar</td>\n",
       "      <td>Dubai International Cricket Stadium</td>\n",
       "    </tr>\n",
       "  </tbody>\n",
       "</table>\n",
       "</div>"
      ],
      "text/plain": [
       "      id  season city        date                        team1  \\\n",
       "402  462    2014  NaN  19-04-2014               Mumbai Indians   \n",
       "403  463    2014  NaN  19-04-2014        Kolkata Knight Riders   \n",
       "407  467    2014  NaN  23-04-2014          Chennai Super Kings   \n",
       "409  469    2014  NaN  25-04-2014          Sunrisers Hyderabad   \n",
       "410  470    2014  NaN  25-04-2014               Mumbai Indians   \n",
       "415  475    2014  NaN  28-04-2014  Royal Challengers Bangalore   \n",
       "417  477    2014  NaN  30-04-2014          Sunrisers Hyderabad   \n",
       "\n",
       "                           team2                  toss_winner toss_decision  \\\n",
       "402  Royal Challengers Bangalore  Royal Challengers Bangalore         field   \n",
       "403             Delhi Daredevils        Kolkata Knight Riders           bat   \n",
       "407             Rajasthan Royals             Rajasthan Royals         field   \n",
       "409             Delhi Daredevils          Sunrisers Hyderabad           bat   \n",
       "410          Chennai Super Kings               Mumbai Indians           bat   \n",
       "415              Kings XI Punjab              Kings XI Punjab         field   \n",
       "417               Mumbai Indians               Mumbai Indians         field   \n",
       "\n",
       "     result  dl_applied                       winner  win_by_runs  \\\n",
       "402  normal           0  Royal Challengers Bangalore            0   \n",
       "403  normal           0             Delhi Daredevils            0   \n",
       "407  normal           0          Chennai Super Kings            7   \n",
       "409  normal           0          Sunrisers Hyderabad            4   \n",
       "410  normal           0          Chennai Super Kings            0   \n",
       "415  normal           0              Kings XI Punjab            0   \n",
       "417  normal           0          Sunrisers Hyderabad           15   \n",
       "\n",
       "     win_by_wickets player_of_match                                venue  \n",
       "402               7        PA Patel  Dubai International Cricket Stadium  \n",
       "403               4       JP Duminy  Dubai International Cricket Stadium  \n",
       "407               0       RA Jadeja  Dubai International Cricket Stadium  \n",
       "409               0        AJ Finch  Dubai International Cricket Stadium  \n",
       "410               7       MM Sharma  Dubai International Cricket Stadium  \n",
       "415               5  Sandeep Sharma  Dubai International Cricket Stadium  \n",
       "417               0         B Kumar  Dubai International Cricket Stadium  "
      ]
     },
     "execution_count": 47,
     "metadata": {},
     "output_type": "execute_result"
    }
   ],
   "source": [
    "match[match['city'].isnull()== True]"
   ]
  },
  {
   "cell_type": "code",
   "execution_count": 48,
   "metadata": {
    "id": "ywfUs28iEhE2"
   },
   "outputs": [],
   "source": [
    "match['city'].fillna('Dubai', inplace = True)"
   ]
  },
  {
   "cell_type": "code",
   "execution_count": 49,
   "metadata": {
    "colab": {
     "base_uri": "https://localhost:8080/"
    },
    "id": "GuYEOKstMKcQ",
    "outputId": "895b5052-2de8-4828-8714-b158820fd5b8"
   },
   "outputs": [
    {
     "data": {
      "text/plain": [
       "id                 0\n",
       "season             0\n",
       "city               0\n",
       "date               0\n",
       "team1              0\n",
       "team2              0\n",
       "toss_winner        0\n",
       "toss_decision      0\n",
       "result             0\n",
       "dl_applied         0\n",
       "winner             0\n",
       "win_by_runs        0\n",
       "win_by_wickets     0\n",
       "player_of_match    0\n",
       "venue              0\n",
       "dtype: int64"
      ]
     },
     "execution_count": 49,
     "metadata": {},
     "output_type": "execute_result"
    }
   ],
   "source": [
    "match.isna().sum()"
   ]
  },
  {
   "cell_type": "markdown",
   "metadata": {
    "id": "ZR9vB_KRQReZ"
   },
   "source": [
    "# **Feature** **Engineering**"
   ]
  },
  {
   "cell_type": "code",
   "execution_count": 50,
   "metadata": {
    "colab": {
     "base_uri": "https://localhost:8080/"
    },
    "id": "Fz_ARrdPeJwl",
    "outputId": "5c8ddba2-a460-4941-ec36-736162bf78ff"
   },
   "outputs": [
    {
     "data": {
      "text/plain": [
       "match_id  inning\n",
       "1         1         207\n",
       "          2         172\n",
       "2         1         184\n",
       "          2         187\n",
       "3         1         183\n",
       "                   ... \n",
       "11413     2         170\n",
       "11414     1         155\n",
       "          2         162\n",
       "11415     1         152\n",
       "          2         157\n",
       "Name: total_runs, Length: 1528, dtype: int64"
      ]
     },
     "execution_count": 50,
     "metadata": {},
     "output_type": "execute_result"
    }
   ],
   "source": [
    "#finding toatl runs\n",
    "delivery.groupby(['match_id','inning']).sum()['total_runs']"
   ]
  },
  {
   "cell_type": "code",
   "execution_count": 51,
   "metadata": {
    "id": "_pouazVVhvZw"
   },
   "outputs": [],
   "source": [
    "#finding total runs in innings=1,target\n",
    "total_score_df= delivery.groupby(['match_id','inning']).sum()['total_runs'].reset_index()\n",
    "total_score_df = total_score_df[total_score_df['inning'] == 1]"
   ]
  },
  {
   "cell_type": "code",
   "execution_count": 52,
   "metadata": {
    "colab": {
     "base_uri": "https://localhost:8080/",
     "height": 423
    },
    "id": "ZRDB2K7gioqI",
    "outputId": "6a385cc3-1502-484c-ee97-32525070a060"
   },
   "outputs": [
    {
     "data": {
      "text/html": [
       "<div>\n",
       "<style scoped>\n",
       "    .dataframe tbody tr th:only-of-type {\n",
       "        vertical-align: middle;\n",
       "    }\n",
       "\n",
       "    .dataframe tbody tr th {\n",
       "        vertical-align: top;\n",
       "    }\n",
       "\n",
       "    .dataframe thead th {\n",
       "        text-align: right;\n",
       "    }\n",
       "</style>\n",
       "<table border=\"1\" class=\"dataframe\">\n",
       "  <thead>\n",
       "    <tr style=\"text-align: right;\">\n",
       "      <th></th>\n",
       "      <th>match_id</th>\n",
       "      <th>inning</th>\n",
       "      <th>total_runs</th>\n",
       "    </tr>\n",
       "  </thead>\n",
       "  <tbody>\n",
       "    <tr>\n",
       "      <th>0</th>\n",
       "      <td>1</td>\n",
       "      <td>1</td>\n",
       "      <td>207</td>\n",
       "    </tr>\n",
       "    <tr>\n",
       "      <th>2</th>\n",
       "      <td>2</td>\n",
       "      <td>1</td>\n",
       "      <td>184</td>\n",
       "    </tr>\n",
       "    <tr>\n",
       "      <th>4</th>\n",
       "      <td>3</td>\n",
       "      <td>1</td>\n",
       "      <td>183</td>\n",
       "    </tr>\n",
       "    <tr>\n",
       "      <th>6</th>\n",
       "      <td>4</td>\n",
       "      <td>1</td>\n",
       "      <td>163</td>\n",
       "    </tr>\n",
       "    <tr>\n",
       "      <th>8</th>\n",
       "      <td>5</td>\n",
       "      <td>1</td>\n",
       "      <td>157</td>\n",
       "    </tr>\n",
       "    <tr>\n",
       "      <th>...</th>\n",
       "      <td>...</td>\n",
       "      <td>...</td>\n",
       "      <td>...</td>\n",
       "    </tr>\n",
       "    <tr>\n",
       "      <th>1518</th>\n",
       "      <td>11347</td>\n",
       "      <td>1</td>\n",
       "      <td>143</td>\n",
       "    </tr>\n",
       "    <tr>\n",
       "      <th>1520</th>\n",
       "      <td>11412</td>\n",
       "      <td>1</td>\n",
       "      <td>136</td>\n",
       "    </tr>\n",
       "    <tr>\n",
       "      <th>1522</th>\n",
       "      <td>11413</td>\n",
       "      <td>1</td>\n",
       "      <td>171</td>\n",
       "    </tr>\n",
       "    <tr>\n",
       "      <th>1524</th>\n",
       "      <td>11414</td>\n",
       "      <td>1</td>\n",
       "      <td>155</td>\n",
       "    </tr>\n",
       "    <tr>\n",
       "      <th>1526</th>\n",
       "      <td>11415</td>\n",
       "      <td>1</td>\n",
       "      <td>152</td>\n",
       "    </tr>\n",
       "  </tbody>\n",
       "</table>\n",
       "<p>756 rows × 3 columns</p>\n",
       "</div>"
      ],
      "text/plain": [
       "      match_id  inning  total_runs\n",
       "0            1       1         207\n",
       "2            2       1         184\n",
       "4            3       1         183\n",
       "6            4       1         163\n",
       "8            5       1         157\n",
       "...        ...     ...         ...\n",
       "1518     11347       1         143\n",
       "1520     11412       1         136\n",
       "1522     11413       1         171\n",
       "1524     11414       1         155\n",
       "1526     11415       1         152\n",
       "\n",
       "[756 rows x 3 columns]"
      ]
     },
     "execution_count": 52,
     "metadata": {},
     "output_type": "execute_result"
    }
   ],
   "source": [
    "total_score_df"
   ]
  },
  {
   "cell_type": "code",
   "execution_count": 53,
   "metadata": {
    "colab": {
     "base_uri": "https://localhost:8080/",
     "height": 939
    },
    "id": "EI1wMwjrjvoI",
    "outputId": "5eff8f7b-fb05-401d-c1ff-82bfaeebcdd4"
   },
   "outputs": [
    {
     "data": {
      "text/html": [
       "<div>\n",
       "<style scoped>\n",
       "    .dataframe tbody tr th:only-of-type {\n",
       "        vertical-align: middle;\n",
       "    }\n",
       "\n",
       "    .dataframe tbody tr th {\n",
       "        vertical-align: top;\n",
       "    }\n",
       "\n",
       "    .dataframe thead th {\n",
       "        text-align: right;\n",
       "    }\n",
       "</style>\n",
       "<table border=\"1\" class=\"dataframe\">\n",
       "  <thead>\n",
       "    <tr style=\"text-align: right;\">\n",
       "      <th></th>\n",
       "      <th>id</th>\n",
       "      <th>season</th>\n",
       "      <th>city</th>\n",
       "      <th>date</th>\n",
       "      <th>team1</th>\n",
       "      <th>team2</th>\n",
       "      <th>toss_winner</th>\n",
       "      <th>toss_decision</th>\n",
       "      <th>result</th>\n",
       "      <th>dl_applied</th>\n",
       "      <th>winner</th>\n",
       "      <th>win_by_runs</th>\n",
       "      <th>win_by_wickets</th>\n",
       "      <th>player_of_match</th>\n",
       "      <th>venue</th>\n",
       "      <th>match_id</th>\n",
       "      <th>total_runs</th>\n",
       "    </tr>\n",
       "  </thead>\n",
       "  <tbody>\n",
       "    <tr>\n",
       "      <th>0</th>\n",
       "      <td>60</td>\n",
       "      <td>2008</td>\n",
       "      <td>Bangalore</td>\n",
       "      <td>18-04-2008</td>\n",
       "      <td>Kolkata Knight Riders</td>\n",
       "      <td>Royal Challengers Bangalore</td>\n",
       "      <td>Royal Challengers Bangalore</td>\n",
       "      <td>field</td>\n",
       "      <td>normal</td>\n",
       "      <td>0</td>\n",
       "      <td>Kolkata Knight Riders</td>\n",
       "      <td>140</td>\n",
       "      <td>0</td>\n",
       "      <td>BB McCullum</td>\n",
       "      <td>M. Chinnaswamy Stadium</td>\n",
       "      <td>60</td>\n",
       "      <td>222</td>\n",
       "    </tr>\n",
       "    <tr>\n",
       "      <th>1</th>\n",
       "      <td>61</td>\n",
       "      <td>2008</td>\n",
       "      <td>Chandigarh</td>\n",
       "      <td>19-04-2008</td>\n",
       "      <td>Chennai Super Kings</td>\n",
       "      <td>Kings XI Punjab</td>\n",
       "      <td>Chennai Super Kings</td>\n",
       "      <td>bat</td>\n",
       "      <td>normal</td>\n",
       "      <td>0</td>\n",
       "      <td>Chennai Super Kings</td>\n",
       "      <td>33</td>\n",
       "      <td>0</td>\n",
       "      <td>MEK Hussey</td>\n",
       "      <td>Punjab Cricket Association IS Bindra Stadium</td>\n",
       "      <td>61</td>\n",
       "      <td>240</td>\n",
       "    </tr>\n",
       "    <tr>\n",
       "      <th>2</th>\n",
       "      <td>62</td>\n",
       "      <td>2008</td>\n",
       "      <td>Delhi</td>\n",
       "      <td>19-04-2008</td>\n",
       "      <td>Rajasthan Royals</td>\n",
       "      <td>Delhi Daredevils</td>\n",
       "      <td>Rajasthan Royals</td>\n",
       "      <td>bat</td>\n",
       "      <td>normal</td>\n",
       "      <td>0</td>\n",
       "      <td>Delhi Daredevils</td>\n",
       "      <td>0</td>\n",
       "      <td>9</td>\n",
       "      <td>MF Maharoof</td>\n",
       "      <td>Feroz Shah Kotla</td>\n",
       "      <td>62</td>\n",
       "      <td>129</td>\n",
       "    </tr>\n",
       "    <tr>\n",
       "      <th>3</th>\n",
       "      <td>63</td>\n",
       "      <td>2008</td>\n",
       "      <td>Mumbai</td>\n",
       "      <td>20-04-2008</td>\n",
       "      <td>Mumbai Indians</td>\n",
       "      <td>Royal Challengers Bangalore</td>\n",
       "      <td>Mumbai Indians</td>\n",
       "      <td>bat</td>\n",
       "      <td>normal</td>\n",
       "      <td>0</td>\n",
       "      <td>Royal Challengers Bangalore</td>\n",
       "      <td>0</td>\n",
       "      <td>5</td>\n",
       "      <td>MV Boucher</td>\n",
       "      <td>Wankhede Stadium</td>\n",
       "      <td>63</td>\n",
       "      <td>165</td>\n",
       "    </tr>\n",
       "    <tr>\n",
       "      <th>4</th>\n",
       "      <td>64</td>\n",
       "      <td>2008</td>\n",
       "      <td>Kolkata</td>\n",
       "      <td>20-04-2008</td>\n",
       "      <td>Deccan Chargers</td>\n",
       "      <td>Kolkata Knight Riders</td>\n",
       "      <td>Deccan Chargers</td>\n",
       "      <td>bat</td>\n",
       "      <td>normal</td>\n",
       "      <td>0</td>\n",
       "      <td>Kolkata Knight Riders</td>\n",
       "      <td>0</td>\n",
       "      <td>5</td>\n",
       "      <td>DJ Hussey</td>\n",
       "      <td>Eden Gardens</td>\n",
       "      <td>64</td>\n",
       "      <td>110</td>\n",
       "    </tr>\n",
       "    <tr>\n",
       "      <th>...</th>\n",
       "      <td>...</td>\n",
       "      <td>...</td>\n",
       "      <td>...</td>\n",
       "      <td>...</td>\n",
       "      <td>...</td>\n",
       "      <td>...</td>\n",
       "      <td>...</td>\n",
       "      <td>...</td>\n",
       "      <td>...</td>\n",
       "      <td>...</td>\n",
       "      <td>...</td>\n",
       "      <td>...</td>\n",
       "      <td>...</td>\n",
       "      <td>...</td>\n",
       "      <td>...</td>\n",
       "      <td>...</td>\n",
       "      <td>...</td>\n",
       "    </tr>\n",
       "    <tr>\n",
       "      <th>751</th>\n",
       "      <td>11347</td>\n",
       "      <td>2019</td>\n",
       "      <td>Mumbai</td>\n",
       "      <td>05-05-2019</td>\n",
       "      <td>Kolkata Knight Riders</td>\n",
       "      <td>Mumbai Indians</td>\n",
       "      <td>Mumbai Indians</td>\n",
       "      <td>field</td>\n",
       "      <td>normal</td>\n",
       "      <td>0</td>\n",
       "      <td>Mumbai Indians</td>\n",
       "      <td>0</td>\n",
       "      <td>9</td>\n",
       "      <td>HH Pandya</td>\n",
       "      <td>Wankhede Stadium</td>\n",
       "      <td>11347</td>\n",
       "      <td>143</td>\n",
       "    </tr>\n",
       "    <tr>\n",
       "      <th>752</th>\n",
       "      <td>11412</td>\n",
       "      <td>2019</td>\n",
       "      <td>Chennai</td>\n",
       "      <td>07-05-2019</td>\n",
       "      <td>Chennai Super Kings</td>\n",
       "      <td>Mumbai Indians</td>\n",
       "      <td>Chennai Super Kings</td>\n",
       "      <td>bat</td>\n",
       "      <td>normal</td>\n",
       "      <td>0</td>\n",
       "      <td>Mumbai Indians</td>\n",
       "      <td>0</td>\n",
       "      <td>6</td>\n",
       "      <td>AS Yadav</td>\n",
       "      <td>M. A. Chidambaram Stadium</td>\n",
       "      <td>11412</td>\n",
       "      <td>136</td>\n",
       "    </tr>\n",
       "    <tr>\n",
       "      <th>753</th>\n",
       "      <td>11413</td>\n",
       "      <td>2019</td>\n",
       "      <td>Visakhapatnam</td>\n",
       "      <td>08-05-2019</td>\n",
       "      <td>Sunrisers Hyderabad</td>\n",
       "      <td>Delhi Capitals</td>\n",
       "      <td>Delhi Capitals</td>\n",
       "      <td>field</td>\n",
       "      <td>normal</td>\n",
       "      <td>0</td>\n",
       "      <td>Delhi Capitals</td>\n",
       "      <td>0</td>\n",
       "      <td>2</td>\n",
       "      <td>RR Pant</td>\n",
       "      <td>Dr. Y.S. Rajasekhara Reddy ACA-VDCA Cricket St...</td>\n",
       "      <td>11413</td>\n",
       "      <td>171</td>\n",
       "    </tr>\n",
       "    <tr>\n",
       "      <th>754</th>\n",
       "      <td>11414</td>\n",
       "      <td>2019</td>\n",
       "      <td>Visakhapatnam</td>\n",
       "      <td>10-05-2019</td>\n",
       "      <td>Delhi Capitals</td>\n",
       "      <td>Chennai Super Kings</td>\n",
       "      <td>Chennai Super Kings</td>\n",
       "      <td>field</td>\n",
       "      <td>normal</td>\n",
       "      <td>0</td>\n",
       "      <td>Chennai Super Kings</td>\n",
       "      <td>0</td>\n",
       "      <td>6</td>\n",
       "      <td>F du Plessis</td>\n",
       "      <td>Dr. Y.S. Rajasekhara Reddy ACA-VDCA Cricket St...</td>\n",
       "      <td>11414</td>\n",
       "      <td>155</td>\n",
       "    </tr>\n",
       "    <tr>\n",
       "      <th>755</th>\n",
       "      <td>11415</td>\n",
       "      <td>2019</td>\n",
       "      <td>Hyderabad</td>\n",
       "      <td>12-05-2019</td>\n",
       "      <td>Mumbai Indians</td>\n",
       "      <td>Chennai Super Kings</td>\n",
       "      <td>Mumbai Indians</td>\n",
       "      <td>bat</td>\n",
       "      <td>normal</td>\n",
       "      <td>0</td>\n",
       "      <td>Mumbai Indians</td>\n",
       "      <td>1</td>\n",
       "      <td>0</td>\n",
       "      <td>JJ Bumrah</td>\n",
       "      <td>Rajiv Gandhi Intl. Cricket Stadium</td>\n",
       "      <td>11415</td>\n",
       "      <td>152</td>\n",
       "    </tr>\n",
       "  </tbody>\n",
       "</table>\n",
       "<p>756 rows × 17 columns</p>\n",
       "</div>"
      ],
      "text/plain": [
       "        id  season           city        date                  team1  \\\n",
       "0       60    2008      Bangalore  18-04-2008  Kolkata Knight Riders   \n",
       "1       61    2008     Chandigarh  19-04-2008    Chennai Super Kings   \n",
       "2       62    2008          Delhi  19-04-2008       Rajasthan Royals   \n",
       "3       63    2008         Mumbai  20-04-2008         Mumbai Indians   \n",
       "4       64    2008        Kolkata  20-04-2008        Deccan Chargers   \n",
       "..     ...     ...            ...         ...                    ...   \n",
       "751  11347    2019         Mumbai  05-05-2019  Kolkata Knight Riders   \n",
       "752  11412    2019        Chennai  07-05-2019    Chennai Super Kings   \n",
       "753  11413    2019  Visakhapatnam  08-05-2019    Sunrisers Hyderabad   \n",
       "754  11414    2019  Visakhapatnam  10-05-2019         Delhi Capitals   \n",
       "755  11415    2019      Hyderabad  12-05-2019         Mumbai Indians   \n",
       "\n",
       "                           team2                  toss_winner toss_decision  \\\n",
       "0    Royal Challengers Bangalore  Royal Challengers Bangalore         field   \n",
       "1                Kings XI Punjab          Chennai Super Kings           bat   \n",
       "2               Delhi Daredevils             Rajasthan Royals           bat   \n",
       "3    Royal Challengers Bangalore               Mumbai Indians           bat   \n",
       "4          Kolkata Knight Riders              Deccan Chargers           bat   \n",
       "..                           ...                          ...           ...   \n",
       "751               Mumbai Indians               Mumbai Indians         field   \n",
       "752               Mumbai Indians          Chennai Super Kings           bat   \n",
       "753               Delhi Capitals               Delhi Capitals         field   \n",
       "754          Chennai Super Kings          Chennai Super Kings         field   \n",
       "755          Chennai Super Kings               Mumbai Indians           bat   \n",
       "\n",
       "     result  dl_applied                       winner  win_by_runs  \\\n",
       "0    normal           0        Kolkata Knight Riders          140   \n",
       "1    normal           0          Chennai Super Kings           33   \n",
       "2    normal           0             Delhi Daredevils            0   \n",
       "3    normal           0  Royal Challengers Bangalore            0   \n",
       "4    normal           0        Kolkata Knight Riders            0   \n",
       "..      ...         ...                          ...          ...   \n",
       "751  normal           0               Mumbai Indians            0   \n",
       "752  normal           0               Mumbai Indians            0   \n",
       "753  normal           0               Delhi Capitals            0   \n",
       "754  normal           0          Chennai Super Kings            0   \n",
       "755  normal           0               Mumbai Indians            1   \n",
       "\n",
       "     win_by_wickets player_of_match  \\\n",
       "0                 0     BB McCullum   \n",
       "1                 0      MEK Hussey   \n",
       "2                 9     MF Maharoof   \n",
       "3                 5      MV Boucher   \n",
       "4                 5       DJ Hussey   \n",
       "..              ...             ...   \n",
       "751               9       HH Pandya   \n",
       "752               6        AS Yadav   \n",
       "753               2         RR Pant   \n",
       "754               6    F du Plessis   \n",
       "755               0       JJ Bumrah   \n",
       "\n",
       "                                                 venue  match_id  total_runs  \n",
       "0                               M. Chinnaswamy Stadium        60         222  \n",
       "1         Punjab Cricket Association IS Bindra Stadium        61         240  \n",
       "2                                     Feroz Shah Kotla        62         129  \n",
       "3                                     Wankhede Stadium        63         165  \n",
       "4                                         Eden Gardens        64         110  \n",
       "..                                                 ...       ...         ...  \n",
       "751                                   Wankhede Stadium     11347         143  \n",
       "752                          M. A. Chidambaram Stadium     11412         136  \n",
       "753  Dr. Y.S. Rajasekhara Reddy ACA-VDCA Cricket St...     11413         171  \n",
       "754  Dr. Y.S. Rajasekhara Reddy ACA-VDCA Cricket St...     11414         155  \n",
       "755                 Rajiv Gandhi Intl. Cricket Stadium     11415         152  \n",
       "\n",
       "[756 rows x 17 columns]"
      ]
     },
     "execution_count": 53,
     "metadata": {},
     "output_type": "execute_result"
    }
   ],
   "source": [
    "match_df = match.merge(total_score_df[['match_id','total_runs']],left_on='id',right_on='match_id')\n",
    "match_df"
   ]
  },
  {
   "cell_type": "code",
   "execution_count": 54,
   "metadata": {
    "colab": {
     "base_uri": "https://localhost:8080/"
    },
    "id": "QBdFmvyaknoO",
    "outputId": "a55c11bf-5580-4218-c721-fa9a7bc4a6b8"
   },
   "outputs": [
    {
     "data": {
      "text/plain": [
       "array(['Kolkata Knight Riders', 'Chennai Super Kings', 'Rajasthan Royals',\n",
       "       'Mumbai Indians', 'Deccan Chargers', 'Kings XI Punjab',\n",
       "       'Royal Challengers Bangalore', 'Delhi Daredevils',\n",
       "       'Kochi Tuskers Kerala', 'Pune Warriors', 'Sunrisers Hyderabad',\n",
       "       'Rising Pune Supergiant', 'Gujarat Lions', 'Delhi Capitals'],\n",
       "      dtype=object)"
      ]
     },
     "execution_count": 54,
     "metadata": {},
     "output_type": "execute_result"
    }
   ],
   "source": [
    "match_df['team1'].unique()"
   ]
  },
  {
   "cell_type": "code",
   "execution_count": 55,
   "metadata": {
    "id": "0X8WXGIKqffP"
   },
   "outputs": [],
   "source": [
    "teams = ['Mumbai Indians',\n",
    "    'Kolkata Knight Riders',\n",
    "    'Royal Challengers Bangalore',\n",
    "    'Chennai Super Kings',\n",
    "    'Rajasthan Royals',\n",
    "    'Kings XI Punjab',\n",
    "    'Sunrisers Hyderabad',\n",
    "    'Delhi Capitals']"
   ]
  },
  {
   "cell_type": "code",
   "execution_count": 56,
   "metadata": {
    "id": "kHEuw5t77yty"
   },
   "outputs": [],
   "source": [
    "match_df['team1']=match_df['team1'].str.replace('Delhi Daredevils','Delhi Capitals')\n",
    "match_df['team2']=match_df['team2'].str.replace('Delhi Daredevils','Delhi Capitals')\n",
    "\n",
    "match_df['team1']=match_df['team1'].str.replace('Deccan Chargers','Sunrisers Hyderabad')\n",
    "match_df['team2']=match_df['team2'].str.replace('Deccan Chargers','Sunrisers Hyderabad')\n"
   ]
  },
  {
   "cell_type": "code",
   "execution_count": 57,
   "metadata": {
    "id": "O_a8YXcV7yGp"
   },
   "outputs": [],
   "source": [
    "match_df=match_df[match_df['team1'].isin(teams)]\n",
    "match_df=match_df[match_df['team2'].isin(teams)]"
   ]
  },
  {
   "cell_type": "code",
   "execution_count": 58,
   "metadata": {
    "colab": {
     "base_uri": "https://localhost:8080/"
    },
    "id": "4soaUigjCUvQ",
    "outputId": "9b1fc6eb-be13-49ed-9d33-2d07021ddc6b"
   },
   "outputs": [
    {
     "data": {
      "text/plain": [
       "(641, 17)"
      ]
     },
     "execution_count": 58,
     "metadata": {},
     "output_type": "execute_result"
    }
   ],
   "source": [
    "match_df.shape"
   ]
  },
  {
   "cell_type": "code",
   "execution_count": 59,
   "metadata": {
    "colab": {
     "base_uri": "https://localhost:8080/"
    },
    "id": "MWibbAr-Cic4",
    "outputId": "e01efc44-8781-4a6e-f05d-f1d3f042f940"
   },
   "outputs": [
    {
     "data": {
      "text/plain": [
       "0    626\n",
       "1     15\n",
       "Name: dl_applied, dtype: int64"
      ]
     },
     "execution_count": 59,
     "metadata": {},
     "output_type": "execute_result"
    }
   ],
   "source": [
    "#dealing dl applied\n",
    "match_df['dl_applied'].value_counts()"
   ]
  },
  {
   "cell_type": "code",
   "execution_count": 60,
   "metadata": {
    "id": "mBDH6Yf9Da5d"
   },
   "outputs": [],
   "source": [
    "match_df=match_df[match_df['dl_applied']==0]"
   ]
  },
  {
   "cell_type": "code",
   "execution_count": 61,
   "metadata": {
    "id": "VAKNsydnLdG0"
   },
   "outputs": [],
   "source": [
    "match_df=match_df[['match_id','city','winner','total_runs',]]"
   ]
  },
  {
   "cell_type": "code",
   "execution_count": 62,
   "metadata": {
    "colab": {
     "base_uri": "https://localhost:8080/",
     "height": 748
    },
    "id": "zQZEUo78DSgs",
    "outputId": "3de86b0b-a746-4a1d-d326-88928038b1c5"
   },
   "outputs": [
    {
     "data": {
      "text/html": [
       "<div>\n",
       "<style scoped>\n",
       "    .dataframe tbody tr th:only-of-type {\n",
       "        vertical-align: middle;\n",
       "    }\n",
       "\n",
       "    .dataframe tbody tr th {\n",
       "        vertical-align: top;\n",
       "    }\n",
       "\n",
       "    .dataframe thead th {\n",
       "        text-align: right;\n",
       "    }\n",
       "</style>\n",
       "<table border=\"1\" class=\"dataframe\">\n",
       "  <thead>\n",
       "    <tr style=\"text-align: right;\">\n",
       "      <th></th>\n",
       "      <th>match_id</th>\n",
       "      <th>city</th>\n",
       "      <th>winner</th>\n",
       "      <th>total_runs_x</th>\n",
       "      <th>inning</th>\n",
       "      <th>batting_team</th>\n",
       "      <th>bowling_team</th>\n",
       "      <th>over</th>\n",
       "      <th>ball</th>\n",
       "      <th>batsman</th>\n",
       "      <th>...</th>\n",
       "      <th>bye_runs</th>\n",
       "      <th>legbye_runs</th>\n",
       "      <th>noball_runs</th>\n",
       "      <th>penalty_runs</th>\n",
       "      <th>batsman_runs</th>\n",
       "      <th>extra_runs</th>\n",
       "      <th>total_runs_y</th>\n",
       "      <th>player_dismissed</th>\n",
       "      <th>dismissal_kind</th>\n",
       "      <th>fielder</th>\n",
       "    </tr>\n",
       "  </thead>\n",
       "  <tbody>\n",
       "    <tr>\n",
       "      <th>124</th>\n",
       "      <td>60</td>\n",
       "      <td>Bangalore</td>\n",
       "      <td>Kolkata Knight Riders</td>\n",
       "      <td>222</td>\n",
       "      <td>2</td>\n",
       "      <td>Royal Challengers Bangalore</td>\n",
       "      <td>Kolkata Knight Riders</td>\n",
       "      <td>1</td>\n",
       "      <td>1</td>\n",
       "      <td>R Dravid</td>\n",
       "      <td>...</td>\n",
       "      <td>0</td>\n",
       "      <td>0</td>\n",
       "      <td>0</td>\n",
       "      <td>0</td>\n",
       "      <td>1</td>\n",
       "      <td>0</td>\n",
       "      <td>1</td>\n",
       "      <td>NaN</td>\n",
       "      <td>NaN</td>\n",
       "      <td>NaN</td>\n",
       "    </tr>\n",
       "    <tr>\n",
       "      <th>125</th>\n",
       "      <td>60</td>\n",
       "      <td>Bangalore</td>\n",
       "      <td>Kolkata Knight Riders</td>\n",
       "      <td>222</td>\n",
       "      <td>2</td>\n",
       "      <td>Royal Challengers Bangalore</td>\n",
       "      <td>Kolkata Knight Riders</td>\n",
       "      <td>1</td>\n",
       "      <td>2</td>\n",
       "      <td>W Jaffer</td>\n",
       "      <td>...</td>\n",
       "      <td>0</td>\n",
       "      <td>0</td>\n",
       "      <td>0</td>\n",
       "      <td>0</td>\n",
       "      <td>0</td>\n",
       "      <td>1</td>\n",
       "      <td>1</td>\n",
       "      <td>NaN</td>\n",
       "      <td>NaN</td>\n",
       "      <td>NaN</td>\n",
       "    </tr>\n",
       "    <tr>\n",
       "      <th>126</th>\n",
       "      <td>60</td>\n",
       "      <td>Bangalore</td>\n",
       "      <td>Kolkata Knight Riders</td>\n",
       "      <td>222</td>\n",
       "      <td>2</td>\n",
       "      <td>Royal Challengers Bangalore</td>\n",
       "      <td>Kolkata Knight Riders</td>\n",
       "      <td>1</td>\n",
       "      <td>3</td>\n",
       "      <td>W Jaffer</td>\n",
       "      <td>...</td>\n",
       "      <td>0</td>\n",
       "      <td>0</td>\n",
       "      <td>0</td>\n",
       "      <td>0</td>\n",
       "      <td>0</td>\n",
       "      <td>0</td>\n",
       "      <td>0</td>\n",
       "      <td>NaN</td>\n",
       "      <td>NaN</td>\n",
       "      <td>NaN</td>\n",
       "    </tr>\n",
       "    <tr>\n",
       "      <th>127</th>\n",
       "      <td>60</td>\n",
       "      <td>Bangalore</td>\n",
       "      <td>Kolkata Knight Riders</td>\n",
       "      <td>222</td>\n",
       "      <td>2</td>\n",
       "      <td>Royal Challengers Bangalore</td>\n",
       "      <td>Kolkata Knight Riders</td>\n",
       "      <td>1</td>\n",
       "      <td>4</td>\n",
       "      <td>W Jaffer</td>\n",
       "      <td>...</td>\n",
       "      <td>0</td>\n",
       "      <td>0</td>\n",
       "      <td>0</td>\n",
       "      <td>0</td>\n",
       "      <td>1</td>\n",
       "      <td>0</td>\n",
       "      <td>1</td>\n",
       "      <td>NaN</td>\n",
       "      <td>NaN</td>\n",
       "      <td>NaN</td>\n",
       "    </tr>\n",
       "    <tr>\n",
       "      <th>128</th>\n",
       "      <td>60</td>\n",
       "      <td>Bangalore</td>\n",
       "      <td>Kolkata Knight Riders</td>\n",
       "      <td>222</td>\n",
       "      <td>2</td>\n",
       "      <td>Royal Challengers Bangalore</td>\n",
       "      <td>Kolkata Knight Riders</td>\n",
       "      <td>1</td>\n",
       "      <td>5</td>\n",
       "      <td>R Dravid</td>\n",
       "      <td>...</td>\n",
       "      <td>0</td>\n",
       "      <td>0</td>\n",
       "      <td>0</td>\n",
       "      <td>0</td>\n",
       "      <td>1</td>\n",
       "      <td>0</td>\n",
       "      <td>1</td>\n",
       "      <td>NaN</td>\n",
       "      <td>NaN</td>\n",
       "      <td>NaN</td>\n",
       "    </tr>\n",
       "    <tr>\n",
       "      <th>...</th>\n",
       "      <td>...</td>\n",
       "      <td>...</td>\n",
       "      <td>...</td>\n",
       "      <td>...</td>\n",
       "      <td>...</td>\n",
       "      <td>...</td>\n",
       "      <td>...</td>\n",
       "      <td>...</td>\n",
       "      <td>...</td>\n",
       "      <td>...</td>\n",
       "      <td>...</td>\n",
       "      <td>...</td>\n",
       "      <td>...</td>\n",
       "      <td>...</td>\n",
       "      <td>...</td>\n",
       "      <td>...</td>\n",
       "      <td>...</td>\n",
       "      <td>...</td>\n",
       "      <td>...</td>\n",
       "      <td>...</td>\n",
       "      <td>...</td>\n",
       "    </tr>\n",
       "    <tr>\n",
       "      <th>149573</th>\n",
       "      <td>11415</td>\n",
       "      <td>Hyderabad</td>\n",
       "      <td>Mumbai Indians</td>\n",
       "      <td>152</td>\n",
       "      <td>2</td>\n",
       "      <td>Chennai Super Kings</td>\n",
       "      <td>Mumbai Indians</td>\n",
       "      <td>20</td>\n",
       "      <td>2</td>\n",
       "      <td>RA Jadeja</td>\n",
       "      <td>...</td>\n",
       "      <td>0</td>\n",
       "      <td>0</td>\n",
       "      <td>0</td>\n",
       "      <td>0</td>\n",
       "      <td>1</td>\n",
       "      <td>0</td>\n",
       "      <td>1</td>\n",
       "      <td>NaN</td>\n",
       "      <td>NaN</td>\n",
       "      <td>NaN</td>\n",
       "    </tr>\n",
       "    <tr>\n",
       "      <th>149574</th>\n",
       "      <td>11415</td>\n",
       "      <td>Hyderabad</td>\n",
       "      <td>Mumbai Indians</td>\n",
       "      <td>152</td>\n",
       "      <td>2</td>\n",
       "      <td>Chennai Super Kings</td>\n",
       "      <td>Mumbai Indians</td>\n",
       "      <td>20</td>\n",
       "      <td>3</td>\n",
       "      <td>SR Watson</td>\n",
       "      <td>...</td>\n",
       "      <td>0</td>\n",
       "      <td>0</td>\n",
       "      <td>0</td>\n",
       "      <td>0</td>\n",
       "      <td>2</td>\n",
       "      <td>0</td>\n",
       "      <td>2</td>\n",
       "      <td>NaN</td>\n",
       "      <td>NaN</td>\n",
       "      <td>NaN</td>\n",
       "    </tr>\n",
       "    <tr>\n",
       "      <th>149575</th>\n",
       "      <td>11415</td>\n",
       "      <td>Hyderabad</td>\n",
       "      <td>Mumbai Indians</td>\n",
       "      <td>152</td>\n",
       "      <td>2</td>\n",
       "      <td>Chennai Super Kings</td>\n",
       "      <td>Mumbai Indians</td>\n",
       "      <td>20</td>\n",
       "      <td>4</td>\n",
       "      <td>SR Watson</td>\n",
       "      <td>...</td>\n",
       "      <td>0</td>\n",
       "      <td>0</td>\n",
       "      <td>0</td>\n",
       "      <td>0</td>\n",
       "      <td>1</td>\n",
       "      <td>0</td>\n",
       "      <td>1</td>\n",
       "      <td>SR Watson</td>\n",
       "      <td>run out</td>\n",
       "      <td>KH Pandya</td>\n",
       "    </tr>\n",
       "    <tr>\n",
       "      <th>149576</th>\n",
       "      <td>11415</td>\n",
       "      <td>Hyderabad</td>\n",
       "      <td>Mumbai Indians</td>\n",
       "      <td>152</td>\n",
       "      <td>2</td>\n",
       "      <td>Chennai Super Kings</td>\n",
       "      <td>Mumbai Indians</td>\n",
       "      <td>20</td>\n",
       "      <td>5</td>\n",
       "      <td>SN Thakur</td>\n",
       "      <td>...</td>\n",
       "      <td>0</td>\n",
       "      <td>0</td>\n",
       "      <td>0</td>\n",
       "      <td>0</td>\n",
       "      <td>2</td>\n",
       "      <td>0</td>\n",
       "      <td>2</td>\n",
       "      <td>NaN</td>\n",
       "      <td>NaN</td>\n",
       "      <td>NaN</td>\n",
       "    </tr>\n",
       "    <tr>\n",
       "      <th>149577</th>\n",
       "      <td>11415</td>\n",
       "      <td>Hyderabad</td>\n",
       "      <td>Mumbai Indians</td>\n",
       "      <td>152</td>\n",
       "      <td>2</td>\n",
       "      <td>Chennai Super Kings</td>\n",
       "      <td>Mumbai Indians</td>\n",
       "      <td>20</td>\n",
       "      <td>6</td>\n",
       "      <td>SN Thakur</td>\n",
       "      <td>...</td>\n",
       "      <td>0</td>\n",
       "      <td>0</td>\n",
       "      <td>0</td>\n",
       "      <td>0</td>\n",
       "      <td>0</td>\n",
       "      <td>0</td>\n",
       "      <td>0</td>\n",
       "      <td>SN Thakur</td>\n",
       "      <td>lbw</td>\n",
       "      <td>NaN</td>\n",
       "    </tr>\n",
       "  </tbody>\n",
       "</table>\n",
       "<p>72413 rows × 24 columns</p>\n",
       "</div>"
      ],
      "text/plain": [
       "        match_id       city                 winner  total_runs_x  inning  \\\n",
       "124           60  Bangalore  Kolkata Knight Riders           222       2   \n",
       "125           60  Bangalore  Kolkata Knight Riders           222       2   \n",
       "126           60  Bangalore  Kolkata Knight Riders           222       2   \n",
       "127           60  Bangalore  Kolkata Knight Riders           222       2   \n",
       "128           60  Bangalore  Kolkata Knight Riders           222       2   \n",
       "...          ...        ...                    ...           ...     ...   \n",
       "149573     11415  Hyderabad         Mumbai Indians           152       2   \n",
       "149574     11415  Hyderabad         Mumbai Indians           152       2   \n",
       "149575     11415  Hyderabad         Mumbai Indians           152       2   \n",
       "149576     11415  Hyderabad         Mumbai Indians           152       2   \n",
       "149577     11415  Hyderabad         Mumbai Indians           152       2   \n",
       "\n",
       "                       batting_team           bowling_team  over  ball  \\\n",
       "124     Royal Challengers Bangalore  Kolkata Knight Riders     1     1   \n",
       "125     Royal Challengers Bangalore  Kolkata Knight Riders     1     2   \n",
       "126     Royal Challengers Bangalore  Kolkata Knight Riders     1     3   \n",
       "127     Royal Challengers Bangalore  Kolkata Knight Riders     1     4   \n",
       "128     Royal Challengers Bangalore  Kolkata Knight Riders     1     5   \n",
       "...                             ...                    ...   ...   ...   \n",
       "149573          Chennai Super Kings         Mumbai Indians    20     2   \n",
       "149574          Chennai Super Kings         Mumbai Indians    20     3   \n",
       "149575          Chennai Super Kings         Mumbai Indians    20     4   \n",
       "149576          Chennai Super Kings         Mumbai Indians    20     5   \n",
       "149577          Chennai Super Kings         Mumbai Indians    20     6   \n",
       "\n",
       "          batsman  ... bye_runs legbye_runs  noball_runs  penalty_runs  \\\n",
       "124      R Dravid  ...        0           0            0             0   \n",
       "125      W Jaffer  ...        0           0            0             0   \n",
       "126      W Jaffer  ...        0           0            0             0   \n",
       "127      W Jaffer  ...        0           0            0             0   \n",
       "128      R Dravid  ...        0           0            0             0   \n",
       "...           ...  ...      ...         ...          ...           ...   \n",
       "149573  RA Jadeja  ...        0           0            0             0   \n",
       "149574  SR Watson  ...        0           0            0             0   \n",
       "149575  SR Watson  ...        0           0            0             0   \n",
       "149576  SN Thakur  ...        0           0            0             0   \n",
       "149577  SN Thakur  ...        0           0            0             0   \n",
       "\n",
       "        batsman_runs  extra_runs  total_runs_y  player_dismissed  \\\n",
       "124                1           0             1               NaN   \n",
       "125                0           1             1               NaN   \n",
       "126                0           0             0               NaN   \n",
       "127                1           0             1               NaN   \n",
       "128                1           0             1               NaN   \n",
       "...              ...         ...           ...               ...   \n",
       "149573             1           0             1               NaN   \n",
       "149574             2           0             2               NaN   \n",
       "149575             1           0             1         SR Watson   \n",
       "149576             2           0             2               NaN   \n",
       "149577             0           0             0         SN Thakur   \n",
       "\n",
       "        dismissal_kind    fielder  \n",
       "124                NaN        NaN  \n",
       "125                NaN        NaN  \n",
       "126                NaN        NaN  \n",
       "127                NaN        NaN  \n",
       "128                NaN        NaN  \n",
       "...                ...        ...  \n",
       "149573             NaN        NaN  \n",
       "149574             NaN        NaN  \n",
       "149575         run out  KH Pandya  \n",
       "149576             NaN        NaN  \n",
       "149577             lbw        NaN  \n",
       "\n",
       "[72413 rows x 24 columns]"
      ]
     },
     "execution_count": 62,
     "metadata": {},
     "output_type": "execute_result"
    }
   ],
   "source": [
    "delivery_df=match_df.merge(delivery,on='match_id')\n",
    "delivery_df=delivery_df[delivery_df['inning']==2]\n",
    "delivery_df"
   ]
  },
  {
   "cell_type": "code",
   "execution_count": 63,
   "metadata": {
    "colab": {
     "base_uri": "https://localhost:8080/"
    },
    "id": "e_4Wy2QsKQGq",
    "outputId": "0a1c2f9b-8689-416d-f2ba-ba8ce0561b9b"
   },
   "outputs": [
    {
     "data": {
      "text/plain": [
       "(72413, 24)"
      ]
     },
     "execution_count": 63,
     "metadata": {},
     "output_type": "execute_result"
    }
   ],
   "source": [
    "delivery_df.shape"
   ]
  },
  {
   "cell_type": "code",
   "execution_count": 64,
   "metadata": {
    "colab": {
     "base_uri": "https://localhost:8080/"
    },
    "id": "WALCHZtCKPv4",
    "outputId": "053b8b68-9271-46aa-a8d7-8b70616e5af3"
   },
   "outputs": [
    {
     "data": {
      "text/plain": [
       "124         1\n",
       "125         2\n",
       "126         2\n",
       "127         3\n",
       "128         4\n",
       "         ... \n",
       "149573    152\n",
       "149574    154\n",
       "149575    155\n",
       "149576    157\n",
       "149577    157\n",
       "Name: total_runs_y, Length: 72413, dtype: int64"
      ]
     },
     "execution_count": 64,
     "metadata": {},
     "output_type": "execute_result"
    }
   ],
   "source": [
    "delivery_df.groupby('match_id').cumsum()['total_runs_y']"
   ]
  },
  {
   "cell_type": "code",
   "execution_count": 65,
   "metadata": {
    "colab": {
     "base_uri": "https://localhost:8080/",
     "height": 748
    },
    "id": "HX3YDAk4N1nL",
    "outputId": "1d516ebc-05d5-4dad-bac8-c12ac66f7138"
   },
   "outputs": [
    {
     "data": {
      "text/html": [
       "<div>\n",
       "<style scoped>\n",
       "    .dataframe tbody tr th:only-of-type {\n",
       "        vertical-align: middle;\n",
       "    }\n",
       "\n",
       "    .dataframe tbody tr th {\n",
       "        vertical-align: top;\n",
       "    }\n",
       "\n",
       "    .dataframe thead th {\n",
       "        text-align: right;\n",
       "    }\n",
       "</style>\n",
       "<table border=\"1\" class=\"dataframe\">\n",
       "  <thead>\n",
       "    <tr style=\"text-align: right;\">\n",
       "      <th></th>\n",
       "      <th>match_id</th>\n",
       "      <th>city</th>\n",
       "      <th>winner</th>\n",
       "      <th>total_runs_x</th>\n",
       "      <th>inning</th>\n",
       "      <th>batting_team</th>\n",
       "      <th>bowling_team</th>\n",
       "      <th>over</th>\n",
       "      <th>ball</th>\n",
       "      <th>batsman</th>\n",
       "      <th>...</th>\n",
       "      <th>legbye_runs</th>\n",
       "      <th>noball_runs</th>\n",
       "      <th>penalty_runs</th>\n",
       "      <th>batsman_runs</th>\n",
       "      <th>extra_runs</th>\n",
       "      <th>total_runs_y</th>\n",
       "      <th>player_dismissed</th>\n",
       "      <th>dismissal_kind</th>\n",
       "      <th>fielder</th>\n",
       "      <th>current_score</th>\n",
       "    </tr>\n",
       "  </thead>\n",
       "  <tbody>\n",
       "    <tr>\n",
       "      <th>124</th>\n",
       "      <td>60</td>\n",
       "      <td>Bangalore</td>\n",
       "      <td>Kolkata Knight Riders</td>\n",
       "      <td>222</td>\n",
       "      <td>2</td>\n",
       "      <td>Royal Challengers Bangalore</td>\n",
       "      <td>Kolkata Knight Riders</td>\n",
       "      <td>1</td>\n",
       "      <td>1</td>\n",
       "      <td>R Dravid</td>\n",
       "      <td>...</td>\n",
       "      <td>0</td>\n",
       "      <td>0</td>\n",
       "      <td>0</td>\n",
       "      <td>1</td>\n",
       "      <td>0</td>\n",
       "      <td>1</td>\n",
       "      <td>NaN</td>\n",
       "      <td>NaN</td>\n",
       "      <td>NaN</td>\n",
       "      <td>1</td>\n",
       "    </tr>\n",
       "    <tr>\n",
       "      <th>125</th>\n",
       "      <td>60</td>\n",
       "      <td>Bangalore</td>\n",
       "      <td>Kolkata Knight Riders</td>\n",
       "      <td>222</td>\n",
       "      <td>2</td>\n",
       "      <td>Royal Challengers Bangalore</td>\n",
       "      <td>Kolkata Knight Riders</td>\n",
       "      <td>1</td>\n",
       "      <td>2</td>\n",
       "      <td>W Jaffer</td>\n",
       "      <td>...</td>\n",
       "      <td>0</td>\n",
       "      <td>0</td>\n",
       "      <td>0</td>\n",
       "      <td>0</td>\n",
       "      <td>1</td>\n",
       "      <td>1</td>\n",
       "      <td>NaN</td>\n",
       "      <td>NaN</td>\n",
       "      <td>NaN</td>\n",
       "      <td>2</td>\n",
       "    </tr>\n",
       "    <tr>\n",
       "      <th>126</th>\n",
       "      <td>60</td>\n",
       "      <td>Bangalore</td>\n",
       "      <td>Kolkata Knight Riders</td>\n",
       "      <td>222</td>\n",
       "      <td>2</td>\n",
       "      <td>Royal Challengers Bangalore</td>\n",
       "      <td>Kolkata Knight Riders</td>\n",
       "      <td>1</td>\n",
       "      <td>3</td>\n",
       "      <td>W Jaffer</td>\n",
       "      <td>...</td>\n",
       "      <td>0</td>\n",
       "      <td>0</td>\n",
       "      <td>0</td>\n",
       "      <td>0</td>\n",
       "      <td>0</td>\n",
       "      <td>0</td>\n",
       "      <td>NaN</td>\n",
       "      <td>NaN</td>\n",
       "      <td>NaN</td>\n",
       "      <td>2</td>\n",
       "    </tr>\n",
       "    <tr>\n",
       "      <th>127</th>\n",
       "      <td>60</td>\n",
       "      <td>Bangalore</td>\n",
       "      <td>Kolkata Knight Riders</td>\n",
       "      <td>222</td>\n",
       "      <td>2</td>\n",
       "      <td>Royal Challengers Bangalore</td>\n",
       "      <td>Kolkata Knight Riders</td>\n",
       "      <td>1</td>\n",
       "      <td>4</td>\n",
       "      <td>W Jaffer</td>\n",
       "      <td>...</td>\n",
       "      <td>0</td>\n",
       "      <td>0</td>\n",
       "      <td>0</td>\n",
       "      <td>1</td>\n",
       "      <td>0</td>\n",
       "      <td>1</td>\n",
       "      <td>NaN</td>\n",
       "      <td>NaN</td>\n",
       "      <td>NaN</td>\n",
       "      <td>3</td>\n",
       "    </tr>\n",
       "    <tr>\n",
       "      <th>128</th>\n",
       "      <td>60</td>\n",
       "      <td>Bangalore</td>\n",
       "      <td>Kolkata Knight Riders</td>\n",
       "      <td>222</td>\n",
       "      <td>2</td>\n",
       "      <td>Royal Challengers Bangalore</td>\n",
       "      <td>Kolkata Knight Riders</td>\n",
       "      <td>1</td>\n",
       "      <td>5</td>\n",
       "      <td>R Dravid</td>\n",
       "      <td>...</td>\n",
       "      <td>0</td>\n",
       "      <td>0</td>\n",
       "      <td>0</td>\n",
       "      <td>1</td>\n",
       "      <td>0</td>\n",
       "      <td>1</td>\n",
       "      <td>NaN</td>\n",
       "      <td>NaN</td>\n",
       "      <td>NaN</td>\n",
       "      <td>4</td>\n",
       "    </tr>\n",
       "    <tr>\n",
       "      <th>...</th>\n",
       "      <td>...</td>\n",
       "      <td>...</td>\n",
       "      <td>...</td>\n",
       "      <td>...</td>\n",
       "      <td>...</td>\n",
       "      <td>...</td>\n",
       "      <td>...</td>\n",
       "      <td>...</td>\n",
       "      <td>...</td>\n",
       "      <td>...</td>\n",
       "      <td>...</td>\n",
       "      <td>...</td>\n",
       "      <td>...</td>\n",
       "      <td>...</td>\n",
       "      <td>...</td>\n",
       "      <td>...</td>\n",
       "      <td>...</td>\n",
       "      <td>...</td>\n",
       "      <td>...</td>\n",
       "      <td>...</td>\n",
       "      <td>...</td>\n",
       "    </tr>\n",
       "    <tr>\n",
       "      <th>149573</th>\n",
       "      <td>11415</td>\n",
       "      <td>Hyderabad</td>\n",
       "      <td>Mumbai Indians</td>\n",
       "      <td>152</td>\n",
       "      <td>2</td>\n",
       "      <td>Chennai Super Kings</td>\n",
       "      <td>Mumbai Indians</td>\n",
       "      <td>20</td>\n",
       "      <td>2</td>\n",
       "      <td>RA Jadeja</td>\n",
       "      <td>...</td>\n",
       "      <td>0</td>\n",
       "      <td>0</td>\n",
       "      <td>0</td>\n",
       "      <td>1</td>\n",
       "      <td>0</td>\n",
       "      <td>1</td>\n",
       "      <td>NaN</td>\n",
       "      <td>NaN</td>\n",
       "      <td>NaN</td>\n",
       "      <td>152</td>\n",
       "    </tr>\n",
       "    <tr>\n",
       "      <th>149574</th>\n",
       "      <td>11415</td>\n",
       "      <td>Hyderabad</td>\n",
       "      <td>Mumbai Indians</td>\n",
       "      <td>152</td>\n",
       "      <td>2</td>\n",
       "      <td>Chennai Super Kings</td>\n",
       "      <td>Mumbai Indians</td>\n",
       "      <td>20</td>\n",
       "      <td>3</td>\n",
       "      <td>SR Watson</td>\n",
       "      <td>...</td>\n",
       "      <td>0</td>\n",
       "      <td>0</td>\n",
       "      <td>0</td>\n",
       "      <td>2</td>\n",
       "      <td>0</td>\n",
       "      <td>2</td>\n",
       "      <td>NaN</td>\n",
       "      <td>NaN</td>\n",
       "      <td>NaN</td>\n",
       "      <td>154</td>\n",
       "    </tr>\n",
       "    <tr>\n",
       "      <th>149575</th>\n",
       "      <td>11415</td>\n",
       "      <td>Hyderabad</td>\n",
       "      <td>Mumbai Indians</td>\n",
       "      <td>152</td>\n",
       "      <td>2</td>\n",
       "      <td>Chennai Super Kings</td>\n",
       "      <td>Mumbai Indians</td>\n",
       "      <td>20</td>\n",
       "      <td>4</td>\n",
       "      <td>SR Watson</td>\n",
       "      <td>...</td>\n",
       "      <td>0</td>\n",
       "      <td>0</td>\n",
       "      <td>0</td>\n",
       "      <td>1</td>\n",
       "      <td>0</td>\n",
       "      <td>1</td>\n",
       "      <td>SR Watson</td>\n",
       "      <td>run out</td>\n",
       "      <td>KH Pandya</td>\n",
       "      <td>155</td>\n",
       "    </tr>\n",
       "    <tr>\n",
       "      <th>149576</th>\n",
       "      <td>11415</td>\n",
       "      <td>Hyderabad</td>\n",
       "      <td>Mumbai Indians</td>\n",
       "      <td>152</td>\n",
       "      <td>2</td>\n",
       "      <td>Chennai Super Kings</td>\n",
       "      <td>Mumbai Indians</td>\n",
       "      <td>20</td>\n",
       "      <td>5</td>\n",
       "      <td>SN Thakur</td>\n",
       "      <td>...</td>\n",
       "      <td>0</td>\n",
       "      <td>0</td>\n",
       "      <td>0</td>\n",
       "      <td>2</td>\n",
       "      <td>0</td>\n",
       "      <td>2</td>\n",
       "      <td>NaN</td>\n",
       "      <td>NaN</td>\n",
       "      <td>NaN</td>\n",
       "      <td>157</td>\n",
       "    </tr>\n",
       "    <tr>\n",
       "      <th>149577</th>\n",
       "      <td>11415</td>\n",
       "      <td>Hyderabad</td>\n",
       "      <td>Mumbai Indians</td>\n",
       "      <td>152</td>\n",
       "      <td>2</td>\n",
       "      <td>Chennai Super Kings</td>\n",
       "      <td>Mumbai Indians</td>\n",
       "      <td>20</td>\n",
       "      <td>6</td>\n",
       "      <td>SN Thakur</td>\n",
       "      <td>...</td>\n",
       "      <td>0</td>\n",
       "      <td>0</td>\n",
       "      <td>0</td>\n",
       "      <td>0</td>\n",
       "      <td>0</td>\n",
       "      <td>0</td>\n",
       "      <td>SN Thakur</td>\n",
       "      <td>lbw</td>\n",
       "      <td>NaN</td>\n",
       "      <td>157</td>\n",
       "    </tr>\n",
       "  </tbody>\n",
       "</table>\n",
       "<p>72413 rows × 25 columns</p>\n",
       "</div>"
      ],
      "text/plain": [
       "        match_id       city                 winner  total_runs_x  inning  \\\n",
       "124           60  Bangalore  Kolkata Knight Riders           222       2   \n",
       "125           60  Bangalore  Kolkata Knight Riders           222       2   \n",
       "126           60  Bangalore  Kolkata Knight Riders           222       2   \n",
       "127           60  Bangalore  Kolkata Knight Riders           222       2   \n",
       "128           60  Bangalore  Kolkata Knight Riders           222       2   \n",
       "...          ...        ...                    ...           ...     ...   \n",
       "149573     11415  Hyderabad         Mumbai Indians           152       2   \n",
       "149574     11415  Hyderabad         Mumbai Indians           152       2   \n",
       "149575     11415  Hyderabad         Mumbai Indians           152       2   \n",
       "149576     11415  Hyderabad         Mumbai Indians           152       2   \n",
       "149577     11415  Hyderabad         Mumbai Indians           152       2   \n",
       "\n",
       "                       batting_team           bowling_team  over  ball  \\\n",
       "124     Royal Challengers Bangalore  Kolkata Knight Riders     1     1   \n",
       "125     Royal Challengers Bangalore  Kolkata Knight Riders     1     2   \n",
       "126     Royal Challengers Bangalore  Kolkata Knight Riders     1     3   \n",
       "127     Royal Challengers Bangalore  Kolkata Knight Riders     1     4   \n",
       "128     Royal Challengers Bangalore  Kolkata Knight Riders     1     5   \n",
       "...                             ...                    ...   ...   ...   \n",
       "149573          Chennai Super Kings         Mumbai Indians    20     2   \n",
       "149574          Chennai Super Kings         Mumbai Indians    20     3   \n",
       "149575          Chennai Super Kings         Mumbai Indians    20     4   \n",
       "149576          Chennai Super Kings         Mumbai Indians    20     5   \n",
       "149577          Chennai Super Kings         Mumbai Indians    20     6   \n",
       "\n",
       "          batsman  ... legbye_runs noball_runs  penalty_runs  batsman_runs  \\\n",
       "124      R Dravid  ...           0           0             0             1   \n",
       "125      W Jaffer  ...           0           0             0             0   \n",
       "126      W Jaffer  ...           0           0             0             0   \n",
       "127      W Jaffer  ...           0           0             0             1   \n",
       "128      R Dravid  ...           0           0             0             1   \n",
       "...           ...  ...         ...         ...           ...           ...   \n",
       "149573  RA Jadeja  ...           0           0             0             1   \n",
       "149574  SR Watson  ...           0           0             0             2   \n",
       "149575  SR Watson  ...           0           0             0             1   \n",
       "149576  SN Thakur  ...           0           0             0             2   \n",
       "149577  SN Thakur  ...           0           0             0             0   \n",
       "\n",
       "        extra_runs  total_runs_y  player_dismissed  dismissal_kind    fielder  \\\n",
       "124              0             1               NaN             NaN        NaN   \n",
       "125              1             1               NaN             NaN        NaN   \n",
       "126              0             0               NaN             NaN        NaN   \n",
       "127              0             1               NaN             NaN        NaN   \n",
       "128              0             1               NaN             NaN        NaN   \n",
       "...            ...           ...               ...             ...        ...   \n",
       "149573           0             1               NaN             NaN        NaN   \n",
       "149574           0             2               NaN             NaN        NaN   \n",
       "149575           0             1         SR Watson         run out  KH Pandya   \n",
       "149576           0             2               NaN             NaN        NaN   \n",
       "149577           0             0         SN Thakur             lbw        NaN   \n",
       "\n",
       "        current_score  \n",
       "124                 1  \n",
       "125                 2  \n",
       "126                 2  \n",
       "127                 3  \n",
       "128                 4  \n",
       "...               ...  \n",
       "149573            152  \n",
       "149574            154  \n",
       "149575            155  \n",
       "149576            157  \n",
       "149577            157  \n",
       "\n",
       "[72413 rows x 25 columns]"
      ]
     },
     "execution_count": 65,
     "metadata": {},
     "output_type": "execute_result"
    }
   ],
   "source": [
    "#Finding the current score\n",
    "delivery_df['current_score']=delivery_df.groupby('match_id').cumsum()['total_runs_y']\n",
    "delivery_df"
   ]
  },
  {
   "cell_type": "code",
   "execution_count": 66,
   "metadata": {
    "id": "PWIC0UuWKPQy"
   },
   "outputs": [],
   "source": [
    "#finding runs left\n",
    "delivery_df['runs_left']=delivery_df['total_runs_x']-delivery_df['current_score']\n"
   ]
  },
  {
   "cell_type": "code",
   "execution_count": 67,
   "metadata": {
    "colab": {
     "base_uri": "https://localhost:8080/",
     "height": 748
    },
    "id": "_53v_zWCPJOS",
    "outputId": "93b3019b-68f9-4c34-cf26-2bb7dd9c54c4"
   },
   "outputs": [
    {
     "data": {
      "text/html": [
       "<div>\n",
       "<style scoped>\n",
       "    .dataframe tbody tr th:only-of-type {\n",
       "        vertical-align: middle;\n",
       "    }\n",
       "\n",
       "    .dataframe tbody tr th {\n",
       "        vertical-align: top;\n",
       "    }\n",
       "\n",
       "    .dataframe thead th {\n",
       "        text-align: right;\n",
       "    }\n",
       "</style>\n",
       "<table border=\"1\" class=\"dataframe\">\n",
       "  <thead>\n",
       "    <tr style=\"text-align: right;\">\n",
       "      <th></th>\n",
       "      <th>match_id</th>\n",
       "      <th>city</th>\n",
       "      <th>winner</th>\n",
       "      <th>total_runs_x</th>\n",
       "      <th>inning</th>\n",
       "      <th>batting_team</th>\n",
       "      <th>bowling_team</th>\n",
       "      <th>over</th>\n",
       "      <th>ball</th>\n",
       "      <th>batsman</th>\n",
       "      <th>...</th>\n",
       "      <th>penalty_runs</th>\n",
       "      <th>batsman_runs</th>\n",
       "      <th>extra_runs</th>\n",
       "      <th>total_runs_y</th>\n",
       "      <th>player_dismissed</th>\n",
       "      <th>dismissal_kind</th>\n",
       "      <th>fielder</th>\n",
       "      <th>current_score</th>\n",
       "      <th>runs_left</th>\n",
       "      <th>balls_left</th>\n",
       "    </tr>\n",
       "  </thead>\n",
       "  <tbody>\n",
       "    <tr>\n",
       "      <th>124</th>\n",
       "      <td>60</td>\n",
       "      <td>Bangalore</td>\n",
       "      <td>Kolkata Knight Riders</td>\n",
       "      <td>222</td>\n",
       "      <td>2</td>\n",
       "      <td>Royal Challengers Bangalore</td>\n",
       "      <td>Kolkata Knight Riders</td>\n",
       "      <td>1</td>\n",
       "      <td>1</td>\n",
       "      <td>R Dravid</td>\n",
       "      <td>...</td>\n",
       "      <td>0</td>\n",
       "      <td>1</td>\n",
       "      <td>0</td>\n",
       "      <td>1</td>\n",
       "      <td>NaN</td>\n",
       "      <td>NaN</td>\n",
       "      <td>NaN</td>\n",
       "      <td>1</td>\n",
       "      <td>221</td>\n",
       "      <td>119</td>\n",
       "    </tr>\n",
       "    <tr>\n",
       "      <th>125</th>\n",
       "      <td>60</td>\n",
       "      <td>Bangalore</td>\n",
       "      <td>Kolkata Knight Riders</td>\n",
       "      <td>222</td>\n",
       "      <td>2</td>\n",
       "      <td>Royal Challengers Bangalore</td>\n",
       "      <td>Kolkata Knight Riders</td>\n",
       "      <td>1</td>\n",
       "      <td>2</td>\n",
       "      <td>W Jaffer</td>\n",
       "      <td>...</td>\n",
       "      <td>0</td>\n",
       "      <td>0</td>\n",
       "      <td>1</td>\n",
       "      <td>1</td>\n",
       "      <td>NaN</td>\n",
       "      <td>NaN</td>\n",
       "      <td>NaN</td>\n",
       "      <td>2</td>\n",
       "      <td>220</td>\n",
       "      <td>118</td>\n",
       "    </tr>\n",
       "    <tr>\n",
       "      <th>126</th>\n",
       "      <td>60</td>\n",
       "      <td>Bangalore</td>\n",
       "      <td>Kolkata Knight Riders</td>\n",
       "      <td>222</td>\n",
       "      <td>2</td>\n",
       "      <td>Royal Challengers Bangalore</td>\n",
       "      <td>Kolkata Knight Riders</td>\n",
       "      <td>1</td>\n",
       "      <td>3</td>\n",
       "      <td>W Jaffer</td>\n",
       "      <td>...</td>\n",
       "      <td>0</td>\n",
       "      <td>0</td>\n",
       "      <td>0</td>\n",
       "      <td>0</td>\n",
       "      <td>NaN</td>\n",
       "      <td>NaN</td>\n",
       "      <td>NaN</td>\n",
       "      <td>2</td>\n",
       "      <td>220</td>\n",
       "      <td>117</td>\n",
       "    </tr>\n",
       "    <tr>\n",
       "      <th>127</th>\n",
       "      <td>60</td>\n",
       "      <td>Bangalore</td>\n",
       "      <td>Kolkata Knight Riders</td>\n",
       "      <td>222</td>\n",
       "      <td>2</td>\n",
       "      <td>Royal Challengers Bangalore</td>\n",
       "      <td>Kolkata Knight Riders</td>\n",
       "      <td>1</td>\n",
       "      <td>4</td>\n",
       "      <td>W Jaffer</td>\n",
       "      <td>...</td>\n",
       "      <td>0</td>\n",
       "      <td>1</td>\n",
       "      <td>0</td>\n",
       "      <td>1</td>\n",
       "      <td>NaN</td>\n",
       "      <td>NaN</td>\n",
       "      <td>NaN</td>\n",
       "      <td>3</td>\n",
       "      <td>219</td>\n",
       "      <td>116</td>\n",
       "    </tr>\n",
       "    <tr>\n",
       "      <th>128</th>\n",
       "      <td>60</td>\n",
       "      <td>Bangalore</td>\n",
       "      <td>Kolkata Knight Riders</td>\n",
       "      <td>222</td>\n",
       "      <td>2</td>\n",
       "      <td>Royal Challengers Bangalore</td>\n",
       "      <td>Kolkata Knight Riders</td>\n",
       "      <td>1</td>\n",
       "      <td>5</td>\n",
       "      <td>R Dravid</td>\n",
       "      <td>...</td>\n",
       "      <td>0</td>\n",
       "      <td>1</td>\n",
       "      <td>0</td>\n",
       "      <td>1</td>\n",
       "      <td>NaN</td>\n",
       "      <td>NaN</td>\n",
       "      <td>NaN</td>\n",
       "      <td>4</td>\n",
       "      <td>218</td>\n",
       "      <td>115</td>\n",
       "    </tr>\n",
       "    <tr>\n",
       "      <th>...</th>\n",
       "      <td>...</td>\n",
       "      <td>...</td>\n",
       "      <td>...</td>\n",
       "      <td>...</td>\n",
       "      <td>...</td>\n",
       "      <td>...</td>\n",
       "      <td>...</td>\n",
       "      <td>...</td>\n",
       "      <td>...</td>\n",
       "      <td>...</td>\n",
       "      <td>...</td>\n",
       "      <td>...</td>\n",
       "      <td>...</td>\n",
       "      <td>...</td>\n",
       "      <td>...</td>\n",
       "      <td>...</td>\n",
       "      <td>...</td>\n",
       "      <td>...</td>\n",
       "      <td>...</td>\n",
       "      <td>...</td>\n",
       "      <td>...</td>\n",
       "    </tr>\n",
       "    <tr>\n",
       "      <th>149573</th>\n",
       "      <td>11415</td>\n",
       "      <td>Hyderabad</td>\n",
       "      <td>Mumbai Indians</td>\n",
       "      <td>152</td>\n",
       "      <td>2</td>\n",
       "      <td>Chennai Super Kings</td>\n",
       "      <td>Mumbai Indians</td>\n",
       "      <td>20</td>\n",
       "      <td>2</td>\n",
       "      <td>RA Jadeja</td>\n",
       "      <td>...</td>\n",
       "      <td>0</td>\n",
       "      <td>1</td>\n",
       "      <td>0</td>\n",
       "      <td>1</td>\n",
       "      <td>NaN</td>\n",
       "      <td>NaN</td>\n",
       "      <td>NaN</td>\n",
       "      <td>152</td>\n",
       "      <td>0</td>\n",
       "      <td>4</td>\n",
       "    </tr>\n",
       "    <tr>\n",
       "      <th>149574</th>\n",
       "      <td>11415</td>\n",
       "      <td>Hyderabad</td>\n",
       "      <td>Mumbai Indians</td>\n",
       "      <td>152</td>\n",
       "      <td>2</td>\n",
       "      <td>Chennai Super Kings</td>\n",
       "      <td>Mumbai Indians</td>\n",
       "      <td>20</td>\n",
       "      <td>3</td>\n",
       "      <td>SR Watson</td>\n",
       "      <td>...</td>\n",
       "      <td>0</td>\n",
       "      <td>2</td>\n",
       "      <td>0</td>\n",
       "      <td>2</td>\n",
       "      <td>NaN</td>\n",
       "      <td>NaN</td>\n",
       "      <td>NaN</td>\n",
       "      <td>154</td>\n",
       "      <td>-2</td>\n",
       "      <td>3</td>\n",
       "    </tr>\n",
       "    <tr>\n",
       "      <th>149575</th>\n",
       "      <td>11415</td>\n",
       "      <td>Hyderabad</td>\n",
       "      <td>Mumbai Indians</td>\n",
       "      <td>152</td>\n",
       "      <td>2</td>\n",
       "      <td>Chennai Super Kings</td>\n",
       "      <td>Mumbai Indians</td>\n",
       "      <td>20</td>\n",
       "      <td>4</td>\n",
       "      <td>SR Watson</td>\n",
       "      <td>...</td>\n",
       "      <td>0</td>\n",
       "      <td>1</td>\n",
       "      <td>0</td>\n",
       "      <td>1</td>\n",
       "      <td>SR Watson</td>\n",
       "      <td>run out</td>\n",
       "      <td>KH Pandya</td>\n",
       "      <td>155</td>\n",
       "      <td>-3</td>\n",
       "      <td>2</td>\n",
       "    </tr>\n",
       "    <tr>\n",
       "      <th>149576</th>\n",
       "      <td>11415</td>\n",
       "      <td>Hyderabad</td>\n",
       "      <td>Mumbai Indians</td>\n",
       "      <td>152</td>\n",
       "      <td>2</td>\n",
       "      <td>Chennai Super Kings</td>\n",
       "      <td>Mumbai Indians</td>\n",
       "      <td>20</td>\n",
       "      <td>5</td>\n",
       "      <td>SN Thakur</td>\n",
       "      <td>...</td>\n",
       "      <td>0</td>\n",
       "      <td>2</td>\n",
       "      <td>0</td>\n",
       "      <td>2</td>\n",
       "      <td>NaN</td>\n",
       "      <td>NaN</td>\n",
       "      <td>NaN</td>\n",
       "      <td>157</td>\n",
       "      <td>-5</td>\n",
       "      <td>1</td>\n",
       "    </tr>\n",
       "    <tr>\n",
       "      <th>149577</th>\n",
       "      <td>11415</td>\n",
       "      <td>Hyderabad</td>\n",
       "      <td>Mumbai Indians</td>\n",
       "      <td>152</td>\n",
       "      <td>2</td>\n",
       "      <td>Chennai Super Kings</td>\n",
       "      <td>Mumbai Indians</td>\n",
       "      <td>20</td>\n",
       "      <td>6</td>\n",
       "      <td>SN Thakur</td>\n",
       "      <td>...</td>\n",
       "      <td>0</td>\n",
       "      <td>0</td>\n",
       "      <td>0</td>\n",
       "      <td>0</td>\n",
       "      <td>SN Thakur</td>\n",
       "      <td>lbw</td>\n",
       "      <td>NaN</td>\n",
       "      <td>157</td>\n",
       "      <td>-5</td>\n",
       "      <td>0</td>\n",
       "    </tr>\n",
       "  </tbody>\n",
       "</table>\n",
       "<p>72413 rows × 27 columns</p>\n",
       "</div>"
      ],
      "text/plain": [
       "        match_id       city                 winner  total_runs_x  inning  \\\n",
       "124           60  Bangalore  Kolkata Knight Riders           222       2   \n",
       "125           60  Bangalore  Kolkata Knight Riders           222       2   \n",
       "126           60  Bangalore  Kolkata Knight Riders           222       2   \n",
       "127           60  Bangalore  Kolkata Knight Riders           222       2   \n",
       "128           60  Bangalore  Kolkata Knight Riders           222       2   \n",
       "...          ...        ...                    ...           ...     ...   \n",
       "149573     11415  Hyderabad         Mumbai Indians           152       2   \n",
       "149574     11415  Hyderabad         Mumbai Indians           152       2   \n",
       "149575     11415  Hyderabad         Mumbai Indians           152       2   \n",
       "149576     11415  Hyderabad         Mumbai Indians           152       2   \n",
       "149577     11415  Hyderabad         Mumbai Indians           152       2   \n",
       "\n",
       "                       batting_team           bowling_team  over  ball  \\\n",
       "124     Royal Challengers Bangalore  Kolkata Knight Riders     1     1   \n",
       "125     Royal Challengers Bangalore  Kolkata Knight Riders     1     2   \n",
       "126     Royal Challengers Bangalore  Kolkata Knight Riders     1     3   \n",
       "127     Royal Challengers Bangalore  Kolkata Knight Riders     1     4   \n",
       "128     Royal Challengers Bangalore  Kolkata Knight Riders     1     5   \n",
       "...                             ...                    ...   ...   ...   \n",
       "149573          Chennai Super Kings         Mumbai Indians    20     2   \n",
       "149574          Chennai Super Kings         Mumbai Indians    20     3   \n",
       "149575          Chennai Super Kings         Mumbai Indians    20     4   \n",
       "149576          Chennai Super Kings         Mumbai Indians    20     5   \n",
       "149577          Chennai Super Kings         Mumbai Indians    20     6   \n",
       "\n",
       "          batsman  ... penalty_runs batsman_runs  extra_runs  total_runs_y  \\\n",
       "124      R Dravid  ...            0            1           0             1   \n",
       "125      W Jaffer  ...            0            0           1             1   \n",
       "126      W Jaffer  ...            0            0           0             0   \n",
       "127      W Jaffer  ...            0            1           0             1   \n",
       "128      R Dravid  ...            0            1           0             1   \n",
       "...           ...  ...          ...          ...         ...           ...   \n",
       "149573  RA Jadeja  ...            0            1           0             1   \n",
       "149574  SR Watson  ...            0            2           0             2   \n",
       "149575  SR Watson  ...            0            1           0             1   \n",
       "149576  SN Thakur  ...            0            2           0             2   \n",
       "149577  SN Thakur  ...            0            0           0             0   \n",
       "\n",
       "        player_dismissed  dismissal_kind    fielder  current_score  runs_left  \\\n",
       "124                  NaN             NaN        NaN              1        221   \n",
       "125                  NaN             NaN        NaN              2        220   \n",
       "126                  NaN             NaN        NaN              2        220   \n",
       "127                  NaN             NaN        NaN              3        219   \n",
       "128                  NaN             NaN        NaN              4        218   \n",
       "...                  ...             ...        ...            ...        ...   \n",
       "149573               NaN             NaN        NaN            152          0   \n",
       "149574               NaN             NaN        NaN            154         -2   \n",
       "149575         SR Watson         run out  KH Pandya            155         -3   \n",
       "149576               NaN             NaN        NaN            157         -5   \n",
       "149577         SN Thakur             lbw        NaN            157         -5   \n",
       "\n",
       "        balls_left  \n",
       "124            119  \n",
       "125            118  \n",
       "126            117  \n",
       "127            116  \n",
       "128            115  \n",
       "...            ...  \n",
       "149573           4  \n",
       "149574           3  \n",
       "149575           2  \n",
       "149576           1  \n",
       "149577           0  \n",
       "\n",
       "[72413 rows x 27 columns]"
      ]
     },
     "execution_count": 67,
     "metadata": {},
     "output_type": "execute_result"
    }
   ],
   "source": [
    "#finding balls left\n",
    "delivery_df['balls_left']= 126-(delivery_df['over']*6+delivery_df['ball'])\n",
    "delivery_df"
   ]
  },
  {
   "cell_type": "code",
   "execution_count": 68,
   "metadata": {
    "colab": {
     "base_uri": "https://localhost:8080/",
     "height": 386
    },
    "id": "8b2lx7WWPJDa",
    "outputId": "3943b93b-eb2e-4950-a431-5a94a41244bd"
   },
   "outputs": [
    {
     "data": {
      "text/html": [
       "<div>\n",
       "<style scoped>\n",
       "    .dataframe tbody tr th:only-of-type {\n",
       "        vertical-align: middle;\n",
       "    }\n",
       "\n",
       "    .dataframe tbody tr th {\n",
       "        vertical-align: top;\n",
       "    }\n",
       "\n",
       "    .dataframe thead th {\n",
       "        text-align: right;\n",
       "    }\n",
       "</style>\n",
       "<table border=\"1\" class=\"dataframe\">\n",
       "  <thead>\n",
       "    <tr style=\"text-align: right;\">\n",
       "      <th></th>\n",
       "      <th>match_id</th>\n",
       "      <th>city</th>\n",
       "      <th>winner</th>\n",
       "      <th>total_runs_x</th>\n",
       "      <th>inning</th>\n",
       "      <th>batting_team</th>\n",
       "      <th>bowling_team</th>\n",
       "      <th>over</th>\n",
       "      <th>ball</th>\n",
       "      <th>batsman</th>\n",
       "      <th>...</th>\n",
       "      <th>batsman_runs</th>\n",
       "      <th>extra_runs</th>\n",
       "      <th>total_runs_y</th>\n",
       "      <th>player_dismissed</th>\n",
       "      <th>dismissal_kind</th>\n",
       "      <th>fielder</th>\n",
       "      <th>current_score</th>\n",
       "      <th>runs_left</th>\n",
       "      <th>balls_left</th>\n",
       "      <th>wickets</th>\n",
       "    </tr>\n",
       "  </thead>\n",
       "  <tbody>\n",
       "    <tr>\n",
       "      <th>149573</th>\n",
       "      <td>11415</td>\n",
       "      <td>Hyderabad</td>\n",
       "      <td>Mumbai Indians</td>\n",
       "      <td>152</td>\n",
       "      <td>2</td>\n",
       "      <td>Chennai Super Kings</td>\n",
       "      <td>Mumbai Indians</td>\n",
       "      <td>20</td>\n",
       "      <td>2</td>\n",
       "      <td>RA Jadeja</td>\n",
       "      <td>...</td>\n",
       "      <td>1</td>\n",
       "      <td>0</td>\n",
       "      <td>1</td>\n",
       "      <td>0</td>\n",
       "      <td>NaN</td>\n",
       "      <td>NaN</td>\n",
       "      <td>152</td>\n",
       "      <td>0</td>\n",
       "      <td>4</td>\n",
       "      <td>5</td>\n",
       "    </tr>\n",
       "    <tr>\n",
       "      <th>149574</th>\n",
       "      <td>11415</td>\n",
       "      <td>Hyderabad</td>\n",
       "      <td>Mumbai Indians</td>\n",
       "      <td>152</td>\n",
       "      <td>2</td>\n",
       "      <td>Chennai Super Kings</td>\n",
       "      <td>Mumbai Indians</td>\n",
       "      <td>20</td>\n",
       "      <td>3</td>\n",
       "      <td>SR Watson</td>\n",
       "      <td>...</td>\n",
       "      <td>2</td>\n",
       "      <td>0</td>\n",
       "      <td>2</td>\n",
       "      <td>0</td>\n",
       "      <td>NaN</td>\n",
       "      <td>NaN</td>\n",
       "      <td>154</td>\n",
       "      <td>-2</td>\n",
       "      <td>3</td>\n",
       "      <td>5</td>\n",
       "    </tr>\n",
       "    <tr>\n",
       "      <th>149575</th>\n",
       "      <td>11415</td>\n",
       "      <td>Hyderabad</td>\n",
       "      <td>Mumbai Indians</td>\n",
       "      <td>152</td>\n",
       "      <td>2</td>\n",
       "      <td>Chennai Super Kings</td>\n",
       "      <td>Mumbai Indians</td>\n",
       "      <td>20</td>\n",
       "      <td>4</td>\n",
       "      <td>SR Watson</td>\n",
       "      <td>...</td>\n",
       "      <td>1</td>\n",
       "      <td>0</td>\n",
       "      <td>1</td>\n",
       "      <td>1</td>\n",
       "      <td>run out</td>\n",
       "      <td>KH Pandya</td>\n",
       "      <td>155</td>\n",
       "      <td>-3</td>\n",
       "      <td>2</td>\n",
       "      <td>4</td>\n",
       "    </tr>\n",
       "    <tr>\n",
       "      <th>149576</th>\n",
       "      <td>11415</td>\n",
       "      <td>Hyderabad</td>\n",
       "      <td>Mumbai Indians</td>\n",
       "      <td>152</td>\n",
       "      <td>2</td>\n",
       "      <td>Chennai Super Kings</td>\n",
       "      <td>Mumbai Indians</td>\n",
       "      <td>20</td>\n",
       "      <td>5</td>\n",
       "      <td>SN Thakur</td>\n",
       "      <td>...</td>\n",
       "      <td>2</td>\n",
       "      <td>0</td>\n",
       "      <td>2</td>\n",
       "      <td>0</td>\n",
       "      <td>NaN</td>\n",
       "      <td>NaN</td>\n",
       "      <td>157</td>\n",
       "      <td>-5</td>\n",
       "      <td>1</td>\n",
       "      <td>4</td>\n",
       "    </tr>\n",
       "    <tr>\n",
       "      <th>149577</th>\n",
       "      <td>11415</td>\n",
       "      <td>Hyderabad</td>\n",
       "      <td>Mumbai Indians</td>\n",
       "      <td>152</td>\n",
       "      <td>2</td>\n",
       "      <td>Chennai Super Kings</td>\n",
       "      <td>Mumbai Indians</td>\n",
       "      <td>20</td>\n",
       "      <td>6</td>\n",
       "      <td>SN Thakur</td>\n",
       "      <td>...</td>\n",
       "      <td>0</td>\n",
       "      <td>0</td>\n",
       "      <td>0</td>\n",
       "      <td>1</td>\n",
       "      <td>lbw</td>\n",
       "      <td>NaN</td>\n",
       "      <td>157</td>\n",
       "      <td>-5</td>\n",
       "      <td>0</td>\n",
       "      <td>3</td>\n",
       "    </tr>\n",
       "  </tbody>\n",
       "</table>\n",
       "<p>5 rows × 28 columns</p>\n",
       "</div>"
      ],
      "text/plain": [
       "        match_id       city          winner  total_runs_x  inning  \\\n",
       "149573     11415  Hyderabad  Mumbai Indians           152       2   \n",
       "149574     11415  Hyderabad  Mumbai Indians           152       2   \n",
       "149575     11415  Hyderabad  Mumbai Indians           152       2   \n",
       "149576     11415  Hyderabad  Mumbai Indians           152       2   \n",
       "149577     11415  Hyderabad  Mumbai Indians           152       2   \n",
       "\n",
       "               batting_team    bowling_team  over  ball    batsman  ...  \\\n",
       "149573  Chennai Super Kings  Mumbai Indians    20     2  RA Jadeja  ...   \n",
       "149574  Chennai Super Kings  Mumbai Indians    20     3  SR Watson  ...   \n",
       "149575  Chennai Super Kings  Mumbai Indians    20     4  SR Watson  ...   \n",
       "149576  Chennai Super Kings  Mumbai Indians    20     5  SN Thakur  ...   \n",
       "149577  Chennai Super Kings  Mumbai Indians    20     6  SN Thakur  ...   \n",
       "\n",
       "       batsman_runs extra_runs  total_runs_y  player_dismissed  \\\n",
       "149573            1          0             1                 0   \n",
       "149574            2          0             2                 0   \n",
       "149575            1          0             1                 1   \n",
       "149576            2          0             2                 0   \n",
       "149577            0          0             0                 1   \n",
       "\n",
       "        dismissal_kind    fielder  current_score  runs_left  balls_left  \\\n",
       "149573             NaN        NaN            152          0           4   \n",
       "149574             NaN        NaN            154         -2           3   \n",
       "149575         run out  KH Pandya            155         -3           2   \n",
       "149576             NaN        NaN            157         -5           1   \n",
       "149577             lbw        NaN            157         -5           0   \n",
       "\n",
       "        wickets  \n",
       "149573        5  \n",
       "149574        5  \n",
       "149575        4  \n",
       "149576        4  \n",
       "149577        3  \n",
       "\n",
       "[5 rows x 28 columns]"
      ]
     },
     "execution_count": 68,
     "metadata": {},
     "output_type": "execute_result"
    }
   ],
   "source": [
    "#finding wickets left\n",
    "delivery_df['player_dismissed']=delivery_df['player_dismissed'].fillna(\"0\")\n",
    "delivery_df['player_dismissed']=delivery_df['player_dismissed'].apply(lambda x:x if x==\"0\" else \"1\")\n",
    "delivery_df['player_dismissed']=delivery_df['player_dismissed'].astype('int')\n",
    "wickets=delivery_df.groupby('match_id').cumsum()['player_dismissed'].values\n",
    "delivery_df['wickets']=10-wickets\n",
    "delivery_df.tail()\n"
   ]
  },
  {
   "cell_type": "code",
   "execution_count": 69,
   "metadata": {
    "id": "s5qHcum5PIzy"
   },
   "outputs": [],
   "source": [
    "#finding crr \n",
    "#current run rate=runs/overs\n",
    "delivery_df['crr']=(delivery_df['current_score']*6)/(120-delivery_df['balls_left'])"
   ]
  },
  {
   "cell_type": "code",
   "execution_count": 70,
   "metadata": {
    "id": "RQA_iWzPPIfq"
   },
   "outputs": [],
   "source": [
    "#finding rrr\n",
    "delivery_df['rrr']=(delivery_df['runs_left']*6)/delivery_df['balls_left']"
   ]
  },
  {
   "cell_type": "code",
   "execution_count": 71,
   "metadata": {
    "id": "wpqOhhMwRAiq"
   },
   "outputs": [],
   "source": [
    "#result\n",
    "def result(row):\n",
    "  return 1 if row['batting_team']== row['winner'] else 0\n"
   ]
  },
  {
   "cell_type": "code",
   "execution_count": 72,
   "metadata": {
    "colab": {
     "base_uri": "https://localhost:8080/",
     "height": 748
    },
    "id": "LIyA4c_xQ_q4",
    "outputId": "aa4b2153-e0fd-4b5e-e72f-ced205ff453a"
   },
   "outputs": [
    {
     "data": {
      "text/html": [
       "<div>\n",
       "<style scoped>\n",
       "    .dataframe tbody tr th:only-of-type {\n",
       "        vertical-align: middle;\n",
       "    }\n",
       "\n",
       "    .dataframe tbody tr th {\n",
       "        vertical-align: top;\n",
       "    }\n",
       "\n",
       "    .dataframe thead th {\n",
       "        text-align: right;\n",
       "    }\n",
       "</style>\n",
       "<table border=\"1\" class=\"dataframe\">\n",
       "  <thead>\n",
       "    <tr style=\"text-align: right;\">\n",
       "      <th></th>\n",
       "      <th>match_id</th>\n",
       "      <th>city</th>\n",
       "      <th>winner</th>\n",
       "      <th>total_runs_x</th>\n",
       "      <th>inning</th>\n",
       "      <th>batting_team</th>\n",
       "      <th>bowling_team</th>\n",
       "      <th>over</th>\n",
       "      <th>ball</th>\n",
       "      <th>batsman</th>\n",
       "      <th>...</th>\n",
       "      <th>player_dismissed</th>\n",
       "      <th>dismissal_kind</th>\n",
       "      <th>fielder</th>\n",
       "      <th>current_score</th>\n",
       "      <th>runs_left</th>\n",
       "      <th>balls_left</th>\n",
       "      <th>wickets</th>\n",
       "      <th>crr</th>\n",
       "      <th>rrr</th>\n",
       "      <th>result</th>\n",
       "    </tr>\n",
       "  </thead>\n",
       "  <tbody>\n",
       "    <tr>\n",
       "      <th>124</th>\n",
       "      <td>60</td>\n",
       "      <td>Bangalore</td>\n",
       "      <td>Kolkata Knight Riders</td>\n",
       "      <td>222</td>\n",
       "      <td>2</td>\n",
       "      <td>Royal Challengers Bangalore</td>\n",
       "      <td>Kolkata Knight Riders</td>\n",
       "      <td>1</td>\n",
       "      <td>1</td>\n",
       "      <td>R Dravid</td>\n",
       "      <td>...</td>\n",
       "      <td>0</td>\n",
       "      <td>NaN</td>\n",
       "      <td>NaN</td>\n",
       "      <td>1</td>\n",
       "      <td>221</td>\n",
       "      <td>119</td>\n",
       "      <td>10</td>\n",
       "      <td>6.000000</td>\n",
       "      <td>11.142857</td>\n",
       "      <td>0</td>\n",
       "    </tr>\n",
       "    <tr>\n",
       "      <th>125</th>\n",
       "      <td>60</td>\n",
       "      <td>Bangalore</td>\n",
       "      <td>Kolkata Knight Riders</td>\n",
       "      <td>222</td>\n",
       "      <td>2</td>\n",
       "      <td>Royal Challengers Bangalore</td>\n",
       "      <td>Kolkata Knight Riders</td>\n",
       "      <td>1</td>\n",
       "      <td>2</td>\n",
       "      <td>W Jaffer</td>\n",
       "      <td>...</td>\n",
       "      <td>0</td>\n",
       "      <td>NaN</td>\n",
       "      <td>NaN</td>\n",
       "      <td>2</td>\n",
       "      <td>220</td>\n",
       "      <td>118</td>\n",
       "      <td>10</td>\n",
       "      <td>6.000000</td>\n",
       "      <td>11.186441</td>\n",
       "      <td>0</td>\n",
       "    </tr>\n",
       "    <tr>\n",
       "      <th>126</th>\n",
       "      <td>60</td>\n",
       "      <td>Bangalore</td>\n",
       "      <td>Kolkata Knight Riders</td>\n",
       "      <td>222</td>\n",
       "      <td>2</td>\n",
       "      <td>Royal Challengers Bangalore</td>\n",
       "      <td>Kolkata Knight Riders</td>\n",
       "      <td>1</td>\n",
       "      <td>3</td>\n",
       "      <td>W Jaffer</td>\n",
       "      <td>...</td>\n",
       "      <td>0</td>\n",
       "      <td>NaN</td>\n",
       "      <td>NaN</td>\n",
       "      <td>2</td>\n",
       "      <td>220</td>\n",
       "      <td>117</td>\n",
       "      <td>10</td>\n",
       "      <td>4.000000</td>\n",
       "      <td>11.282051</td>\n",
       "      <td>0</td>\n",
       "    </tr>\n",
       "    <tr>\n",
       "      <th>127</th>\n",
       "      <td>60</td>\n",
       "      <td>Bangalore</td>\n",
       "      <td>Kolkata Knight Riders</td>\n",
       "      <td>222</td>\n",
       "      <td>2</td>\n",
       "      <td>Royal Challengers Bangalore</td>\n",
       "      <td>Kolkata Knight Riders</td>\n",
       "      <td>1</td>\n",
       "      <td>4</td>\n",
       "      <td>W Jaffer</td>\n",
       "      <td>...</td>\n",
       "      <td>0</td>\n",
       "      <td>NaN</td>\n",
       "      <td>NaN</td>\n",
       "      <td>3</td>\n",
       "      <td>219</td>\n",
       "      <td>116</td>\n",
       "      <td>10</td>\n",
       "      <td>4.500000</td>\n",
       "      <td>11.327586</td>\n",
       "      <td>0</td>\n",
       "    </tr>\n",
       "    <tr>\n",
       "      <th>128</th>\n",
       "      <td>60</td>\n",
       "      <td>Bangalore</td>\n",
       "      <td>Kolkata Knight Riders</td>\n",
       "      <td>222</td>\n",
       "      <td>2</td>\n",
       "      <td>Royal Challengers Bangalore</td>\n",
       "      <td>Kolkata Knight Riders</td>\n",
       "      <td>1</td>\n",
       "      <td>5</td>\n",
       "      <td>R Dravid</td>\n",
       "      <td>...</td>\n",
       "      <td>0</td>\n",
       "      <td>NaN</td>\n",
       "      <td>NaN</td>\n",
       "      <td>4</td>\n",
       "      <td>218</td>\n",
       "      <td>115</td>\n",
       "      <td>10</td>\n",
       "      <td>4.800000</td>\n",
       "      <td>11.373913</td>\n",
       "      <td>0</td>\n",
       "    </tr>\n",
       "    <tr>\n",
       "      <th>...</th>\n",
       "      <td>...</td>\n",
       "      <td>...</td>\n",
       "      <td>...</td>\n",
       "      <td>...</td>\n",
       "      <td>...</td>\n",
       "      <td>...</td>\n",
       "      <td>...</td>\n",
       "      <td>...</td>\n",
       "      <td>...</td>\n",
       "      <td>...</td>\n",
       "      <td>...</td>\n",
       "      <td>...</td>\n",
       "      <td>...</td>\n",
       "      <td>...</td>\n",
       "      <td>...</td>\n",
       "      <td>...</td>\n",
       "      <td>...</td>\n",
       "      <td>...</td>\n",
       "      <td>...</td>\n",
       "      <td>...</td>\n",
       "      <td>...</td>\n",
       "    </tr>\n",
       "    <tr>\n",
       "      <th>149573</th>\n",
       "      <td>11415</td>\n",
       "      <td>Hyderabad</td>\n",
       "      <td>Mumbai Indians</td>\n",
       "      <td>152</td>\n",
       "      <td>2</td>\n",
       "      <td>Chennai Super Kings</td>\n",
       "      <td>Mumbai Indians</td>\n",
       "      <td>20</td>\n",
       "      <td>2</td>\n",
       "      <td>RA Jadeja</td>\n",
       "      <td>...</td>\n",
       "      <td>0</td>\n",
       "      <td>NaN</td>\n",
       "      <td>NaN</td>\n",
       "      <td>152</td>\n",
       "      <td>0</td>\n",
       "      <td>4</td>\n",
       "      <td>5</td>\n",
       "      <td>7.862069</td>\n",
       "      <td>0.000000</td>\n",
       "      <td>0</td>\n",
       "    </tr>\n",
       "    <tr>\n",
       "      <th>149574</th>\n",
       "      <td>11415</td>\n",
       "      <td>Hyderabad</td>\n",
       "      <td>Mumbai Indians</td>\n",
       "      <td>152</td>\n",
       "      <td>2</td>\n",
       "      <td>Chennai Super Kings</td>\n",
       "      <td>Mumbai Indians</td>\n",
       "      <td>20</td>\n",
       "      <td>3</td>\n",
       "      <td>SR Watson</td>\n",
       "      <td>...</td>\n",
       "      <td>0</td>\n",
       "      <td>NaN</td>\n",
       "      <td>NaN</td>\n",
       "      <td>154</td>\n",
       "      <td>-2</td>\n",
       "      <td>3</td>\n",
       "      <td>5</td>\n",
       "      <td>7.897436</td>\n",
       "      <td>-4.000000</td>\n",
       "      <td>0</td>\n",
       "    </tr>\n",
       "    <tr>\n",
       "      <th>149575</th>\n",
       "      <td>11415</td>\n",
       "      <td>Hyderabad</td>\n",
       "      <td>Mumbai Indians</td>\n",
       "      <td>152</td>\n",
       "      <td>2</td>\n",
       "      <td>Chennai Super Kings</td>\n",
       "      <td>Mumbai Indians</td>\n",
       "      <td>20</td>\n",
       "      <td>4</td>\n",
       "      <td>SR Watson</td>\n",
       "      <td>...</td>\n",
       "      <td>1</td>\n",
       "      <td>run out</td>\n",
       "      <td>KH Pandya</td>\n",
       "      <td>155</td>\n",
       "      <td>-3</td>\n",
       "      <td>2</td>\n",
       "      <td>4</td>\n",
       "      <td>7.881356</td>\n",
       "      <td>-9.000000</td>\n",
       "      <td>0</td>\n",
       "    </tr>\n",
       "    <tr>\n",
       "      <th>149576</th>\n",
       "      <td>11415</td>\n",
       "      <td>Hyderabad</td>\n",
       "      <td>Mumbai Indians</td>\n",
       "      <td>152</td>\n",
       "      <td>2</td>\n",
       "      <td>Chennai Super Kings</td>\n",
       "      <td>Mumbai Indians</td>\n",
       "      <td>20</td>\n",
       "      <td>5</td>\n",
       "      <td>SN Thakur</td>\n",
       "      <td>...</td>\n",
       "      <td>0</td>\n",
       "      <td>NaN</td>\n",
       "      <td>NaN</td>\n",
       "      <td>157</td>\n",
       "      <td>-5</td>\n",
       "      <td>1</td>\n",
       "      <td>4</td>\n",
       "      <td>7.915966</td>\n",
       "      <td>-30.000000</td>\n",
       "      <td>0</td>\n",
       "    </tr>\n",
       "    <tr>\n",
       "      <th>149577</th>\n",
       "      <td>11415</td>\n",
       "      <td>Hyderabad</td>\n",
       "      <td>Mumbai Indians</td>\n",
       "      <td>152</td>\n",
       "      <td>2</td>\n",
       "      <td>Chennai Super Kings</td>\n",
       "      <td>Mumbai Indians</td>\n",
       "      <td>20</td>\n",
       "      <td>6</td>\n",
       "      <td>SN Thakur</td>\n",
       "      <td>...</td>\n",
       "      <td>1</td>\n",
       "      <td>lbw</td>\n",
       "      <td>NaN</td>\n",
       "      <td>157</td>\n",
       "      <td>-5</td>\n",
       "      <td>0</td>\n",
       "      <td>3</td>\n",
       "      <td>7.850000</td>\n",
       "      <td>-inf</td>\n",
       "      <td>0</td>\n",
       "    </tr>\n",
       "  </tbody>\n",
       "</table>\n",
       "<p>72413 rows × 31 columns</p>\n",
       "</div>"
      ],
      "text/plain": [
       "        match_id       city                 winner  total_runs_x  inning  \\\n",
       "124           60  Bangalore  Kolkata Knight Riders           222       2   \n",
       "125           60  Bangalore  Kolkata Knight Riders           222       2   \n",
       "126           60  Bangalore  Kolkata Knight Riders           222       2   \n",
       "127           60  Bangalore  Kolkata Knight Riders           222       2   \n",
       "128           60  Bangalore  Kolkata Knight Riders           222       2   \n",
       "...          ...        ...                    ...           ...     ...   \n",
       "149573     11415  Hyderabad         Mumbai Indians           152       2   \n",
       "149574     11415  Hyderabad         Mumbai Indians           152       2   \n",
       "149575     11415  Hyderabad         Mumbai Indians           152       2   \n",
       "149576     11415  Hyderabad         Mumbai Indians           152       2   \n",
       "149577     11415  Hyderabad         Mumbai Indians           152       2   \n",
       "\n",
       "                       batting_team           bowling_team  over  ball  \\\n",
       "124     Royal Challengers Bangalore  Kolkata Knight Riders     1     1   \n",
       "125     Royal Challengers Bangalore  Kolkata Knight Riders     1     2   \n",
       "126     Royal Challengers Bangalore  Kolkata Knight Riders     1     3   \n",
       "127     Royal Challengers Bangalore  Kolkata Knight Riders     1     4   \n",
       "128     Royal Challengers Bangalore  Kolkata Knight Riders     1     5   \n",
       "...                             ...                    ...   ...   ...   \n",
       "149573          Chennai Super Kings         Mumbai Indians    20     2   \n",
       "149574          Chennai Super Kings         Mumbai Indians    20     3   \n",
       "149575          Chennai Super Kings         Mumbai Indians    20     4   \n",
       "149576          Chennai Super Kings         Mumbai Indians    20     5   \n",
       "149577          Chennai Super Kings         Mumbai Indians    20     6   \n",
       "\n",
       "          batsman  ... player_dismissed dismissal_kind    fielder  \\\n",
       "124      R Dravid  ...                0            NaN        NaN   \n",
       "125      W Jaffer  ...                0            NaN        NaN   \n",
       "126      W Jaffer  ...                0            NaN        NaN   \n",
       "127      W Jaffer  ...                0            NaN        NaN   \n",
       "128      R Dravid  ...                0            NaN        NaN   \n",
       "...           ...  ...              ...            ...        ...   \n",
       "149573  RA Jadeja  ...                0            NaN        NaN   \n",
       "149574  SR Watson  ...                0            NaN        NaN   \n",
       "149575  SR Watson  ...                1        run out  KH Pandya   \n",
       "149576  SN Thakur  ...                0            NaN        NaN   \n",
       "149577  SN Thakur  ...                1            lbw        NaN   \n",
       "\n",
       "        current_score  runs_left  balls_left  wickets       crr        rrr  \\\n",
       "124                 1        221         119       10  6.000000  11.142857   \n",
       "125                 2        220         118       10  6.000000  11.186441   \n",
       "126                 2        220         117       10  4.000000  11.282051   \n",
       "127                 3        219         116       10  4.500000  11.327586   \n",
       "128                 4        218         115       10  4.800000  11.373913   \n",
       "...               ...        ...         ...      ...       ...        ...   \n",
       "149573            152          0           4        5  7.862069   0.000000   \n",
       "149574            154         -2           3        5  7.897436  -4.000000   \n",
       "149575            155         -3           2        4  7.881356  -9.000000   \n",
       "149576            157         -5           1        4  7.915966 -30.000000   \n",
       "149577            157         -5           0        3  7.850000       -inf   \n",
       "\n",
       "        result  \n",
       "124          0  \n",
       "125          0  \n",
       "126          0  \n",
       "127          0  \n",
       "128          0  \n",
       "...        ...  \n",
       "149573       0  \n",
       "149574       0  \n",
       "149575       0  \n",
       "149576       0  \n",
       "149577       0  \n",
       "\n",
       "[72413 rows x 31 columns]"
      ]
     },
     "execution_count": 72,
     "metadata": {},
     "output_type": "execute_result"
    }
   ],
   "source": [
    "delivery_df['result']=delivery_df.apply(result,axis=1)\n",
    "delivery_df"
   ]
  },
  {
   "cell_type": "code",
   "execution_count": 73,
   "metadata": {
    "colab": {
     "base_uri": "https://localhost:8080/",
     "height": 423
    },
    "id": "8qm_1G9yQ_gh",
    "outputId": "2a418374-85ac-4976-f1e9-3ecdb27c110d"
   },
   "outputs": [
    {
     "data": {
      "text/html": [
       "<div>\n",
       "<style scoped>\n",
       "    .dataframe tbody tr th:only-of-type {\n",
       "        vertical-align: middle;\n",
       "    }\n",
       "\n",
       "    .dataframe tbody tr th {\n",
       "        vertical-align: top;\n",
       "    }\n",
       "\n",
       "    .dataframe thead th {\n",
       "        text-align: right;\n",
       "    }\n",
       "</style>\n",
       "<table border=\"1\" class=\"dataframe\">\n",
       "  <thead>\n",
       "    <tr style=\"text-align: right;\">\n",
       "      <th></th>\n",
       "      <th>batting_team</th>\n",
       "      <th>bowling_team</th>\n",
       "      <th>city</th>\n",
       "      <th>runs_left</th>\n",
       "      <th>balls_left</th>\n",
       "      <th>wickets</th>\n",
       "      <th>total_runs_x</th>\n",
       "      <th>crr</th>\n",
       "      <th>rrr</th>\n",
       "      <th>result</th>\n",
       "    </tr>\n",
       "  </thead>\n",
       "  <tbody>\n",
       "    <tr>\n",
       "      <th>124</th>\n",
       "      <td>Royal Challengers Bangalore</td>\n",
       "      <td>Kolkata Knight Riders</td>\n",
       "      <td>Bangalore</td>\n",
       "      <td>221</td>\n",
       "      <td>119</td>\n",
       "      <td>10</td>\n",
       "      <td>222</td>\n",
       "      <td>6.000000</td>\n",
       "      <td>11.142857</td>\n",
       "      <td>0</td>\n",
       "    </tr>\n",
       "    <tr>\n",
       "      <th>125</th>\n",
       "      <td>Royal Challengers Bangalore</td>\n",
       "      <td>Kolkata Knight Riders</td>\n",
       "      <td>Bangalore</td>\n",
       "      <td>220</td>\n",
       "      <td>118</td>\n",
       "      <td>10</td>\n",
       "      <td>222</td>\n",
       "      <td>6.000000</td>\n",
       "      <td>11.186441</td>\n",
       "      <td>0</td>\n",
       "    </tr>\n",
       "    <tr>\n",
       "      <th>126</th>\n",
       "      <td>Royal Challengers Bangalore</td>\n",
       "      <td>Kolkata Knight Riders</td>\n",
       "      <td>Bangalore</td>\n",
       "      <td>220</td>\n",
       "      <td>117</td>\n",
       "      <td>10</td>\n",
       "      <td>222</td>\n",
       "      <td>4.000000</td>\n",
       "      <td>11.282051</td>\n",
       "      <td>0</td>\n",
       "    </tr>\n",
       "    <tr>\n",
       "      <th>127</th>\n",
       "      <td>Royal Challengers Bangalore</td>\n",
       "      <td>Kolkata Knight Riders</td>\n",
       "      <td>Bangalore</td>\n",
       "      <td>219</td>\n",
       "      <td>116</td>\n",
       "      <td>10</td>\n",
       "      <td>222</td>\n",
       "      <td>4.500000</td>\n",
       "      <td>11.327586</td>\n",
       "      <td>0</td>\n",
       "    </tr>\n",
       "    <tr>\n",
       "      <th>128</th>\n",
       "      <td>Royal Challengers Bangalore</td>\n",
       "      <td>Kolkata Knight Riders</td>\n",
       "      <td>Bangalore</td>\n",
       "      <td>218</td>\n",
       "      <td>115</td>\n",
       "      <td>10</td>\n",
       "      <td>222</td>\n",
       "      <td>4.800000</td>\n",
       "      <td>11.373913</td>\n",
       "      <td>0</td>\n",
       "    </tr>\n",
       "    <tr>\n",
       "      <th>...</th>\n",
       "      <td>...</td>\n",
       "      <td>...</td>\n",
       "      <td>...</td>\n",
       "      <td>...</td>\n",
       "      <td>...</td>\n",
       "      <td>...</td>\n",
       "      <td>...</td>\n",
       "      <td>...</td>\n",
       "      <td>...</td>\n",
       "      <td>...</td>\n",
       "    </tr>\n",
       "    <tr>\n",
       "      <th>149573</th>\n",
       "      <td>Chennai Super Kings</td>\n",
       "      <td>Mumbai Indians</td>\n",
       "      <td>Hyderabad</td>\n",
       "      <td>0</td>\n",
       "      <td>4</td>\n",
       "      <td>5</td>\n",
       "      <td>152</td>\n",
       "      <td>7.862069</td>\n",
       "      <td>0.000000</td>\n",
       "      <td>0</td>\n",
       "    </tr>\n",
       "    <tr>\n",
       "      <th>149574</th>\n",
       "      <td>Chennai Super Kings</td>\n",
       "      <td>Mumbai Indians</td>\n",
       "      <td>Hyderabad</td>\n",
       "      <td>-2</td>\n",
       "      <td>3</td>\n",
       "      <td>5</td>\n",
       "      <td>152</td>\n",
       "      <td>7.897436</td>\n",
       "      <td>-4.000000</td>\n",
       "      <td>0</td>\n",
       "    </tr>\n",
       "    <tr>\n",
       "      <th>149575</th>\n",
       "      <td>Chennai Super Kings</td>\n",
       "      <td>Mumbai Indians</td>\n",
       "      <td>Hyderabad</td>\n",
       "      <td>-3</td>\n",
       "      <td>2</td>\n",
       "      <td>4</td>\n",
       "      <td>152</td>\n",
       "      <td>7.881356</td>\n",
       "      <td>-9.000000</td>\n",
       "      <td>0</td>\n",
       "    </tr>\n",
       "    <tr>\n",
       "      <th>149576</th>\n",
       "      <td>Chennai Super Kings</td>\n",
       "      <td>Mumbai Indians</td>\n",
       "      <td>Hyderabad</td>\n",
       "      <td>-5</td>\n",
       "      <td>1</td>\n",
       "      <td>4</td>\n",
       "      <td>152</td>\n",
       "      <td>7.915966</td>\n",
       "      <td>-30.000000</td>\n",
       "      <td>0</td>\n",
       "    </tr>\n",
       "    <tr>\n",
       "      <th>149577</th>\n",
       "      <td>Chennai Super Kings</td>\n",
       "      <td>Mumbai Indians</td>\n",
       "      <td>Hyderabad</td>\n",
       "      <td>-5</td>\n",
       "      <td>0</td>\n",
       "      <td>3</td>\n",
       "      <td>152</td>\n",
       "      <td>7.850000</td>\n",
       "      <td>-inf</td>\n",
       "      <td>0</td>\n",
       "    </tr>\n",
       "  </tbody>\n",
       "</table>\n",
       "<p>72413 rows × 10 columns</p>\n",
       "</div>"
      ],
      "text/plain": [
       "                       batting_team           bowling_team       city  \\\n",
       "124     Royal Challengers Bangalore  Kolkata Knight Riders  Bangalore   \n",
       "125     Royal Challengers Bangalore  Kolkata Knight Riders  Bangalore   \n",
       "126     Royal Challengers Bangalore  Kolkata Knight Riders  Bangalore   \n",
       "127     Royal Challengers Bangalore  Kolkata Knight Riders  Bangalore   \n",
       "128     Royal Challengers Bangalore  Kolkata Knight Riders  Bangalore   \n",
       "...                             ...                    ...        ...   \n",
       "149573          Chennai Super Kings         Mumbai Indians  Hyderabad   \n",
       "149574          Chennai Super Kings         Mumbai Indians  Hyderabad   \n",
       "149575          Chennai Super Kings         Mumbai Indians  Hyderabad   \n",
       "149576          Chennai Super Kings         Mumbai Indians  Hyderabad   \n",
       "149577          Chennai Super Kings         Mumbai Indians  Hyderabad   \n",
       "\n",
       "        runs_left  balls_left  wickets  total_runs_x       crr        rrr  \\\n",
       "124           221         119       10           222  6.000000  11.142857   \n",
       "125           220         118       10           222  6.000000  11.186441   \n",
       "126           220         117       10           222  4.000000  11.282051   \n",
       "127           219         116       10           222  4.500000  11.327586   \n",
       "128           218         115       10           222  4.800000  11.373913   \n",
       "...           ...         ...      ...           ...       ...        ...   \n",
       "149573          0           4        5           152  7.862069   0.000000   \n",
       "149574         -2           3        5           152  7.897436  -4.000000   \n",
       "149575         -3           2        4           152  7.881356  -9.000000   \n",
       "149576         -5           1        4           152  7.915966 -30.000000   \n",
       "149577         -5           0        3           152  7.850000       -inf   \n",
       "\n",
       "        result  \n",
       "124          0  \n",
       "125          0  \n",
       "126          0  \n",
       "127          0  \n",
       "128          0  \n",
       "...        ...  \n",
       "149573       0  \n",
       "149574       0  \n",
       "149575       0  \n",
       "149576       0  \n",
       "149577       0  \n",
       "\n",
       "[72413 rows x 10 columns]"
      ]
     },
     "execution_count": 73,
     "metadata": {},
     "output_type": "execute_result"
    }
   ],
   "source": [
    "#extracting final datas\n",
    "final_df=delivery_df[['batting_team','bowling_team','city','runs_left','balls_left','wickets','total_runs_x','crr','rrr','result']]\n",
    "final_df"
   ]
  },
  {
   "cell_type": "code",
   "execution_count": 74,
   "metadata": {
    "colab": {
     "base_uri": "https://localhost:8080/",
     "height": 423
    },
    "id": "Do1roZp7Uw1Z",
    "outputId": "1758f08b-bd4a-44fb-d47c-9359e2a0cda0"
   },
   "outputs": [
    {
     "data": {
      "text/html": [
       "<div>\n",
       "<style scoped>\n",
       "    .dataframe tbody tr th:only-of-type {\n",
       "        vertical-align: middle;\n",
       "    }\n",
       "\n",
       "    .dataframe tbody tr th {\n",
       "        vertical-align: top;\n",
       "    }\n",
       "\n",
       "    .dataframe thead th {\n",
       "        text-align: right;\n",
       "    }\n",
       "</style>\n",
       "<table border=\"1\" class=\"dataframe\">\n",
       "  <thead>\n",
       "    <tr style=\"text-align: right;\">\n",
       "      <th></th>\n",
       "      <th>batting_team</th>\n",
       "      <th>bowling_team</th>\n",
       "      <th>city</th>\n",
       "      <th>runs_left</th>\n",
       "      <th>balls_left</th>\n",
       "      <th>wickets</th>\n",
       "      <th>total_runs_x</th>\n",
       "      <th>crr</th>\n",
       "      <th>rrr</th>\n",
       "      <th>result</th>\n",
       "    </tr>\n",
       "  </thead>\n",
       "  <tbody>\n",
       "    <tr>\n",
       "      <th>34279</th>\n",
       "      <td>Deccan Chargers</td>\n",
       "      <td>Mumbai Indians</td>\n",
       "      <td>Mumbai</td>\n",
       "      <td>89</td>\n",
       "      <td>37</td>\n",
       "      <td>4</td>\n",
       "      <td>178</td>\n",
       "      <td>6.433735</td>\n",
       "      <td>14.432432</td>\n",
       "      <td>0</td>\n",
       "    </tr>\n",
       "    <tr>\n",
       "      <th>63668</th>\n",
       "      <td>Delhi Daredevils</td>\n",
       "      <td>Kings XI Punjab</td>\n",
       "      <td>Dharamsala</td>\n",
       "      <td>119</td>\n",
       "      <td>100</td>\n",
       "      <td>10</td>\n",
       "      <td>141</td>\n",
       "      <td>6.600000</td>\n",
       "      <td>7.140000</td>\n",
       "      <td>1</td>\n",
       "    </tr>\n",
       "    <tr>\n",
       "      <th>19368</th>\n",
       "      <td>Kings XI Punjab</td>\n",
       "      <td>Rajasthan Royals</td>\n",
       "      <td>Durban</td>\n",
       "      <td>186</td>\n",
       "      <td>92</td>\n",
       "      <td>8</td>\n",
       "      <td>211</td>\n",
       "      <td>5.357143</td>\n",
       "      <td>12.130435</td>\n",
       "      <td>0</td>\n",
       "    </tr>\n",
       "    <tr>\n",
       "      <th>54614</th>\n",
       "      <td>Kolkata Knight Riders</td>\n",
       "      <td>Kings XI Punjab</td>\n",
       "      <td>Kolkata</td>\n",
       "      <td>2</td>\n",
       "      <td>0</td>\n",
       "      <td>3</td>\n",
       "      <td>134</td>\n",
       "      <td>6.600000</td>\n",
       "      <td>inf</td>\n",
       "      <td>0</td>\n",
       "    </tr>\n",
       "    <tr>\n",
       "      <th>38117</th>\n",
       "      <td>Royal Challengers Bangalore</td>\n",
       "      <td>Rajasthan Royals</td>\n",
       "      <td>Jaipur</td>\n",
       "      <td>39</td>\n",
       "      <td>60</td>\n",
       "      <td>8</td>\n",
       "      <td>130</td>\n",
       "      <td>9.100000</td>\n",
       "      <td>3.900000</td>\n",
       "      <td>1</td>\n",
       "    </tr>\n",
       "    <tr>\n",
       "      <th>...</th>\n",
       "      <td>...</td>\n",
       "      <td>...</td>\n",
       "      <td>...</td>\n",
       "      <td>...</td>\n",
       "      <td>...</td>\n",
       "      <td>...</td>\n",
       "      <td>...</td>\n",
       "      <td>...</td>\n",
       "      <td>...</td>\n",
       "      <td>...</td>\n",
       "    </tr>\n",
       "    <tr>\n",
       "      <th>27261</th>\n",
       "      <td>Kolkata Knight Riders</td>\n",
       "      <td>Royal Challengers Bangalore</td>\n",
       "      <td>Kolkata</td>\n",
       "      <td>14</td>\n",
       "      <td>21</td>\n",
       "      <td>8</td>\n",
       "      <td>135</td>\n",
       "      <td>7.333333</td>\n",
       "      <td>4.000000</td>\n",
       "      <td>1</td>\n",
       "    </tr>\n",
       "    <tr>\n",
       "      <th>109281</th>\n",
       "      <td>Mumbai Indians</td>\n",
       "      <td>Delhi Daredevils</td>\n",
       "      <td>Delhi</td>\n",
       "      <td>119</td>\n",
       "      <td>96</td>\n",
       "      <td>9</td>\n",
       "      <td>164</td>\n",
       "      <td>11.250000</td>\n",
       "      <td>7.437500</td>\n",
       "      <td>0</td>\n",
       "    </tr>\n",
       "    <tr>\n",
       "      <th>65458</th>\n",
       "      <td>Kolkata Knight Riders</td>\n",
       "      <td>Delhi Daredevils</td>\n",
       "      <td>Kolkata</td>\n",
       "      <td>16</td>\n",
       "      <td>18</td>\n",
       "      <td>6</td>\n",
       "      <td>128</td>\n",
       "      <td>6.588235</td>\n",
       "      <td>5.333333</td>\n",
       "      <td>1</td>\n",
       "    </tr>\n",
       "    <tr>\n",
       "      <th>104325</th>\n",
       "      <td>Rajasthan Royals</td>\n",
       "      <td>Chennai Super Kings</td>\n",
       "      <td>Chennai</td>\n",
       "      <td>82</td>\n",
       "      <td>48</td>\n",
       "      <td>6</td>\n",
       "      <td>157</td>\n",
       "      <td>6.250000</td>\n",
       "      <td>10.250000</td>\n",
       "      <td>0</td>\n",
       "    </tr>\n",
       "    <tr>\n",
       "      <th>36950</th>\n",
       "      <td>Kings XI Punjab</td>\n",
       "      <td>Delhi Daredevils</td>\n",
       "      <td>Delhi</td>\n",
       "      <td>25</td>\n",
       "      <td>33</td>\n",
       "      <td>8</td>\n",
       "      <td>111</td>\n",
       "      <td>5.931034</td>\n",
       "      <td>4.545455</td>\n",
       "      <td>1</td>\n",
       "    </tr>\n",
       "  </tbody>\n",
       "</table>\n",
       "<p>72413 rows × 10 columns</p>\n",
       "</div>"
      ],
      "text/plain": [
       "                       batting_team                 bowling_team        city  \\\n",
       "34279               Deccan Chargers               Mumbai Indians      Mumbai   \n",
       "63668              Delhi Daredevils              Kings XI Punjab  Dharamsala   \n",
       "19368               Kings XI Punjab             Rajasthan Royals      Durban   \n",
       "54614         Kolkata Knight Riders              Kings XI Punjab     Kolkata   \n",
       "38117   Royal Challengers Bangalore             Rajasthan Royals      Jaipur   \n",
       "...                             ...                          ...         ...   \n",
       "27261         Kolkata Knight Riders  Royal Challengers Bangalore     Kolkata   \n",
       "109281               Mumbai Indians             Delhi Daredevils       Delhi   \n",
       "65458         Kolkata Knight Riders             Delhi Daredevils     Kolkata   \n",
       "104325             Rajasthan Royals          Chennai Super Kings     Chennai   \n",
       "36950               Kings XI Punjab             Delhi Daredevils       Delhi   \n",
       "\n",
       "        runs_left  balls_left  wickets  total_runs_x        crr        rrr  \\\n",
       "34279          89          37        4           178   6.433735  14.432432   \n",
       "63668         119         100       10           141   6.600000   7.140000   \n",
       "19368         186          92        8           211   5.357143  12.130435   \n",
       "54614           2           0        3           134   6.600000        inf   \n",
       "38117          39          60        8           130   9.100000   3.900000   \n",
       "...           ...         ...      ...           ...        ...        ...   \n",
       "27261          14          21        8           135   7.333333   4.000000   \n",
       "109281        119          96        9           164  11.250000   7.437500   \n",
       "65458          16          18        6           128   6.588235   5.333333   \n",
       "104325         82          48        6           157   6.250000  10.250000   \n",
       "36950          25          33        8           111   5.931034   4.545455   \n",
       "\n",
       "        result  \n",
       "34279        0  \n",
       "63668        1  \n",
       "19368        0  \n",
       "54614        0  \n",
       "38117        1  \n",
       "...        ...  \n",
       "27261        1  \n",
       "109281       0  \n",
       "65458        1  \n",
       "104325       0  \n",
       "36950        1  \n",
       "\n",
       "[72413 rows x 10 columns]"
      ]
     },
     "execution_count": 74,
     "metadata": {},
     "output_type": "execute_result"
    }
   ],
   "source": [
    "final_df.sample(final_df.shape[0])"
   ]
  },
  {
   "cell_type": "code",
   "execution_count": 75,
   "metadata": {
    "colab": {
     "base_uri": "https://localhost:8080/",
     "height": 81
    },
    "id": "QWBB9UqlRnGV",
    "outputId": "311ce141-791a-4e5a-9369-54df424af81a"
   },
   "outputs": [
    {
     "data": {
      "text/html": [
       "<div>\n",
       "<style scoped>\n",
       "    .dataframe tbody tr th:only-of-type {\n",
       "        vertical-align: middle;\n",
       "    }\n",
       "\n",
       "    .dataframe tbody tr th {\n",
       "        vertical-align: top;\n",
       "    }\n",
       "\n",
       "    .dataframe thead th {\n",
       "        text-align: right;\n",
       "    }\n",
       "</style>\n",
       "<table border=\"1\" class=\"dataframe\">\n",
       "  <thead>\n",
       "    <tr style=\"text-align: right;\">\n",
       "      <th></th>\n",
       "      <th>batting_team</th>\n",
       "      <th>bowling_team</th>\n",
       "      <th>city</th>\n",
       "      <th>runs_left</th>\n",
       "      <th>balls_left</th>\n",
       "      <th>wickets</th>\n",
       "      <th>total_runs_x</th>\n",
       "      <th>crr</th>\n",
       "      <th>rrr</th>\n",
       "      <th>result</th>\n",
       "    </tr>\n",
       "  </thead>\n",
       "  <tbody>\n",
       "    <tr>\n",
       "      <th>28393</th>\n",
       "      <td>Delhi Daredevils</td>\n",
       "      <td>Mumbai Indians</td>\n",
       "      <td>Delhi</td>\n",
       "      <td>192</td>\n",
       "      <td>107</td>\n",
       "      <td>10</td>\n",
       "      <td>218</td>\n",
       "      <td>12.0</td>\n",
       "      <td>10.766355</td>\n",
       "      <td>0</td>\n",
       "    </tr>\n",
       "  </tbody>\n",
       "</table>\n",
       "</div>"
      ],
      "text/plain": [
       "           batting_team    bowling_team   city  runs_left  balls_left  \\\n",
       "28393  Delhi Daredevils  Mumbai Indians  Delhi        192         107   \n",
       "\n",
       "       wickets  total_runs_x   crr        rrr  result  \n",
       "28393       10           218  12.0  10.766355       0  "
      ]
     },
     "execution_count": 75,
     "metadata": {},
     "output_type": "execute_result"
    }
   ],
   "source": [
    "final_df.sample()"
   ]
  },
  {
   "cell_type": "code",
   "execution_count": 76,
   "metadata": {
    "colab": {
     "base_uri": "https://localhost:8080/"
    },
    "id": "aqbl_f_zUwoJ",
    "outputId": "ed0081b5-80ea-45f1-8a96-430f6d4d8f17"
   },
   "outputs": [
    {
     "name": "stderr",
     "output_type": "stream",
     "text": [
      "C:\\Python\\Anaconda\\lib\\site-packages\\pandas\\util\\_decorators.py:311: SettingWithCopyWarning: \n",
      "A value is trying to be set on a copy of a slice from a DataFrame\n",
      "\n",
      "See the caveats in the documentation: https://pandas.pydata.org/pandas-docs/stable/user_guide/indexing.html#returning-a-view-versus-a-copy\n",
      "  return func(*args, **kwargs)\n"
     ]
    }
   ],
   "source": [
    "final_df.dropna(inplace= True)"
   ]
  },
  {
   "cell_type": "code",
   "execution_count": 77,
   "metadata": {
    "id": "ihtgCkWahK3W"
   },
   "outputs": [],
   "source": [
    "final_df=final_df[final_df['balls_left']!=0]"
   ]
  },
  {
   "cell_type": "code",
   "execution_count": 78,
   "metadata": {
    "colab": {
     "base_uri": "https://localhost:8080/"
    },
    "id": "RU0z2aZyUweB",
    "outputId": "acb79f6d-6f3c-4fd8-9a20-9d3b8dd12d8b"
   },
   "outputs": [],
   "source": [
    "#pip install sklearn"
   ]
  },
  {
   "cell_type": "code",
   "execution_count": 79,
   "metadata": {
    "id": "_agI0JiSUwTx"
   },
   "outputs": [],
   "source": [
    "X=final_df.iloc[:,:-1]\n",
    "y=final_df.iloc[:,-1]\n",
    "from sklearn.model_selection import train_test_split\n",
    "X_train,X_test,y_train,y_test=train_test_split(X,y,test_size=0.2,random_state=42)"
   ]
  },
  {
   "cell_type": "code",
   "execution_count": 80,
   "metadata": {
    "colab": {
     "base_uri": "https://localhost:8080/",
     "height": 423
    },
    "id": "jZrlqxZlUwJy",
    "outputId": "c991d188-96d4-48d3-dfee-278241f1b8a8"
   },
   "outputs": [
    {
     "data": {
      "text/html": [
       "<div>\n",
       "<style scoped>\n",
       "    .dataframe tbody tr th:only-of-type {\n",
       "        vertical-align: middle;\n",
       "    }\n",
       "\n",
       "    .dataframe tbody tr th {\n",
       "        vertical-align: top;\n",
       "    }\n",
       "\n",
       "    .dataframe thead th {\n",
       "        text-align: right;\n",
       "    }\n",
       "</style>\n",
       "<table border=\"1\" class=\"dataframe\">\n",
       "  <thead>\n",
       "    <tr style=\"text-align: right;\">\n",
       "      <th></th>\n",
       "      <th>batting_team</th>\n",
       "      <th>bowling_team</th>\n",
       "      <th>city</th>\n",
       "      <th>runs_left</th>\n",
       "      <th>balls_left</th>\n",
       "      <th>wickets</th>\n",
       "      <th>total_runs_x</th>\n",
       "      <th>crr</th>\n",
       "      <th>rrr</th>\n",
       "    </tr>\n",
       "  </thead>\n",
       "  <tbody>\n",
       "    <tr>\n",
       "      <th>45468</th>\n",
       "      <td>Delhi Daredevils</td>\n",
       "      <td>Kolkata Knight Riders</td>\n",
       "      <td>Delhi</td>\n",
       "      <td>137</td>\n",
       "      <td>112</td>\n",
       "      <td>10</td>\n",
       "      <td>148</td>\n",
       "      <td>8.250000</td>\n",
       "      <td>7.339286</td>\n",
       "    </tr>\n",
       "    <tr>\n",
       "      <th>28438</th>\n",
       "      <td>Delhi Daredevils</td>\n",
       "      <td>Mumbai Indians</td>\n",
       "      <td>Delhi</td>\n",
       "      <td>136</td>\n",
       "      <td>63</td>\n",
       "      <td>5</td>\n",
       "      <td>218</td>\n",
       "      <td>8.631579</td>\n",
       "      <td>12.952381</td>\n",
       "    </tr>\n",
       "    <tr>\n",
       "      <th>98556</th>\n",
       "      <td>Royal Challengers Bangalore</td>\n",
       "      <td>Chennai Super Kings</td>\n",
       "      <td>Bangalore</td>\n",
       "      <td>82</td>\n",
       "      <td>36</td>\n",
       "      <td>5</td>\n",
       "      <td>181</td>\n",
       "      <td>7.071429</td>\n",
       "      <td>13.666667</td>\n",
       "    </tr>\n",
       "    <tr>\n",
       "      <th>633</th>\n",
       "      <td>Delhi Daredevils</td>\n",
       "      <td>Rajasthan Royals</td>\n",
       "      <td>Delhi</td>\n",
       "      <td>73</td>\n",
       "      <td>83</td>\n",
       "      <td>9</td>\n",
       "      <td>129</td>\n",
       "      <td>9.081081</td>\n",
       "      <td>5.277108</td>\n",
       "    </tr>\n",
       "    <tr>\n",
       "      <th>81364</th>\n",
       "      <td>Delhi Daredevils</td>\n",
       "      <td>Chennai Super Kings</td>\n",
       "      <td>Abu Dhabi</td>\n",
       "      <td>166</td>\n",
       "      <td>103</td>\n",
       "      <td>9</td>\n",
       "      <td>177</td>\n",
       "      <td>3.882353</td>\n",
       "      <td>9.669903</td>\n",
       "    </tr>\n",
       "    <tr>\n",
       "      <th>...</th>\n",
       "      <td>...</td>\n",
       "      <td>...</td>\n",
       "      <td>...</td>\n",
       "      <td>...</td>\n",
       "      <td>...</td>\n",
       "      <td>...</td>\n",
       "      <td>...</td>\n",
       "      <td>...</td>\n",
       "      <td>...</td>\n",
       "    </tr>\n",
       "    <tr>\n",
       "      <th>77155</th>\n",
       "      <td>Delhi Daredevils</td>\n",
       "      <td>Chennai Super Kings</td>\n",
       "      <td>Chennai</td>\n",
       "      <td>140</td>\n",
       "      <td>96</td>\n",
       "      <td>9</td>\n",
       "      <td>168</td>\n",
       "      <td>7.000000</td>\n",
       "      <td>8.750000</td>\n",
       "    </tr>\n",
       "    <tr>\n",
       "      <th>13150</th>\n",
       "      <td>Rajasthan Royals</td>\n",
       "      <td>Chennai Super Kings</td>\n",
       "      <td>Mumbai</td>\n",
       "      <td>57</td>\n",
       "      <td>37</td>\n",
       "      <td>7</td>\n",
       "      <td>163</td>\n",
       "      <td>7.662651</td>\n",
       "      <td>9.243243</td>\n",
       "    </tr>\n",
       "    <tr>\n",
       "      <th>113881</th>\n",
       "      <td>Royal Challengers Bangalore</td>\n",
       "      <td>Delhi Daredevils</td>\n",
       "      <td>Raipur</td>\n",
       "      <td>84</td>\n",
       "      <td>79</td>\n",
       "      <td>8</td>\n",
       "      <td>138</td>\n",
       "      <td>7.902439</td>\n",
       "      <td>6.379747</td>\n",
       "    </tr>\n",
       "    <tr>\n",
       "      <th>1843</th>\n",
       "      <td>Mumbai Indians</td>\n",
       "      <td>Chennai Super Kings</td>\n",
       "      <td>Chennai</td>\n",
       "      <td>78</td>\n",
       "      <td>34</td>\n",
       "      <td>5</td>\n",
       "      <td>208</td>\n",
       "      <td>9.069767</td>\n",
       "      <td>13.764706</td>\n",
       "    </tr>\n",
       "    <tr>\n",
       "      <th>32833</th>\n",
       "      <td>Mumbai Indians</td>\n",
       "      <td>Kings XI Punjab</td>\n",
       "      <td>Mumbai</td>\n",
       "      <td>40</td>\n",
       "      <td>22</td>\n",
       "      <td>6</td>\n",
       "      <td>163</td>\n",
       "      <td>7.530612</td>\n",
       "      <td>10.909091</td>\n",
       "    </tr>\n",
       "  </tbody>\n",
       "</table>\n",
       "<p>57737 rows × 9 columns</p>\n",
       "</div>"
      ],
      "text/plain": [
       "                       batting_team           bowling_team       city  \\\n",
       "45468              Delhi Daredevils  Kolkata Knight Riders      Delhi   \n",
       "28438              Delhi Daredevils         Mumbai Indians      Delhi   \n",
       "98556   Royal Challengers Bangalore    Chennai Super Kings  Bangalore   \n",
       "633                Delhi Daredevils       Rajasthan Royals      Delhi   \n",
       "81364              Delhi Daredevils    Chennai Super Kings  Abu Dhabi   \n",
       "...                             ...                    ...        ...   \n",
       "77155              Delhi Daredevils    Chennai Super Kings    Chennai   \n",
       "13150              Rajasthan Royals    Chennai Super Kings     Mumbai   \n",
       "113881  Royal Challengers Bangalore       Delhi Daredevils     Raipur   \n",
       "1843                 Mumbai Indians    Chennai Super Kings    Chennai   \n",
       "32833                Mumbai Indians        Kings XI Punjab     Mumbai   \n",
       "\n",
       "        runs_left  balls_left  wickets  total_runs_x       crr        rrr  \n",
       "45468         137         112       10           148  8.250000   7.339286  \n",
       "28438         136          63        5           218  8.631579  12.952381  \n",
       "98556          82          36        5           181  7.071429  13.666667  \n",
       "633            73          83        9           129  9.081081   5.277108  \n",
       "81364         166         103        9           177  3.882353   9.669903  \n",
       "...           ...         ...      ...           ...       ...        ...  \n",
       "77155         140          96        9           168  7.000000   8.750000  \n",
       "13150          57          37        7           163  7.662651   9.243243  \n",
       "113881         84          79        8           138  7.902439   6.379747  \n",
       "1843           78          34        5           208  9.069767  13.764706  \n",
       "32833          40          22        6           163  7.530612  10.909091  \n",
       "\n",
       "[57737 rows x 9 columns]"
      ]
     },
     "execution_count": 80,
     "metadata": {},
     "output_type": "execute_result"
    }
   ],
   "source": [
    "X_train"
   ]
  },
  {
   "cell_type": "code",
   "execution_count": 81,
   "metadata": {
    "id": "istIw9quQ_Ma"
   },
   "outputs": [],
   "source": [
    "from sklearn.compose import ColumnTransformer\n",
    "from sklearn.preprocessing import OneHotEncoder\n",
    "trf= ColumnTransformer([\n",
    "     ('trf',OneHotEncoder(sparse=False,drop='first'),['batting_team','bowling_team','city'])\n",
    "     ]\n",
    "     ,remainder='passthrough')"
   ]
  },
  {
   "cell_type": "code",
   "execution_count": 82,
   "metadata": {
    "id": "sVgvECCQkZwy"
   },
   "outputs": [],
   "source": [
    "from sklearn.linear_model import LogisticRegression\n",
    "#from sklearn.ensemble import RandomForestClassifier\n",
    "from sklearn.pipeline import Pipeline\n",
    "pipe = Pipeline(steps=[\n",
    "                       ('step1',trf),\n",
    "                       ('step2',LogisticRegression(solver ='liblinear'))\n",
    "])"
   ]
  },
  {
   "cell_type": "code",
   "execution_count": 83,
   "metadata": {
    "colab": {
     "base_uri": "https://localhost:8080/"
    },
    "id": "dotW0mW1kZJw",
    "outputId": "8f0df423-d29e-491a-94a1-408428a09a8c"
   },
   "outputs": [
    {
     "data": {
      "text/html": [
       "<style>#sk-container-id-1 {color: black;background-color: white;}#sk-container-id-1 pre{padding: 0;}#sk-container-id-1 div.sk-toggleable {background-color: white;}#sk-container-id-1 label.sk-toggleable__label {cursor: pointer;display: block;width: 100%;margin-bottom: 0;padding: 0.3em;box-sizing: border-box;text-align: center;}#sk-container-id-1 label.sk-toggleable__label-arrow:before {content: \"▸\";float: left;margin-right: 0.25em;color: #696969;}#sk-container-id-1 label.sk-toggleable__label-arrow:hover:before {color: black;}#sk-container-id-1 div.sk-estimator:hover label.sk-toggleable__label-arrow:before {color: black;}#sk-container-id-1 div.sk-toggleable__content {max-height: 0;max-width: 0;overflow: hidden;text-align: left;background-color: #f0f8ff;}#sk-container-id-1 div.sk-toggleable__content pre {margin: 0.2em;color: black;border-radius: 0.25em;background-color: #f0f8ff;}#sk-container-id-1 input.sk-toggleable__control:checked~div.sk-toggleable__content {max-height: 200px;max-width: 100%;overflow: auto;}#sk-container-id-1 input.sk-toggleable__control:checked~label.sk-toggleable__label-arrow:before {content: \"▾\";}#sk-container-id-1 div.sk-estimator input.sk-toggleable__control:checked~label.sk-toggleable__label {background-color: #d4ebff;}#sk-container-id-1 div.sk-label input.sk-toggleable__control:checked~label.sk-toggleable__label {background-color: #d4ebff;}#sk-container-id-1 input.sk-hidden--visually {border: 0;clip: rect(1px 1px 1px 1px);clip: rect(1px, 1px, 1px, 1px);height: 1px;margin: -1px;overflow: hidden;padding: 0;position: absolute;width: 1px;}#sk-container-id-1 div.sk-estimator {font-family: monospace;background-color: #f0f8ff;border: 1px dotted black;border-radius: 0.25em;box-sizing: border-box;margin-bottom: 0.5em;}#sk-container-id-1 div.sk-estimator:hover {background-color: #d4ebff;}#sk-container-id-1 div.sk-parallel-item::after {content: \"\";width: 100%;border-bottom: 1px solid gray;flex-grow: 1;}#sk-container-id-1 div.sk-label:hover label.sk-toggleable__label {background-color: #d4ebff;}#sk-container-id-1 div.sk-serial::before {content: \"\";position: absolute;border-left: 1px solid gray;box-sizing: border-box;top: 0;bottom: 0;left: 50%;z-index: 0;}#sk-container-id-1 div.sk-serial {display: flex;flex-direction: column;align-items: center;background-color: white;padding-right: 0.2em;padding-left: 0.2em;position: relative;}#sk-container-id-1 div.sk-item {position: relative;z-index: 1;}#sk-container-id-1 div.sk-parallel {display: flex;align-items: stretch;justify-content: center;background-color: white;position: relative;}#sk-container-id-1 div.sk-item::before, #sk-container-id-1 div.sk-parallel-item::before {content: \"\";position: absolute;border-left: 1px solid gray;box-sizing: border-box;top: 0;bottom: 0;left: 50%;z-index: -1;}#sk-container-id-1 div.sk-parallel-item {display: flex;flex-direction: column;z-index: 1;position: relative;background-color: white;}#sk-container-id-1 div.sk-parallel-item:first-child::after {align-self: flex-end;width: 50%;}#sk-container-id-1 div.sk-parallel-item:last-child::after {align-self: flex-start;width: 50%;}#sk-container-id-1 div.sk-parallel-item:only-child::after {width: 0;}#sk-container-id-1 div.sk-dashed-wrapped {border: 1px dashed gray;margin: 0 0.4em 0.5em 0.4em;box-sizing: border-box;padding-bottom: 0.4em;background-color: white;}#sk-container-id-1 div.sk-label label {font-family: monospace;font-weight: bold;display: inline-block;line-height: 1.2em;}#sk-container-id-1 div.sk-label-container {text-align: center;}#sk-container-id-1 div.sk-container {/* jupyter's `normalize.less` sets `[hidden] { display: none; }` but bootstrap.min.css set `[hidden] { display: none !important; }` so we also need the `!important` here to be able to override the default hidden behavior on the sphinx rendered scikit-learn.org. See: https://github.com/scikit-learn/scikit-learn/issues/21755 */display: inline-block !important;position: relative;}#sk-container-id-1 div.sk-text-repr-fallback {display: none;}</style><div id=\"sk-container-id-1\" class=\"sk-top-container\"><div class=\"sk-text-repr-fallback\"><pre>Pipeline(steps=[(&#x27;step1&#x27;,\n",
       "                 ColumnTransformer(remainder=&#x27;passthrough&#x27;,\n",
       "                                   transformers=[(&#x27;trf&#x27;,\n",
       "                                                  OneHotEncoder(drop=&#x27;first&#x27;,\n",
       "                                                                sparse=False),\n",
       "                                                  [&#x27;batting_team&#x27;,\n",
       "                                                   &#x27;bowling_team&#x27;, &#x27;city&#x27;])])),\n",
       "                (&#x27;step2&#x27;, LogisticRegression(solver=&#x27;liblinear&#x27;))])</pre><b>In a Jupyter environment, please rerun this cell to show the HTML representation or trust the notebook. <br />On GitHub, the HTML representation is unable to render, please try loading this page with nbviewer.org.</b></div><div class=\"sk-container\" hidden><div class=\"sk-item sk-dashed-wrapped\"><div class=\"sk-label-container\"><div class=\"sk-label sk-toggleable\"><input class=\"sk-toggleable__control sk-hidden--visually\" id=\"sk-estimator-id-1\" type=\"checkbox\" ><label for=\"sk-estimator-id-1\" class=\"sk-toggleable__label sk-toggleable__label-arrow\">Pipeline</label><div class=\"sk-toggleable__content\"><pre>Pipeline(steps=[(&#x27;step1&#x27;,\n",
       "                 ColumnTransformer(remainder=&#x27;passthrough&#x27;,\n",
       "                                   transformers=[(&#x27;trf&#x27;,\n",
       "                                                  OneHotEncoder(drop=&#x27;first&#x27;,\n",
       "                                                                sparse=False),\n",
       "                                                  [&#x27;batting_team&#x27;,\n",
       "                                                   &#x27;bowling_team&#x27;, &#x27;city&#x27;])])),\n",
       "                (&#x27;step2&#x27;, LogisticRegression(solver=&#x27;liblinear&#x27;))])</pre></div></div></div><div class=\"sk-serial\"><div class=\"sk-item sk-dashed-wrapped\"><div class=\"sk-label-container\"><div class=\"sk-label sk-toggleable\"><input class=\"sk-toggleable__control sk-hidden--visually\" id=\"sk-estimator-id-2\" type=\"checkbox\" ><label for=\"sk-estimator-id-2\" class=\"sk-toggleable__label sk-toggleable__label-arrow\">step1: ColumnTransformer</label><div class=\"sk-toggleable__content\"><pre>ColumnTransformer(remainder=&#x27;passthrough&#x27;,\n",
       "                  transformers=[(&#x27;trf&#x27;,\n",
       "                                 OneHotEncoder(drop=&#x27;first&#x27;, sparse=False),\n",
       "                                 [&#x27;batting_team&#x27;, &#x27;bowling_team&#x27;, &#x27;city&#x27;])])</pre></div></div></div><div class=\"sk-parallel\"><div class=\"sk-parallel-item\"><div class=\"sk-item\"><div class=\"sk-label-container\"><div class=\"sk-label sk-toggleable\"><input class=\"sk-toggleable__control sk-hidden--visually\" id=\"sk-estimator-id-3\" type=\"checkbox\" ><label for=\"sk-estimator-id-3\" class=\"sk-toggleable__label sk-toggleable__label-arrow\">trf</label><div class=\"sk-toggleable__content\"><pre>[&#x27;batting_team&#x27;, &#x27;bowling_team&#x27;, &#x27;city&#x27;]</pre></div></div></div><div class=\"sk-serial\"><div class=\"sk-item\"><div class=\"sk-estimator sk-toggleable\"><input class=\"sk-toggleable__control sk-hidden--visually\" id=\"sk-estimator-id-4\" type=\"checkbox\" ><label for=\"sk-estimator-id-4\" class=\"sk-toggleable__label sk-toggleable__label-arrow\">OneHotEncoder</label><div class=\"sk-toggleable__content\"><pre>OneHotEncoder(drop=&#x27;first&#x27;, sparse=False)</pre></div></div></div></div></div></div><div class=\"sk-parallel-item\"><div class=\"sk-item\"><div class=\"sk-label-container\"><div class=\"sk-label sk-toggleable\"><input class=\"sk-toggleable__control sk-hidden--visually\" id=\"sk-estimator-id-5\" type=\"checkbox\" ><label for=\"sk-estimator-id-5\" class=\"sk-toggleable__label sk-toggleable__label-arrow\">remainder</label><div class=\"sk-toggleable__content\"><pre>[&#x27;runs_left&#x27;, &#x27;balls_left&#x27;, &#x27;wickets&#x27;, &#x27;total_runs_x&#x27;, &#x27;crr&#x27;, &#x27;rrr&#x27;]</pre></div></div></div><div class=\"sk-serial\"><div class=\"sk-item\"><div class=\"sk-estimator sk-toggleable\"><input class=\"sk-toggleable__control sk-hidden--visually\" id=\"sk-estimator-id-6\" type=\"checkbox\" ><label for=\"sk-estimator-id-6\" class=\"sk-toggleable__label sk-toggleable__label-arrow\">passthrough</label><div class=\"sk-toggleable__content\"><pre>passthrough</pre></div></div></div></div></div></div></div></div><div class=\"sk-item\"><div class=\"sk-estimator sk-toggleable\"><input class=\"sk-toggleable__control sk-hidden--visually\" id=\"sk-estimator-id-7\" type=\"checkbox\" ><label for=\"sk-estimator-id-7\" class=\"sk-toggleable__label sk-toggleable__label-arrow\">LogisticRegression</label><div class=\"sk-toggleable__content\"><pre>LogisticRegression(solver=&#x27;liblinear&#x27;)</pre></div></div></div></div></div></div></div>"
      ],
      "text/plain": [
       "Pipeline(steps=[('step1',\n",
       "                 ColumnTransformer(remainder='passthrough',\n",
       "                                   transformers=[('trf',\n",
       "                                                  OneHotEncoder(drop='first',\n",
       "                                                                sparse=False),\n",
       "                                                  ['batting_team',\n",
       "                                                   'bowling_team', 'city'])])),\n",
       "                ('step2', LogisticRegression(solver='liblinear'))])"
      ]
     },
     "execution_count": 83,
     "metadata": {},
     "output_type": "execute_result"
    }
   ],
   "source": [
    "pipe.fit(X_train,y_train)"
   ]
  },
  {
   "cell_type": "code",
   "execution_count": 84,
   "metadata": {
    "id": "BkYTlXh9kYZI"
   },
   "outputs": [],
   "source": [
    "y_pred = pipe.predict(X_test)"
   ]
  },
  {
   "cell_type": "code",
   "execution_count": 85,
   "metadata": {
    "colab": {
     "base_uri": "https://localhost:8080/"
    },
    "id": "9LhRboVCkYGI",
    "outputId": "bcac19f1-24b7-4a49-8a60-f77f4fed1cc4"
   },
   "outputs": [
    {
     "data": {
      "text/plain": [
       "0.802355386214063"
      ]
     },
     "execution_count": 85,
     "metadata": {},
     "output_type": "execute_result"
    }
   ],
   "source": [
    "from sklearn.metrics import accuracy_score\n",
    "accuracy_score(y_test,y_pred)"
   ]
  },
  {
   "cell_type": "code",
   "execution_count": 86,
   "metadata": {
    "colab": {
     "base_uri": "https://localhost:8080/"
    },
    "id": "myHkChw9aBVU",
    "outputId": "d7157a7e-e1f6-4815-dd9f-17ad9e251c79"
   },
   "outputs": [
    {
     "data": {
      "text/plain": [
       "array([0.28676256, 0.71323744])"
      ]
     },
     "execution_count": 86,
     "metadata": {},
     "output_type": "execute_result"
    }
   ],
   "source": [
    "pipe.predict_proba(X_test)[10]"
   ]
  },
  {
   "cell_type": "code",
   "execution_count": 87,
   "metadata": {
    "id": "wmuaIRsGM3kc"
   },
   "outputs": [],
   "source": [
    "import pickle\n",
    "pickle.dump(pipe,open('pipe.pkl','wb'))"
   ]
  }
 ],
 "metadata": {
  "colab": {
   "collapsed_sections": [
    "ELTybdPaxJqh",
    "Rc--YmxvfTPf"
   ],
   "name": "B2T10.ipynb",
   "provenance": []
  },
  "kernelspec": {
   "display_name": "Python 3 (ipykernel)",
   "language": "python",
   "name": "python3"
  },
  "language_info": {
   "codemirror_mode": {
    "name": "ipython",
    "version": 3
   },
   "file_extension": ".py",
   "mimetype": "text/x-python",
   "name": "python",
   "nbconvert_exporter": "python",
   "pygments_lexer": "ipython3",
   "version": "3.9.7"
  }
 },
 "nbformat": 4,
 "nbformat_minor": 1
}
